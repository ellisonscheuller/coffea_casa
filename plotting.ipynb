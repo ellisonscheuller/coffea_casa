{
 "cells": [
  {
   "cell_type": "code",
   "execution_count": 227,
   "id": "f87f2bbc-6568-49e9-8662-5bda0e7089bc",
   "metadata": {},
   "outputs": [],
   "source": [
    "from coffea.util import load\n",
    "import datetime\n",
    "import matplotlib.pyplot as plt\n",
    "import mplhep as hep\n",
    "import yaml\n",
    "import dill\n",
    "import pandas as pd\n",
    "plt.style.use('seaborn-v0_8-white')\n",
    "plt.rcParams['figure.dpi'] = 100#200 # Change for higher resolution\n",
    "hep.style.use('CMS')\n",
    "\n",
    "import numpy as np\n",
    "#from axo_studies import hist_selection, reco_objects, l1_objects\n",
    "import utils"
   ]
  },
  {
   "cell_type": "code",
   "execution_count": 294,
   "id": "805ac800-4fab-4df8-a024-4105c43a6795",
   "metadata": {},
   "outputs": [
    {
     "data": {
      "text/plain": [
       "{'2024I_test': {'cutflow': [{'start': 159091},\n",
       "   {'DST_PFScouting_AXONominal': 109850},\n",
       "   {'DST_PFScouting_AXOTight': 66645}],\n",
       "  'hists': {'anomaly_score': Hist(\n",
       "     StrCategory(['2024I_test'], growth=True, name='dataset', label='Primary dataset'),\n",
       "     StrCategory(['DST_PFScouting_AXONominal', 'DST_PFScouting_AXOTight'], growth=True, name='trigger', label='Trigger'),\n",
       "     Regular(100, 0, 4000, name='anomaly_score', label='Anomaly Score'),\n",
       "     storage=Weight()) # Sum: WeightedSum(value=176495, variance=176495)},\n",
       "  'trigger': ['DST_PFScouting_AXONominal', 'DST_PFScouting_AXOTight']}}"
      ]
     },
     "execution_count": 294,
     "metadata": {},
     "output_type": "execute_result"
    }
   ],
   "source": [
    "config_filename = \"config.yaml\"\n",
    "plotting_config_filename = \"plotting_config.yaml\"\n",
    "                                            \n",
    "with open(config_filename, 'r') as stream:\n",
    "    config = yaml.safe_load(stream)\n",
    "with open(plotting_config_filename, 'r') as stream:\n",
    "    plotting_config = yaml.safe_load(stream)\n",
    "    \n",
    "dataset = config[\"dataset_name\"]\n",
    "todays_date = datetime.date.today().strftime('%Y%m%d')\n",
    "\n",
    "hist_result_filename = f'hist_result_{dataset}_{todaysDate}.pkl'          # file name containing histograms\n",
    " # load file with histograms\n",
    "with open(hist_result_filename, 'rb') as file:\n",
    "    hist_result = dill.load(file)\n",
    "#hist_result = load(hist_result_filename)\n",
    "hist_result"
   ]
  },
  {
   "cell_type": "code",
   "execution_count": 283,
   "id": "49fd9010-9115-4648-924a-44cfa157605a",
   "metadata": {},
   "outputs": [
    {
     "data": {
      "text/html": [
       "<div>\n",
       "<style scoped>\n",
       "    .dataframe tbody tr th:only-of-type {\n",
       "        vertical-align: middle;\n",
       "    }\n",
       "\n",
       "    .dataframe tbody tr th {\n",
       "        vertical-align: top;\n",
       "    }\n",
       "\n",
       "    .dataframe thead th {\n",
       "        text-align: right;\n",
       "    }\n",
       "</style>\n",
       "<table border=\"1\" class=\"dataframe\">\n",
       "  <thead>\n",
       "    <tr style=\"text-align: right;\">\n",
       "      <th></th>\n",
       "      <th>Events</th>\n",
       "    </tr>\n",
       "  </thead>\n",
       "  <tbody>\n",
       "    <tr>\n",
       "      <th>start</th>\n",
       "      <td>159091</td>\n",
       "    </tr>\n",
       "    <tr>\n",
       "      <th>DST_PFScouting_AXONominal</th>\n",
       "      <td>109850</td>\n",
       "    </tr>\n",
       "    <tr>\n",
       "      <th>DST_PFScouting_AXOTight</th>\n",
       "      <td>66645</td>\n",
       "    </tr>\n",
       "  </tbody>\n",
       "</table>\n",
       "</div>"
      ],
      "text/plain": [
       "                           Events\n",
       "start                      159091\n",
       "DST_PFScouting_AXONominal  109850\n",
       "DST_PFScouting_AXOTight     66645"
      ]
     },
     "execution_count": 283,
     "metadata": {},
     "output_type": "execute_result"
    }
   ],
   "source": [
    "cutflow = hist_result[dataset]['cutflow']\n",
    "# Convert list of dictionaries to a single dictionary (merge entries)\n",
    "cutflow_merged = {k: v for d in cutflow for k, v in d.items()}\n",
    "# Create a DataFrame with one row\n",
    "df = pd.DataFrame.from_dict(cutflow_merged,orient=\"index\", columns=[\"Events\"])\n",
    "df"
   ]
  },
  {
   "cell_type": "code",
   "execution_count": 284,
   "id": "7db8cfd2-a021-4883-840e-1122a104108d",
   "metadata": {},
   "outputs": [
    {
     "name": "stdout",
     "output_type": "stream",
     "text": [
      "Available histograms:\n",
      "- anomaly_score\n",
      "\n",
      "Available triggers:\n",
      "- DST_PFScouting_AXONominal\n",
      "- DST_PFScouting_AXOTight\n"
     ]
    }
   ],
   "source": [
    "print(\"Available histograms:\")\n",
    "for hist in hist_result[dataset]['hists']:\n",
    "    print(\"- \"+hist)\n",
    "    \n",
    "print(\"\\nAvailable triggers:\")  \n",
    "for trigger in hist_result[dataset]['trigger']:\n",
    "    print(\"- \"+trigger)"
   ]
  },
  {
   "cell_type": "code",
   "execution_count": 285,
   "id": "4eb074d7-d75c-4882-863b-8216b3bf2e2d",
   "metadata": {},
   "outputs": [
    {
     "data": {
      "text/plain": [
       "{'2024I_test': {'cutflow': [{'start': 159091},\n",
       "   {'DST_PFScouting_AXONominal': 109850},\n",
       "   {'DST_PFScouting_AXOTight': 66645}],\n",
       "  'hists': {'anomaly_score': Hist(\n",
       "     StrCategory(['2024I_test'], growth=True, name='dataset', label='Primary dataset'),\n",
       "     StrCategory(['DST_PFScouting_AXONominal', 'DST_PFScouting_AXOTight'], growth=True, name='trigger', label='Trigger'),\n",
       "     Regular(100, 0, 4000, name='anomaly_score', label='Anomaly Score'),\n",
       "     storage=Weight()) # Sum: WeightedSum(value=176495, variance=176495)},\n",
       "  'trigger': ['DST_PFScouting_AXONominal', 'DST_PFScouting_AXOTight']}}"
      ]
     },
     "execution_count": 285,
     "metadata": {},
     "output_type": "execute_result"
    }
   ],
   "source": [
    "hist_result"
   ]
  },
  {
   "cell_type": "code",
   "execution_count": 286,
   "id": "19675aea-07f0-46ac-87a2-eb0483208802",
   "metadata": {},
   "outputs": [
    {
     "data": {
      "text/html": [
       "<html>\n",
       "<div style=\"display:flex; align-items:center;\">\n",
       "<div style=\"width:290px;\">\n",
       "<svg xmlns=\"http://www.w3.org/2000/svg\" viewBox=\"-20 -270 290 290\">\n",
       "<text text-anchor=\"middle\" x=\"0\" y=\"13\" style=\"fill:currentColor;\">\n",
       "0\n",
       "</text>\n",
       "<text text-anchor=\"middle\" x=\"250\" y=\"13\" style=\"fill:currentColor;\">\n",
       "1\n",
       "</text>\n",
       "<text text-anchor=\"middle\" x=\"-10\" y=\"0\" style=\"fill:currentColor;\">\n",
       "0\n",
       "</text>\n",
       "<text text-anchor=\"middle\" x=\"-10\" y=\"-250\" style=\"fill:currentColor;\">\n",
       "2\n",
       "</text>\n",
       "<text text-anchor=\"middle\" x=\"125.0\" y=\"13\" style=\"fill:currentColor;\">\n",
       "Primary dataset\n",
       "</text>\n",
       "<text text-anchor=\"middle\" x=\"-10\" y=\"-125.0\" transform=\"rotate(-90,-10,-125.0)\" style=\"fill:currentColor;\">\n",
       "Trigger\n",
       "</text>\n",
       "<rect x=\"0.0\" y=\"-125.0\" width=\"250.0\" height=\"125.0\" opacity=\"1.0\" fill=\"currentColor\" stroke-width=\"0.1\"/>\n",
       "<rect x=\"0.0\" y=\"-250.0\" width=\"250.0\" height=\"125.0\" opacity=\"0.6066909421939007\" fill=\"currentColor\" stroke-width=\"0.1\"/>\n",
       "</svg>\n",
       "</div>\n",
       "<div style=\"flex=grow:1;\">\n",
       "StrCategory(['2024I_test'], growth=True, name='dataset', label='Primary dataset')<br/>\n",
       "StrCategory(['DST_PFScouting_AXONominal', 'DST_PFScouting_AXOTight'], growth=True, name='trigger', label='Trigger')<br/>\n",
       "<hr style=\"margin-top:.2em; margin-bottom:.2em;\"/>\n",
       "Weight() Σ=WeightedSum(value=176495, variance=176495)\n",
       "\n",
       "</div>\n",
       "</div>\n",
       "</html>"
      ],
      "text/plain": [
       "Hist(\n",
       "  StrCategory(['2024I_test'], growth=True, name='dataset', label='Primary dataset'),\n",
       "  StrCategory(['DST_PFScouting_AXONominal', 'DST_PFScouting_AXOTight'], growth=True, name='trigger', label='Trigger'),\n",
       "  storage=Weight()) # Sum: WeightedSum(value=176495, variance=176495)"
      ]
     },
     "execution_count": 286,
     "metadata": {},
     "output_type": "execute_result"
    }
   ],
   "source": [
    "hist = hist_result[dataset]['hists']['anomaly_score']#[:]#[:, trigger, obj, hist.rebin(rebin)] \n",
    "#hist.values()\n",
    "hist.integrate(\"anomaly_score\")"
   ]
  },
  {
   "cell_type": "code",
   "execution_count": 287,
   "id": "b5c33802-a06a-4305-ad22-676838bd4252",
   "metadata": {},
   "outputs": [],
   "source": [
    "def auto_zoom_x(hist):\n",
    "    filled = hist.values() > 0\n",
    "    filled_temp = filled[0][0]\n",
    "    for i in range(len(filled[0])):\n",
    "        filled_temp = np.logical_or(filled_temp,filled[0][i])\n",
    "    \n",
    "    lowest = np.min(hist.axes.edges[2].flatten()[0:-1][filled_temp])\n",
    "    highest = np.max(hist.axes.edges[2].flatten()[1:][filled_temp])\n",
    "    return [lowest, highest]\n"
   ]
  },
  {
   "cell_type": "code",
   "execution_count": 288,
   "id": "21038a0e-6ad6-4069-8b5c-df44d596bf4c",
   "metadata": {},
   "outputs": [
    {
     "data": {
      "text/plain": [
       "0.0"
      ]
     },
     "execution_count": 288,
     "metadata": {},
     "output_type": "execute_result"
    }
   ],
   "source": [
    "\n",
    "lowest "
   ]
  },
  {
   "cell_type": "code",
   "execution_count": 293,
   "id": "83b45a42-ca9d-43bc-9619-1b44978d30a1",
   "metadata": {},
   "outputs": [
    {
     "data": {
      "text/plain": [
       "[{'DST_PFScouting_AXOLoose': 'AXO Loose'},\n",
       " {'DST_PFScouting_AXONominal': 'AXO Nominal'},\n",
       " {'DST_PFScouting_AXOTight': 'AXO Tight'},\n",
       " {'DST_PFScouting_AXOVLoose': ' AXO VLoose'},\n",
       " {'DST_PFScouting_AXOVTight': 'AXO VTight'},\n",
       " {'DST_PFScouting_CICADALoose': 'CICADA Loose'},\n",
       " {'DST_PFScouting_CICADAMedium': 'CICADA Medium'},\n",
       " {'DST_PFScouting_CICADATight': ' CICADA Tight'},\n",
       " {'DST_PFScouting_CICADAVLoose': 'CICADA VLoose'},\n",
       " {'DST_PFScouting_CICADAVTight': 'CICADA VTight'},\n",
       " {'DST_PFScouting_DoubleMuon': 'Double Muon'},\n",
       " {'DST_PFScouting_JetHT': 'Jet HT'},\n",
       " {'DST_PFScouting_ZeroBias': 'Zero Bias'}]"
      ]
     },
     "execution_count": 293,
     "metadata": {},
     "output_type": "execute_result"
    }
   ],
   "source": [
    "plotting_config[\"trigger_labels\"]"
   ]
  },
  {
   "cell_type": "code",
   "execution_count": 295,
   "id": "c41cd3bc-1cc9-4d5c-9aac-0ff63e465115",
   "metadata": {},
   "outputs": [
    {
     "data": {
      "image/png": "[encoded data removed]",
      "text/plain": [
       "<Figure size 800x600 with 1 Axes>"
      ]
     },
     "metadata": {},
     "output_type": "display_data"
    }
   ],
   "source": [
    "\n",
    "for hist in hist_result[dataset]['hists']:\n",
    "\n",
    "    fig, ax = plt.subplots(figsize=(8,6))\n",
    "    for trigger in hist_result[dataset]['trigger']:\n",
    "        \n",
    "        utils.draw_hist1d(\n",
    "                hist_result[dataset]['hists'][hist],\n",
    "                ax,\n",
    "                trigger, \n",
    "                label=plotting_config[\"trigger_labels\"][trigger], \n",
    "                rebin=1, \n",
    "                norm=plotting_config[\"normalized\"]\n",
    "            )\n",
    "\n",
    "\n",
    "    ax.set_xlim(auto_zoom_x(hist_result[dataset]['hists'][hist]))\n",
    "        \n",
    "    if plotting_config[\"log_scale\"]:\n",
    "        ax.set_yscale('log')\n",
    "    ax.set_ylabel(f'Events{\" [A.U.]\" if plotting_config[\"normalized\"] else \"\"}', loc='top')\n",
    "    ax.set_xlabel(plotting_config[\"label_templates\"][hist])\n",
    "    ax.legend(frameon=False)#, fontsize=8)\n",
    "    hep.cms.label(plotting_config[\"cms_label\"], data=True, lumi=None, year=plotting_config[\"dataset_titles\"][dataset], com=13.6)\n",
    "\n",
    "    fig.show()\n",
    "    fig.savefig(f\"plots/l1ht_{dataset}_{todaysDate}.pdf\", format=\"pdf\")"
   ]
  },
  {
   "cell_type": "code",
   "execution_count": 52,
   "id": "7c9cdcca-c964-4fca-a41a-591846d4025b",
   "metadata": {},
   "outputs": [],
   "source": [
    "def make_single_object_plots(objects, obj_labels,\n",
    "                             plot_config, \n",
    "                             purities,\n",
    "                             hist_result, histpath, \n",
    "                             efficiency_trigger_names,\n",
    "                             dataset_names):\n",
    "    figs = len(objects)\n",
    "    # Plot distributions of triggered events \n",
    "    fig, ax = plt.subplots(1, figs, figsize=(35, 10))\n",
    "    for i, obj in enumerate(objects):\n",
    "        pure_distribution(i,None,\n",
    "                          obj,\n",
    "                          obj_labels[obj],\n",
    "                          ortho_trig,int_trigs,\n",
    "                          xrange=get_from_list(plot_config[conf][\"xranges\"],i), \n",
    "                          rebin=get_from_list(plot_config[conf][\"rebins\"],i), \n",
    "                          purities=purities,\n",
    "                          hist_result=hist_result,histpath=histpath,\n",
    "                          ax=ax,efficiency_trigger_names=efficiency_trigger_names, \n",
    "                          dataset_name = dataset_names[dataset_name])\n",
    "\n",
    "    # Plot fraction of triggered events that are pure\n",
    "    fig, ax = plt.subplots(1, figs, figsize=(35, 10))\n",
    "    for i, obj in enumerate(objects):\n",
    "        axo_pure_efficiency(i,None,\n",
    "                            obj,\n",
    "                            obj_labels[obj],\n",
    "                            ortho_trig,int_trigs,\n",
    "                            xrange=get_from_list(plot_config[conf][\"xranges\"],i), \n",
    "                            yrange=plot_config[conf][\"zooms\"],\n",
    "                            rebin=get_from_list(plot_config[conf][\"rebins\"],i), \n",
    "                            purities=purities,hist_result=hist_result,histpath=histpath,\n",
    "                            ax=ax,efficiency_trigger_names=efficiency_trigger_names, dataset_name = dataset_names[dataset_name]) \n",
    "    return\n",
    "\n",
    "\n",
    "def make_multi_object_plots(objects, obj_labels,\n",
    "                             plot_config, \n",
    "                             purities,\n",
    "                             hist_result, histpath, \n",
    "                             efficiency_trigger_names,\n",
    "                             dataset_names):\n",
    "    figs = len(objects)\n",
    "    # Plot distributions of triggered events \n",
    "    fig, ax = plt.subplots(1, figs, figsize=(35, 10))\n",
    "    for i, obj in enumerate(objects):\n",
    "        label = plot_config[conf][\"label_template\"].format(obj_labels[obj])\n",
    "        pure_distribution(i,obj,\n",
    "                          plot_config[conf][\"variable_name\"],\n",
    "                          label,\n",
    "                          ortho_trig,int_trigs,\n",
    "                          xrange=get_from_list(plot_config[conf][\"xranges\"],i), \n",
    "                          rebin=get_from_list(plot_config[conf][\"rebins\"],i), \n",
    "                          purities=purities,\n",
    "                          hist_result=hist_result,histpath=histpath,\n",
    "                          ax=ax,efficiency_trigger_names=efficiency_trigger_names, \n",
    "                          dataset_name = dataset_names[dataset_name])"
   ]
  },
  {
   "cell_type": "code",
   "execution_count": null,
   "id": "78297cc1-6d44-48af-bdde-8c0d78e6af0e",
   "metadata": {},
   "outputs": [],
   "source": [
    "for histogram in config[\"histograms_1d\"]:\n",
    "    for reconstruction_level in config[\"objects\"]:\n",
    "        for objects in config[\"objects\"][reconstruction_level]:\n",
    "            histograms_1d\n",
    "    "
   ]
  },
  {
   "cell_type": "code",
   "execution_count": 38,
   "id": "66a0aef6-4f7c-4aa8-9022-ed7cc9e4b725",
   "metadata": {},
   "outputs": [
    {
     "name": "stderr",
     "output_type": "stream",
     "text": [
      "<>:17: SyntaxWarning: invalid escape sequence '\\s'\n",
      "<>:35: SyntaxWarning: invalid escape sequence '\\e'\n",
      "<>:17: SyntaxWarning: invalid escape sequence '\\s'\n",
      "<>:35: SyntaxWarning: invalid escape sequence '\\e'\n",
      "/tmp/ipykernel_14209/103140625.py:17: SyntaxWarning: invalid escape sequence '\\s'\n",
      "  \"label_template\": '{} $\\sum p_T$ [GeV]',\n",
      "/tmp/ipykernel_14209/103140625.py:35: SyntaxWarning: invalid escape sequence '\\e'\n",
      "  \"label_template\": 'All {} $\\eta$',\n"
     ]
    }
   ],
   "source": [
    "fig, ax = plt.subplots(figsize=(8,6))\n",
    "hep.cms.label(cms_label, data=True, lumi=None, year=title, com=13.6)\n",
    "\n",
    "for trigger in triggers:\n",
    "    print(trigger)\n",
    "    hist_current = utils.getHist(hist_result, histpath+['anomaly_score'])\n",
    "    utils.draw_hist1d(\n",
    "        hist_current, \n",
    "        ax,\n",
    "        trigger, \n",
    "        label=trigger, \n",
    "        rebin=1, \n",
    "        norm=norm\n",
    "    )\n",
    "\n",
    "utils.draw_thresholds(ax, thresholds)\n",
    "\n",
    "ax.set_xlim([0,100])\n",
    "ax.set_yscale('log')\n",
    "ax.set_ylabel(f'Events{\" [A.U.]\" if norm else \"\"}', loc='top')\n",
    "ax.set_xlabel('AXOL1TL Score')\n",
    "ax.legend(frameon=True, fontsize=8)\n",
    "\n",
    "fig.show()\n",
    "fig.savefig(f\"plots/anomaly_score_{dataset}_{todaysDate}.pdf\", format=\"pdf\")"
   ]
  },
  {
   "cell_type": "code",
   "execution_count": 34,
   "id": "4da900aa-bfa1-43b4-83cc-de2bc84200cd",
   "metadata": {},
   "outputs": [
    {
     "ename": "NameError",
     "evalue": "name 'cms_label' is not defined",
     "output_type": "error",
     "traceback": [
      "\u001b[0;31m---------------------------------------------------------------------------\u001b[0m",
      "\u001b[0;31mNameError\u001b[0m                                 Traceback (most recent call last)",
      "Cell \u001b[0;32mIn[34], line 2\u001b[0m\n\u001b[1;32m      1\u001b[0m fig, ax \u001b[38;5;241m=\u001b[39m plt\u001b[38;5;241m.\u001b[39msubplots(figsize\u001b[38;5;241m=\u001b[39m(\u001b[38;5;241m8\u001b[39m,\u001b[38;5;241m6\u001b[39m))\n\u001b[0;32m----> 2\u001b[0m hep\u001b[38;5;241m.\u001b[39mcms\u001b[38;5;241m.\u001b[39mlabel(\u001b[43mcms_label\u001b[49m, data\u001b[38;5;241m=\u001b[39m\u001b[38;5;28;01mTrue\u001b[39;00m, lumi\u001b[38;5;241m=\u001b[39m\u001b[38;5;28;01mNone\u001b[39;00m, year\u001b[38;5;241m=\u001b[39mtitle, com\u001b[38;5;241m=\u001b[39m\u001b[38;5;241m13.6\u001b[39m)\n\u001b[1;32m      4\u001b[0m \u001b[38;5;28;01mfor\u001b[39;00m trigger \u001b[38;5;129;01min\u001b[39;00m triggers:\n\u001b[1;32m      5\u001b[0m     \u001b[38;5;28mprint\u001b[39m(trigger)\n",
      "\u001b[0;31mNameError\u001b[0m: name 'cms_label' is not defined"
     ]
    },
    {
     "data": {
      "image/png": "[encoded data removed]",
      "text/plain": [
       "<Figure size 800x600 with 1 Axes>"
      ]
     },
     "metadata": {},
     "output_type": "display_data"
    }
   ],
   "source": [
    "\n"
   ]
  },
  {
   "cell_type": "code",
   "execution_count": null,
   "id": "a8c0e414-72be-461c-8bac-6b29f148214b",
   "metadata": {},
   "outputs": [],
   "source": []
  }
 ],
 "metadata": {
  "kernelspec": {
   "display_name": "Python 3 (ipykernel)",
   "language": "python",
   "name": "python3"
  },
  "language_info": {
   "codemirror_mode": {
    "name": "ipython",
    "version": 3
   },
   "file_extension": ".py",
   "mimetype": "text/x-python",
   "name": "python",
   "nbconvert_exporter": "python",
   "pygments_lexer": "ipython3",
   "version": "3.12.5"
  }
 },
 "nbformat": 4,
 "nbformat_minor": 5
}
