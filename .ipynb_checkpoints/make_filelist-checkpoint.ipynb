{
 "cells": [
  {
   "cell_type": "code",
   "execution_count": 4,
   "id": "94a5b6b0-7aad-468d-b1df-55975fecffb0",
   "metadata": {},
   "outputs": [
    {
     "name": "stdout",
     "output_type": "stream",
     "text": [
      "✅ Created filelist_ZZ.json with 7 files.\n"
     ]
    }
   ],
   "source": [
    "import json\n",
    "\n",
    "with open(\"root_files.txt\") as f:\n",
    "    files = [line.strip() for line in f]\n",
    "\n",
    "base_url = \"root://eosuser.cern.ch//eos/cms/store/group/phys_exotica/axol1tl/MC_ScoutingNano/ZZ_TuneCP5_13p6TeV_pythia8/ZZ_ScoutingNANOAOD_20250603/250603_204359/0000/\"\n",
    "\n",
    "dataset = {\n",
    "    \"ZZ_TuneCP5_13p6TeV_pythia8\": {\n",
    "        \"files\": [\n",
    "            {\n",
    "                \"file\": base_url + fname,\n",
    "                \"object_path\": \"Events\"\n",
    "            }\n",
    "            for fname in files\n",
    "        ]\n",
    "    }\n",
    "}\n",
    "\n",
    "with open(\"filelist_ZZ.json\", \"w\") as f:\n",
    "    json.dump(dataset, f, indent=2)\n"
   ]
  },
  {
   "cell_type": "code",
   "execution_count": 5,
   "id": "30727ef3-34ad-468c-b4d4-80ab160531e6",
   "metadata": {},
   "outputs": [
    {
     "name": "stdout",
     "output_type": "stream",
     "text": [
      "filelist_ZZ.json created with 100 files.\n"
     ]
    }
   ],
   "source": [
    "import subprocess\n",
    "import json\n",
    "\n",
    "base_url = \"root://eosuser.cern.ch//eos/cms/store/group/phys_exotica/axol1tl/MC_ScoutingNano/ZZ_TuneCP5_13p6TeV_pythia8/ZZ_ScoutingNANOAOD_20250603/250603_204359/0000/\"\n",
    "eos_dir = \"/eos/cms/store/group/phys_exotica/axol1tl/MC_ScoutingNano/ZZ_TuneCP5_13p6TeV_pythia8/ZZ_ScoutingNANOAOD_20250603/250603_204359/0000/\"\n",
    "\n",
    "def list_eos_files(directory):\n",
    "    # Use xrdfs to list files on EOS\n",
    "    cmd = [\"xrdfs\", \"eosuser.cern.ch\", \"ls\", directory]\n",
    "    result = subprocess.run(cmd, capture_output=True, text=True)\n",
    "    if result.returncode != 0:\n",
    "        print(\"Error listing files:\", result.stderr)\n",
    "        return []\n",
    "    files = result.stdout.strip().split(\"\\n\")\n",
    "    # Keep only .root files\n",
    "    root_files = [f for f in files if f.endswith(\".root\")]\n",
    "    return root_files\n",
    "\n",
    "root_files = list_eos_files(eos_dir)\n",
    "\n",
    "if not root_files:\n",
    "    print(\"No root files found or error in listing.\")\n",
    "else:\n",
    "    files_dict = {base_url + f.split(\"/\")[-1]: \"Events\" for f in root_files}\n",
    "    json_data = {\n",
    "        \"ZZ_TuneCP5_13p6TeV_pythia8\": {\n",
    "            \"files\": files_dict\n",
    "        }\n",
    "    }\n",
    "    with open(\"filelist_ZZ.json\", \"w\") as f:\n",
    "        json.dump(json_data, f, indent=4)\n",
    "    print(f\"filelist_ZZ.json created with {len(root_files)} files.\")\n"
   ]
  },
  {
   "cell_type": "code",
   "execution_count": 16,
   "id": "a3c9a7d6-cbff-498d-8399-91cd42fb01e9",
   "metadata": {},
   "outputs": [
    {
     "name": "stdout",
     "output_type": "stream",
     "text": [
      "Generated filelist_ZZ.json with 100 files.\n"
     ]
    }
   ],
   "source": [
    "import json\n",
    "\n",
    "base_url = \"root://eosuser.cern.ch//eos/cms/store/group/phys_exotica/axol1tl/MC_ScoutingNano/ZZ_TuneCP5_13p6TeV_pythia8/ZZ_ScoutingNANOAOD_20250603/250603_204359/0000/\"\n",
    "\n",
    "# Replace this with however many files you have, e.g. from 1 to 100\n",
    "num_files = 100\n",
    "\n",
    "files_dict = {}\n",
    "for i in range(1, num_files + 1):\n",
    "    filename = f\"output_ScoutingNANOAOD_{i}.root\"\n",
    "    full_path = base_url + filename\n",
    "    files_dict[full_path] = \"Events\"\n",
    "\n",
    "dataset = {\n",
    "    \"ZZ_TuneCP5_13p6TeV_pythia8\": {\n",
    "        \"files\": files_dict\n",
    "    }\n",
    "}\n",
    "\n",
    "with open(\"filelist_ZZ.json\", \"w\") as f:\n",
    "    json.dump(dataset, f, indent=4)\n",
    "\n",
    "print(f\"Generated filelist_ZZ.json with {num_files} files.\")\n"
   ]
  },
  {
   "cell_type": "code",
   "execution_count": null,
   "id": "47eba141-ea66-4ae9-a0d1-fa11e53683cb",
   "metadata": {},
   "outputs": [],
   "source": []
  },
  {
   "cell_type": "code",
   "execution_count": null,
   "id": "61a72b3e-db88-479b-ab45-a1c3fc6a83ec",
   "metadata": {},
   "outputs": [],
   "source": []
  },
  {
   "cell_type": "code",
   "execution_count": null,
   "id": "7345451e-19f5-4b61-8369-4bca0a9607f1",
   "metadata": {},
   "outputs": [],
   "source": []
  },
  {
   "cell_type": "code",
   "execution_count": 12,
   "id": "9cea29de-3eed-44b8-ad3f-e6ca21c347a5",
   "metadata": {},
   "outputs": [
    {
     "name": "stdout",
     "output_type": "stream",
     "text": [
      "✅ Wrote filelist_ZZ.json with full paths and object names.\n"
     ]
    }
   ],
   "source": [
    "import json\n",
    "\n",
    "dataset_name = \"ZZ_TuneCP5_13p6TeV_pythia8\"\n",
    "root_prefix = \"root://eosuser.cern.ch//eos/cms/store/group/phys_exotica/axol1tl/MC_ScoutingNano/ZZ_TuneCP5_13p6TeV_pythia8/ZZ_ScoutingNANOAOD_20250603/250603_204359/0000/\"\n",
    "\n",
    "file_names = [\n",
    "    f\"output_ScoutingNANOAOD_{i}.root\" for i in [1, 10, 100, 11, 12, 13, 14, 15]\n",
    "]\n",
    "\n",
    "file_entries = [{\"file\": root_prefix + fname, \"object_path\": \"Events\"} for fname in file_names]\n",
    "\n",
    "dataset_dict = {\n",
    "    dataset_name: {\n",
    "        \"files\": file_entries\n",
    "    }\n",
    "}\n",
    "\n",
    "with open(\"filelist_ZZ.json\", \"w\") as f:\n",
    "    json.dump(dataset_dict, f, indent=2)\n",
    "\n",
    "print(\"✅ Wrote filelist_ZZ.json with full paths and object names.\")\n"
   ]
  },
  {
   "cell_type": "code",
   "execution_count": null,
   "id": "9e35e28d-a5f1-4058-8648-4031894f9c8b",
   "metadata": {},
   "outputs": [],
   "source": []
  }
 ],
 "metadata": {
  "kernelspec": {
   "display_name": "Python 3 (ipykernel)",
   "language": "python",
   "name": "python3"
  },
  "language_info": {
   "codemirror_mode": {
    "name": "ipython",
    "version": 3
   },
   "file_extension": ".py",
   "mimetype": "text/x-python",
   "name": "python",
   "nbconvert_exporter": "python",
   "pygments_lexer": "ipython3",
   "version": "3.12.5"
  }
 },
 "nbformat": 4,
 "nbformat_minor": 5
}
