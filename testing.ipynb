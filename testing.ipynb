{
 "cells": [
  {
   "cell_type": "code",
   "execution_count": 24,
   "id": "7edc66d5-7400-4897-ac86-7ccf544c0587",
   "metadata": {},
   "outputs": [
    {
     "name": "stdout",
     "output_type": "stream",
     "text": [
      "🔍 Validating ROOT files...\n"
     ]
    },
    {
     "name": "stderr",
     "output_type": "stream",
     "text": [
      "100%|██████████| 100/100 [04:10<00:00,  2.51s/it]"
     ]
    },
    {
     "name": "stdout",
     "output_type": "stream",
     "text": [
      "\n",
      "✅ Wrote 100 valid files to filelist_ZZ_validated.json\n"
     ]
    },
    {
     "name": "stderr",
     "output_type": "stream",
     "text": [
      "\n"
     ]
    }
   ],
   "source": [
    "import json\n",
    "import uproot\n",
    "from tqdm import tqdm\n",
    "\n",
    "# Input/output config\n",
    "INPUT_JSON = \"filelist_ZZ.json\"\n",
    "OUTPUT_JSON = \"filelist_ZZ_validated.json\"\n",
    "DATASET_NAME = \"ZZ_TuneCP5_13p6TeV_pythia8\"\n",
    "\n",
    "# Load input file list\n",
    "with open(INPUT_JSON) as f:\n",
    "    data = json.load(f)\n",
    "\n",
    "file_map = data[DATASET_NAME][\"files\"]\n",
    "\n",
    "# Normalize input: either dict or list\n",
    "if isinstance(file_map, dict):\n",
    "    file_items = list(file_map.items())  # dict of {file: object_path}\n",
    "else:\n",
    "    file_items = [(f, \"Events\") for f in file_map]  # assume \"Events\" tree\n",
    "\n",
    "valid_file_items = []\n",
    "\n",
    "print(\"🔍 Validating ROOT files...\")\n",
    "\n",
    "for path, objpath in tqdm(file_items):\n",
    "    try:\n",
    "        with uproot.open(f\"{path}:{objpath}\") as tree:\n",
    "            n = tree.num_entries\n",
    "            if n == 0:\n",
    "                print(f\"⚠️ Skipping (zero entries): {path}\")\n",
    "            else:\n",
    "                valid_file_items.append((path, objpath))\n",
    "    except Exception as e:\n",
    "        print(f\"❌ Skipping (unreadable): {path} — {e}\")\n",
    "\n",
    "# Rebuild structure to match input\n",
    "if isinstance(file_map, dict):\n",
    "    out_files = {f: obj for f, obj in valid_file_items}\n",
    "else:\n",
    "    out_files = [f for f, obj in valid_file_items]\n",
    "\n",
    "validated = {DATASET_NAME: {\"files\": out_files}}\n",
    "\n",
    "# Write output\n",
    "with open(OUTPUT_JSON, \"w\") as f:\n",
    "    json.dump(validated, f, indent=2)\n",
    "\n",
    "print(f\"\\n✅ Wrote {len(valid_file_items)} valid files to {OUTPUT_JSON}\")\n"
   ]
  },
  {
   "cell_type": "code",
   "execution_count": 12,
   "id": "c0c416dc-7aab-4280-ae8d-d213eaecca6e",
   "metadata": {},
   "outputs": [
    {
     "name": "stdout",
     "output_type": "stream",
     "text": [
      "Number of events: 39150\n",
      "dask.awkward<getitem, type=Record>\n"
     ]
    }
   ],
   "source": [
    "from coffea.nanoevents import NanoEventsFactory\n",
    "from coffea.nanoevents.schemas import NanoAODSchema\n",
    "\n",
    "filename = \"root://eosuser.cern.ch//eos/cms/store/group/phys_exotica/axol1tl/MC_ScoutingNano/ZZ_TuneCP5_13p6TeV_pythia8/ZZ_ScoutingNANOAOD_20250603/250603_204359/0000/output_ScoutingNANOAOD_100.root\"\n",
    "\n",
    "# Explicitly pass the tree name in a dict\n",
    "events = NanoEventsFactory.from_root({filename: \"Events\"}, schemaclass=NanoAODSchema).events()\n",
    "\n",
    "# To get length and inspect content, compute it\n",
    "import dask_awkward as dak\n",
    "print(\"Number of events:\", dak.num(events, axis=0).compute())\n",
    "print(events[0])\n",
    "\n"
   ]
  },
  {
   "cell_type": "code",
   "execution_count": 13,
   "id": "73a893f0-0cdb-41ff-aa98-3b2d3da07dea",
   "metadata": {},
   "outputs": [
    {
     "name": "stdout",
     "output_type": "stream",
     "text": [
      "{\n",
      "    \"ZZ_TuneCP5_13p6TeV_pythia8\": {\n",
      "        \"files\": {\n",
      "            \"root://eosuser.cern.ch//eos/cms/store/group/phys_exotica/axol1tl/MC_ScoutingNano/ZZ_TuneCP5_13p6TeV_pythia8/ZZ_ScoutingNANOAOD_20250603/250603_204359/0000/output_ScoutingNANOAOD_1.root\": \"Events\",\n",
      "            \"root://eosuser.cern.ch//eos/cms/store/group/phys_exotica/axol1tl/MC_ScoutingNano/ZZ_TuneCP5_13p6TeV_pythia8/ZZ_ScoutingNANOAOD_20250603/250603_204359/0000/output_ScoutingNANOAOD_10.root\": \"Events\",\n",
      "            \"root://eosuser.cern.ch//eos/cms/store/group/phys_exotica/axol1tl/MC_ScoutingNano/ZZ_TuneCP5_13p6TeV_pythia8/ZZ_ScoutingNANOAOD_20250603/250603_204359/0000/output_ScoutingNANOAOD_100.root\": \"Events\",\n",
      "            \"root://eosuser.cern.ch//eos/cms/store/group/phys_exotica/axol1tl/MC_ScoutingNano/ZZ_TuneCP5_13p6TeV_pythia8/ZZ_ScoutingNANOAOD_20250603/250603_204359/0000/output_ScoutingNANOAOD_11.root\": \"Events\",\n",
      "            \"root://eosuser.cern.ch//eos/cms/store/group/phys_exotica/axol1tl/MC_ScoutingNano/ZZ_TuneCP5_13p6TeV_pythia8/ZZ_ScoutingNANOAOD_20250603/250603_204359/0000/output_ScoutingNANOAOD_12.root\": \"Events\",\n",
      "            \"root://eosuser.cern.ch//eos/cms/store/group/phys_exotica/axol1tl/MC_ScoutingNano/ZZ_TuneCP5_13p6TeV_pythia8/ZZ_ScoutingNANOAOD_20250603/250603_204359/0000/output_ScoutingNANOAOD_13.root\": \"Events\",\n",
      "            \"root://eosuser.cern.ch//eos/cms/store/group/phys_exotica/axol1tl/MC_ScoutingNano/ZZ_TuneCP5_13p6TeV_pythia8/ZZ_ScoutingNANOAOD_20250603/250603_204359/0000/output_ScoutingNANOAOD_14.root\": \"Events\",\n",
      "            \"root://eosuser.cern.ch//eos/cms/store/group/phys_exotica/axol1tl/MC_ScoutingNano/ZZ_TuneCP5_13p6TeV_pythia8/ZZ_ScoutingNANOAOD_20250603/250603_204359/0000/output_ScoutingNANOAOD_15.root\": \"Events\",\n",
      "            \"root://eosuser.cern.ch//eos/cms/store/group/phys_exotica/axol1tl/MC_ScoutingNano/ZZ_TuneCP5_13p6TeV_pythia8/ZZ_ScoutingNANOAOD_20250603/250603_204359/0000/output_ScoutingNANOAOD_16.root\": \"Events\",\n",
      "            \"root://eosuser.cern.ch//eos/cms/store/group/phys_exotica/axol1tl/MC_ScoutingNano/ZZ_TuneCP5_13p6TeV_pythia8/ZZ_ScoutingNANOAOD_20250603/250603_204359/0000/output_ScoutingNANOAOD_17.root\": \"Events\",\n",
      "            \"root://eosuser.cern.ch//eos/cms/store/group/phys_exotica/axol1tl/MC_ScoutingNano/ZZ_TuneCP5_13p6TeV_pythia8/ZZ_ScoutingNANOAOD_20250603/250603_204359/0000/output_ScoutingNANOAOD_18.root\": \"Events\",\n",
      "            \"root://eosuser.cern.ch//eos/cms/store/group/phys_exotica/axol1tl/MC_ScoutingNano/ZZ_TuneCP5_13p6TeV_pythia8/ZZ_ScoutingNANOAOD_20250603/250603_204359/0000/output_ScoutingNANOAOD_19.root\": \"Events\",\n",
      "            \"root://eosuser.cern.ch//eos/cms/store/group/phys_exotica/axol1tl/MC_ScoutingNano/ZZ_TuneCP5_13p6TeV_pythia8/ZZ_ScoutingNANOAOD_20250603/250603_204359/0000/output_ScoutingNANOAOD_2.root\": \"Events\",\n",
      "            \"root://eosuser.cern.ch//eos/cms/store/group/phys_exotica/axol1tl/MC_ScoutingNano/ZZ_TuneCP5_13p6TeV_pythia8/ZZ_ScoutingNANOAOD_20250603/250603_204359/0000/output_ScoutingNANOAOD_20.root\": \"Events\",\n",
      "            \"root://eosuser.cern.ch//eos/cms/store/group/phys_exotica/axol1tl/MC_ScoutingNano/ZZ_TuneCP5_13p6TeV_pythia8/ZZ_ScoutingNANOAOD_20250603/250603_204359/0000/output_ScoutingNANOAOD_21.root\": \"Events\",\n",
      "            \"root://eosuser.cern.ch//eos/cms/store/group/phys_exotica/axol1tl/MC_ScoutingNano/ZZ_TuneCP5_13p6TeV_pythia8/ZZ_ScoutingNANOAOD_20250603/250603_204359/0000/output_ScoutingNANOAOD_22.root\": \"Events\",\n",
      "            \"root://eosuser.cern.ch//eos/cms/store/group/phys_exotica/axol1tl/MC_ScoutingNano/ZZ_TuneCP5_13p6TeV_pythia8/ZZ_ScoutingNANOAOD_20250603/250603_204359/0000/output_ScoutingNANOAOD_23.root\": \"Events\",\n",
      "            \"root://eosuser.cern.ch//eos/cms/store/group/phys_exotica/axol1tl/MC_ScoutingNano/ZZ_TuneCP5_13p6TeV_pythia8/ZZ_ScoutingNANOAOD_20250603/250603_204359/0000/output_ScoutingNANOAOD_24.root\": \"Events\",\n",
      "            \"root://eosuser.cern.ch//eos/cms/store/group/phys_exotica/axol1tl/MC_ScoutingNano/ZZ_TuneCP5_13p6TeV_pythia8/ZZ_ScoutingNANOAOD_20250603/250603_204359/0000/output_ScoutingNANOAOD_25.root\": \"Events\",\n",
      "            \"root://eosuser.cern.ch//eos/cms/store/group/phys_exotica/axol1tl/MC_ScoutingNano/ZZ_TuneCP5_13p6TeV_pythia8/ZZ_ScoutingNANOAOD_20250603/250603_204359/0000/output_ScoutingNANOAOD_26.root\": \"Events\",\n",
      "            \"root://eosuser.cern.ch//eos/cms/store/group/phys_exotica/axol1tl/MC_ScoutingNano/ZZ_TuneCP5_13p6TeV_pythia8/ZZ_ScoutingNANOAOD_20250603/250603_204359/0000/output_ScoutingNANOAOD_27.root\": \"Events\",\n",
      "            \"root://eosuser.cern.ch//eos/cms/store/group/phys_exotica/axol1tl/MC_ScoutingNano/ZZ_TuneCP5_13p6TeV_pythia8/ZZ_ScoutingNANOAOD_20250603/250603_204359/0000/output_ScoutingNANOAOD_28.root\": \"Events\",\n",
      "            \"root://eosuser.cern.ch//eos/cms/store/group/phys_exotica/axol1tl/MC_ScoutingNano/ZZ_TuneCP5_13p6TeV_pythia8/ZZ_ScoutingNANOAOD_20250603/250603_204359/0000/output_ScoutingNANOAOD_29.root\": \"Events\",\n",
      "            \"root://eosuser.cern.ch//eos/cms/store/group/phys_exotica/axol1tl/MC_ScoutingNano/ZZ_TuneCP5_13p6TeV_pythia8/ZZ_ScoutingNANOAOD_20250603/250603_204359/0000/output_ScoutingNANOAOD_3.root\": \"Events\",\n",
      "            \"root://eosuser.cern.ch//eos/cms/store/group/phys_exotica/axol1tl/MC_ScoutingNano/ZZ_TuneCP5_13p6TeV_pythia8/ZZ_ScoutingNANOAOD_20250603/250603_204359/0000/output_ScoutingNANOAOD_30.root\": \"Events\",\n",
      "            \"root://eosuser.cern.ch//eos/cms/store/group/phys_exotica/axol1tl/MC_ScoutingNano/ZZ_TuneCP5_13p6TeV_pythia8/ZZ_ScoutingNANOAOD_20250603/250603_204359/0000/output_ScoutingNANOAOD_31.root\": \"Events\",\n",
      "            \"root://eosuser.cern.ch//eos/cms/store/group/phys_exotica/axol1tl/MC_ScoutingNano/ZZ_TuneCP5_13p6TeV_pythia8/ZZ_ScoutingNANOAOD_20250603/250603_204359/0000/output_ScoutingNANOAOD_32.root\": \"Events\",\n",
      "            \"root://eosuser.cern.ch//eos/cms/store/group/phys_exotica/axol1tl/MC_ScoutingNano/ZZ_TuneCP5_13p6TeV_pythia8/ZZ_ScoutingNANOAOD_20250603/250603_204359/0000/output_ScoutingNANOAOD_33.root\": \"Events\",\n",
      "            \"root://eosuser.cern.ch//eos/cms/store/group/phys_exotica/axol1tl/MC_ScoutingNano/ZZ_TuneCP5_13p6TeV_pythia8/ZZ_ScoutingNANOAOD_20250603/250603_204359/0000/output_ScoutingNANOAOD_34.root\": \"Events\",\n",
      "            \"root://eosuser.cern.ch//eos/cms/store/group/phys_exotica/axol1tl/MC_ScoutingNano/ZZ_TuneCP5_13p6TeV_pythia8/ZZ_ScoutingNANOAOD_20250603/250603_204359/0000/output_ScoutingNANOAOD_35.root\": \"Events\",\n",
      "            \"root://eosuser.cern.ch//eos/cms/store/group/phys_exotica/axol1tl/MC_ScoutingNano/ZZ_TuneCP5_13p6TeV_pythia8/ZZ_ScoutingNANOAOD_20250603/250603_204359/0000/output_ScoutingNANOAOD_36.root\": \"Events\",\n",
      "            \"root://eosuser.cern.ch//eos/cms/store/group/phys_exotica/axol1tl/MC_ScoutingNano/ZZ_TuneCP5_13p6TeV_pythia8/ZZ_ScoutingNANOAOD_20250603/250603_204359/0000/output_ScoutingNANOAOD_37.root\": \"Events\",\n",
      "            \"root://eosuser.cern.ch//eos/cms/store/group/phys_exotica/axol1tl/MC_ScoutingNano/ZZ_TuneCP5_13p6TeV_pythia8/ZZ_ScoutingNANOAOD_20250603/250603_204359/0000/output_ScoutingNANOAOD_38.root\": \"Events\",\n",
      "            \"root://eosuser.cern.ch//eos/cms/store/group/phys_exotica/axol1tl/MC_ScoutingNano/ZZ_TuneCP5_13p6TeV_pythia8/ZZ_ScoutingNANOAOD_20250603/250603_204359/0000/output_ScoutingNANOAOD_39.root\": \"Events\",\n",
      "            \"root://eosuser.cern.ch//eos/cms/store/group/phys_exotica/axol1tl/MC_ScoutingNano/ZZ_TuneCP5_13p6TeV_pythia8/ZZ_ScoutingNANOAOD_20250603/250603_204359/0000/output_ScoutingNANOAOD_4.root\": \"Events\",\n",
      "            \"root://eosuser.cern.ch//eos/cms/store/group/phys_exotica/axol1tl/MC_ScoutingNano/ZZ_TuneCP5_13p6TeV_pythia8/ZZ_ScoutingNANOAOD_20250603/250603_204359/0000/output_ScoutingNANOAOD_40.root\": \"Events\",\n",
      "            \"root://eosuser.cern.ch//eos/cms/store/group/phys_exotica/axol1tl/MC_ScoutingNano/ZZ_TuneCP5_13p6TeV_pythia8/ZZ_ScoutingNANOAOD_20250603/250603_204359/0000/output_ScoutingNANOAOD_41.root\": \"Events\",\n",
      "            \"root://eosuser.cern.ch//eos/cms/store/group/phys_exotica/axol1tl/MC_ScoutingNano/ZZ_TuneCP5_13p6TeV_pythia8/ZZ_ScoutingNANOAOD_20250603/250603_204359/0000/output_ScoutingNANOAOD_42.root\": \"Events\",\n",
      "            \"root://eosuser.cern.ch//eos/cms/store/group/phys_exotica/axol1tl/MC_ScoutingNano/ZZ_TuneCP5_13p6TeV_pythia8/ZZ_ScoutingNANOAOD_20250603/250603_204359/0000/output_ScoutingNANOAOD_43.root\": \"Events\",\n",
      "            \"root://eosuser.cern.ch//eos/cms/store/group/phys_exotica/axol1tl/MC_ScoutingNano/ZZ_TuneCP5_13p6TeV_pythia8/ZZ_ScoutingNANOAOD_20250603/250603_204359/0000/output_ScoutingNANOAOD_44.root\": \"Events\",\n",
      "            \"root://eosuser.cern.ch//eos/cms/store/group/phys_exotica/axol1tl/MC_ScoutingNano/ZZ_TuneCP5_13p6TeV_pythia8/ZZ_ScoutingNANOAOD_20250603/250603_204359/0000/output_ScoutingNANOAOD_45.root\": \"Events\",\n",
      "            \"root://eosuser.cern.ch//eos/cms/store/group/phys_exotica/axol1tl/MC_ScoutingNano/ZZ_TuneCP5_13p6TeV_pythia8/ZZ_ScoutingNANOAOD_20250603/250603_204359/0000/output_ScoutingNANOAOD_46.root\": \"Events\",\n",
      "            \"root://eosuser.cern.ch//eos/cms/store/group/phys_exotica/axol1tl/MC_ScoutingNano/ZZ_TuneCP5_13p6TeV_pythia8/ZZ_ScoutingNANOAOD_20250603/250603_204359/0000/output_ScoutingNANOAOD_47.root\": \"Events\",\n",
      "            \"root://eosuser.cern.ch//eos/cms/store/group/phys_exotica/axol1tl/MC_ScoutingNano/ZZ_TuneCP5_13p6TeV_pythia8/ZZ_ScoutingNANOAOD_20250603/250603_204359/0000/output_ScoutingNANOAOD_48.root\": \"Events\",\n",
      "            \"root://eosuser.cern.ch//eos/cms/store/group/phys_exotica/axol1tl/MC_ScoutingNano/ZZ_TuneCP5_13p6TeV_pythia8/ZZ_ScoutingNANOAOD_20250603/250603_204359/0000/output_ScoutingNANOAOD_49.root\": \"Events\",\n",
      "            \"root://eosuser.cern.ch//eos/cms/store/group/phys_exotica/axol1tl/MC_ScoutingNano/ZZ_TuneCP5_13p6TeV_pythia8/ZZ_ScoutingNANOAOD_20250603/250603_204359/0000/output_ScoutingNANOAOD_5.root\": \"Events\",\n",
      "            \"root://eosuser.cern.ch//eos/cms/store/group/phys_exotica/axol1tl/MC_ScoutingNano/ZZ_TuneCP5_13p6TeV_pythia8/ZZ_ScoutingNANOAOD_20250603/250603_204359/0000/output_ScoutingNANOAOD_50.root\": \"Events\",\n",
      "            \"root://eosuser.cern.ch//eos/cms/store/group/phys_exotica/axol1tl/MC_ScoutingNano/ZZ_TuneCP5_13p6TeV_pythia8/ZZ_ScoutingNANOAOD_20250603/250603_204359/0000/output_ScoutingNANOAOD_51.root\": \"Events\",\n",
      "            \"root://eosuser.cern.ch//eos/cms/store/group/phys_exotica/axol1tl/MC_ScoutingNano/ZZ_TuneCP5_13p6TeV_pythia8/ZZ_ScoutingNANOAOD_20250603/250603_204359/0000/output_ScoutingNANOAOD_52.root\": \"Events\",\n",
      "            \"root://eosuser.cern.ch//eos/cms/store/group/phys_exotica/axol1tl/MC_ScoutingNano/ZZ_TuneCP5_13p6TeV_pythia8/ZZ_ScoutingNANOAOD_20250603/250603_204359/0000/output_ScoutingNANOAOD_53.root\": \"Events\",\n",
      "            \"root://eosuser.cern.ch//eos/cms/store/group/phys_exotica/axol1tl/MC_ScoutingNano/ZZ_TuneCP5_13p6TeV_pythia8/ZZ_ScoutingNANOAOD_20250603/250603_204359/0000/output_ScoutingNANOAOD_54.root\": \"Events\",\n",
      "            \"root://eosuser.cern.ch//eos/cms/store/group/phys_exotica/axol1tl/MC_ScoutingNano/ZZ_TuneCP5_13p6TeV_pythia8/ZZ_ScoutingNANOAOD_20250603/250603_204359/0000/output_ScoutingNANOAOD_55.root\": \"Events\",\n",
      "            \"root://eosuser.cern.ch//eos/cms/store/group/phys_exotica/axol1tl/MC_ScoutingNano/ZZ_TuneCP5_13p6TeV_pythia8/ZZ_ScoutingNANOAOD_20250603/250603_204359/0000/output_ScoutingNANOAOD_56.root\": \"Events\",\n",
      "            \"root://eosuser.cern.ch//eos/cms/store/group/phys_exotica/axol1tl/MC_ScoutingNano/ZZ_TuneCP5_13p6TeV_pythia8/ZZ_ScoutingNANOAOD_20250603/250603_204359/0000/output_ScoutingNANOAOD_57.root\": \"Events\",\n",
      "            \"root://eosuser.cern.ch//eos/cms/store/group/phys_exotica/axol1tl/MC_ScoutingNano/ZZ_TuneCP5_13p6TeV_pythia8/ZZ_ScoutingNANOAOD_20250603/250603_204359/0000/output_ScoutingNANOAOD_58.root\": \"Events\",\n",
      "            \"root://eosuser.cern.ch//eos/cms/store/group/phys_exotica/axol1tl/MC_ScoutingNano/ZZ_TuneCP5_13p6TeV_pythia8/ZZ_ScoutingNANOAOD_20250603/250603_204359/0000/output_ScoutingNANOAOD_59.root\": \"Events\",\n",
      "            \"root://eosuser.cern.ch//eos/cms/store/group/phys_exotica/axol1tl/MC_ScoutingNano/ZZ_TuneCP5_13p6TeV_pythia8/ZZ_ScoutingNANOAOD_20250603/250603_204359/0000/output_ScoutingNANOAOD_6.root\": \"Events\",\n",
      "            \"root://eosuser.cern.ch//eos/cms/store/group/phys_exotica/axol1tl/MC_ScoutingNano/ZZ_TuneCP5_13p6TeV_pythia8/ZZ_ScoutingNANOAOD_20250603/250603_204359/0000/output_ScoutingNANOAOD_60.root\": \"Events\",\n",
      "            \"root://eosuser.cern.ch//eos/cms/store/group/phys_exotica/axol1tl/MC_ScoutingNano/ZZ_TuneCP5_13p6TeV_pythia8/ZZ_ScoutingNANOAOD_20250603/250603_204359/0000/output_ScoutingNANOAOD_61.root\": \"Events\",\n",
      "            \"root://eosuser.cern.ch//eos/cms/store/group/phys_exotica/axol1tl/MC_ScoutingNano/ZZ_TuneCP5_13p6TeV_pythia8/ZZ_ScoutingNANOAOD_20250603/250603_204359/0000/output_ScoutingNANOAOD_62.root\": \"Events\",\n",
      "            \"root://eosuser.cern.ch//eos/cms/store/group/phys_exotica/axol1tl/MC_ScoutingNano/ZZ_TuneCP5_13p6TeV_pythia8/ZZ_ScoutingNANOAOD_20250603/250603_204359/0000/output_ScoutingNANOAOD_63.root\": \"Events\",\n",
      "            \"root://eosuser.cern.ch//eos/cms/store/group/phys_exotica/axol1tl/MC_ScoutingNano/ZZ_TuneCP5_13p6TeV_pythia8/ZZ_ScoutingNANOAOD_20250603/250603_204359/0000/output_ScoutingNANOAOD_64.root\": \"Events\",\n",
      "            \"root://eosuser.cern.ch//eos/cms/store/group/phys_exotica/axol1tl/MC_ScoutingNano/ZZ_TuneCP5_13p6TeV_pythia8/ZZ_ScoutingNANOAOD_20250603/250603_204359/0000/output_ScoutingNANOAOD_65.root\": \"Events\",\n",
      "            \"root://eosuser.cern.ch//eos/cms/store/group/phys_exotica/axol1tl/MC_ScoutingNano/ZZ_TuneCP5_13p6TeV_pythia8/ZZ_ScoutingNANOAOD_20250603/250603_204359/0000/output_ScoutingNANOAOD_66.root\": \"Events\",\n",
      "            \"root://eosuser.cern.ch//eos/cms/store/group/phys_exotica/axol1tl/MC_ScoutingNano/ZZ_TuneCP5_13p6TeV_pythia8/ZZ_ScoutingNANOAOD_20250603/250603_204359/0000/output_ScoutingNANOAOD_67.root\": \"Events\",\n",
      "            \"root://eosuser.cern.ch//eos/cms/store/group/phys_exotica/axol1tl/MC_ScoutingNano/ZZ_TuneCP5_13p6TeV_pythia8/ZZ_ScoutingNANOAOD_20250603/250603_204359/0000/output_ScoutingNANOAOD_68.root\": \"Events\",\n",
      "            \"root://eosuser.cern.ch//eos/cms/store/group/phys_exotica/axol1tl/MC_ScoutingNano/ZZ_TuneCP5_13p6TeV_pythia8/ZZ_ScoutingNANOAOD_20250603/250603_204359/0000/output_ScoutingNANOAOD_69.root\": \"Events\",\n",
      "            \"root://eosuser.cern.ch//eos/cms/store/group/phys_exotica/axol1tl/MC_ScoutingNano/ZZ_TuneCP5_13p6TeV_pythia8/ZZ_ScoutingNANOAOD_20250603/250603_204359/0000/output_ScoutingNANOAOD_7.root\": \"Events\",\n",
      "            \"root://eosuser.cern.ch//eos/cms/store/group/phys_exotica/axol1tl/MC_ScoutingNano/ZZ_TuneCP5_13p6TeV_pythia8/ZZ_ScoutingNANOAOD_20250603/250603_204359/0000/output_ScoutingNANOAOD_70.root\": \"Events\",\n",
      "            \"root://eosuser.cern.ch//eos/cms/store/group/phys_exotica/axol1tl/MC_ScoutingNano/ZZ_TuneCP5_13p6TeV_pythia8/ZZ_ScoutingNANOAOD_20250603/250603_204359/0000/output_ScoutingNANOAOD_71.root\": \"Events\",\n",
      "            \"root://eosuser.cern.ch//eos/cms/store/group/phys_exotica/axol1tl/MC_ScoutingNano/ZZ_TuneCP5_13p6TeV_pythia8/ZZ_ScoutingNANOAOD_20250603/250603_204359/0000/output_ScoutingNANOAOD_72.root\": \"Events\",\n",
      "            \"root://eosuser.cern.ch//eos/cms/store/group/phys_exotica/axol1tl/MC_ScoutingNano/ZZ_TuneCP5_13p6TeV_pythia8/ZZ_ScoutingNANOAOD_20250603/250603_204359/0000/output_ScoutingNANOAOD_73.root\": \"Events\",\n",
      "            \"root://eosuser.cern.ch//eos/cms/store/group/phys_exotica/axol1tl/MC_ScoutingNano/ZZ_TuneCP5_13p6TeV_pythia8/ZZ_ScoutingNANOAOD_20250603/250603_204359/0000/output_ScoutingNANOAOD_74.root\": \"Events\",\n",
      "            \"root://eosuser.cern.ch//eos/cms/store/group/phys_exotica/axol1tl/MC_ScoutingNano/ZZ_TuneCP5_13p6TeV_pythia8/ZZ_ScoutingNANOAOD_20250603/250603_204359/0000/output_ScoutingNANOAOD_75.root\": \"Events\",\n",
      "            \"root://eosuser.cern.ch//eos/cms/store/group/phys_exotica/axol1tl/MC_ScoutingNano/ZZ_TuneCP5_13p6TeV_pythia8/ZZ_ScoutingNANOAOD_20250603/250603_204359/0000/output_ScoutingNANOAOD_76.root\": \"Events\",\n",
      "            \"root://eosuser.cern.ch//eos/cms/store/group/phys_exotica/axol1tl/MC_ScoutingNano/ZZ_TuneCP5_13p6TeV_pythia8/ZZ_ScoutingNANOAOD_20250603/250603_204359/0000/output_ScoutingNANOAOD_77.root\": \"Events\",\n",
      "            \"root://eosuser.cern.ch//eos/cms/store/group/phys_exotica/axol1tl/MC_ScoutingNano/ZZ_TuneCP5_13p6TeV_pythia8/ZZ_ScoutingNANOAOD_20250603/250603_204359/0000/output_ScoutingNANOAOD_78.root\": \"Events\",\n",
      "            \"root://eosuser.cern.ch//eos/cms/store/group/phys_exotica/axol1tl/MC_ScoutingNano/ZZ_TuneCP5_13p6TeV_pythia8/ZZ_ScoutingNANOAOD_20250603/250603_204359/0000/output_ScoutingNANOAOD_79.root\": \"Events\",\n",
      "            \"root://eosuser.cern.ch//eos/cms/store/group/phys_exotica/axol1tl/MC_ScoutingNano/ZZ_TuneCP5_13p6TeV_pythia8/ZZ_ScoutingNANOAOD_20250603/250603_204359/0000/output_ScoutingNANOAOD_8.root\": \"Events\",\n",
      "            \"root://eosuser.cern.ch//eos/cms/store/group/phys_exotica/axol1tl/MC_ScoutingNano/ZZ_TuneCP5_13p6TeV_pythia8/ZZ_ScoutingNANOAOD_20250603/250603_204359/0000/output_ScoutingNANOAOD_80.root\": \"Events\",\n",
      "            \"root://eosuser.cern.ch//eos/cms/store/group/phys_exotica/axol1tl/MC_ScoutingNano/ZZ_TuneCP5_13p6TeV_pythia8/ZZ_ScoutingNANOAOD_20250603/250603_204359/0000/output_ScoutingNANOAOD_81.root\": \"Events\",\n",
      "            \"root://eosuser.cern.ch//eos/cms/store/group/phys_exotica/axol1tl/MC_ScoutingNano/ZZ_TuneCP5_13p6TeV_pythia8/ZZ_ScoutingNANOAOD_20250603/250603_204359/0000/output_ScoutingNANOAOD_82.root\": \"Events\",\n",
      "            \"root://eosuser.cern.ch//eos/cms/store/group/phys_exotica/axol1tl/MC_ScoutingNano/ZZ_TuneCP5_13p6TeV_pythia8/ZZ_ScoutingNANOAOD_20250603/250603_204359/0000/output_ScoutingNANOAOD_83.root\": \"Events\",\n",
      "            \"root://eosuser.cern.ch//eos/cms/store/group/phys_exotica/axol1tl/MC_ScoutingNano/ZZ_TuneCP5_13p6TeV_pythia8/ZZ_ScoutingNANOAOD_20250603/250603_204359/0000/output_ScoutingNANOAOD_84.root\": \"Events\",\n",
      "            \"root://eosuser.cern.ch//eos/cms/store/group/phys_exotica/axol1tl/MC_ScoutingNano/ZZ_TuneCP5_13p6TeV_pythia8/ZZ_ScoutingNANOAOD_20250603/250603_204359/0000/output_ScoutingNANOAOD_85.root\": \"Events\",\n",
      "            \"root://eosuser.cern.ch//eos/cms/store/group/phys_exotica/axol1tl/MC_ScoutingNano/ZZ_TuneCP5_13p6TeV_pythia8/ZZ_ScoutingNANOAOD_20250603/250603_204359/0000/output_ScoutingNANOAOD_86.root\": \"Events\",\n",
      "            \"root://eosuser.cern.ch//eos/cms/store/group/phys_exotica/axol1tl/MC_ScoutingNano/ZZ_TuneCP5_13p6TeV_pythia8/ZZ_ScoutingNANOAOD_20250603/250603_204359/0000/output_ScoutingNANOAOD_87.root\": \"Events\",\n",
      "            \"root://eosuser.cern.ch//eos/cms/store/group/phys_exotica/axol1tl/MC_ScoutingNano/ZZ_TuneCP5_13p6TeV_pythia8/ZZ_ScoutingNANOAOD_20250603/250603_204359/0000/output_ScoutingNANOAOD_88.root\": \"Events\",\n",
      "            \"root://eosuser.cern.ch//eos/cms/store/group/phys_exotica/axol1tl/MC_ScoutingNano/ZZ_TuneCP5_13p6TeV_pythia8/ZZ_ScoutingNANOAOD_20250603/250603_204359/0000/output_ScoutingNANOAOD_89.root\": \"Events\",\n",
      "            \"root://eosuser.cern.ch//eos/cms/store/group/phys_exotica/axol1tl/MC_ScoutingNano/ZZ_TuneCP5_13p6TeV_pythia8/ZZ_ScoutingNANOAOD_20250603/250603_204359/0000/output_ScoutingNANOAOD_9.root\": \"Events\",\n",
      "            \"root://eosuser.cern.ch//eos/cms/store/group/phys_exotica/axol1tl/MC_ScoutingNano/ZZ_TuneCP5_13p6TeV_pythia8/ZZ_ScoutingNANOAOD_20250603/250603_204359/0000/output_ScoutingNANOAOD_90.root\": \"Events\",\n",
      "            \"root://eosuser.cern.ch//eos/cms/store/group/phys_exotica/axol1tl/MC_ScoutingNano/ZZ_TuneCP5_13p6TeV_pythia8/ZZ_ScoutingNANOAOD_20250603/250603_204359/0000/output_ScoutingNANOAOD_91.root\": \"Events\",\n",
      "            \"root://eosuser.cern.ch//eos/cms/store/group/phys_exotica/axol1tl/MC_ScoutingNano/ZZ_TuneCP5_13p6TeV_pythia8/ZZ_ScoutingNANOAOD_20250603/250603_204359/0000/output_ScoutingNANOAOD_92.root\": \"Events\",\n",
      "            \"root://eosuser.cern.ch//eos/cms/store/group/phys_exotica/axol1tl/MC_ScoutingNano/ZZ_TuneCP5_13p6TeV_pythia8/ZZ_ScoutingNANOAOD_20250603/250603_204359/0000/output_ScoutingNANOAOD_93.root\": \"Events\",\n",
      "            \"root://eosuser.cern.ch//eos/cms/store/group/phys_exotica/axol1tl/MC_ScoutingNano/ZZ_TuneCP5_13p6TeV_pythia8/ZZ_ScoutingNANOAOD_20250603/250603_204359/0000/output_ScoutingNANOAOD_94.root\": \"Events\",\n",
      "            \"root://eosuser.cern.ch//eos/cms/store/group/phys_exotica/axol1tl/MC_ScoutingNano/ZZ_TuneCP5_13p6TeV_pythia8/ZZ_ScoutingNANOAOD_20250603/250603_204359/0000/output_ScoutingNANOAOD_95.root\": \"Events\",\n",
      "            \"root://eosuser.cern.ch//eos/cms/store/group/phys_exotica/axol1tl/MC_ScoutingNano/ZZ_TuneCP5_13p6TeV_pythia8/ZZ_ScoutingNANOAOD_20250603/250603_204359/0000/output_ScoutingNANOAOD_96.root\": \"Events\",\n",
      "            \"root://eosuser.cern.ch//eos/cms/store/group/phys_exotica/axol1tl/MC_ScoutingNano/ZZ_TuneCP5_13p6TeV_pythia8/ZZ_ScoutingNANOAOD_20250603/250603_204359/0000/output_ScoutingNANOAOD_97.root\": \"Events\",\n",
      "            \"root://eosuser.cern.ch//eos/cms/store/group/phys_exotica/axol1tl/MC_ScoutingNano/ZZ_TuneCP5_13p6TeV_pythia8/ZZ_ScoutingNANOAOD_20250603/250603_204359/0000/output_ScoutingNANOAOD_98.root\": \"Events\",\n",
      "            \"root://eosuser.cern.ch//eos/cms/store/group/phys_exotica/axol1tl/MC_ScoutingNano/ZZ_TuneCP5_13p6TeV_pythia8/ZZ_ScoutingNANOAOD_20250603/250603_204359/0000/output_ScoutingNANOAOD_99.root\": \"Events\"\n",
      "        }\n",
      "    }\n",
      "}\n",
      "<class 'dict'>\n",
      "dict_keys(['root://eosuser.cern.ch//eos/cms/store/group/phys_exotica/axol1tl/MC_ScoutingNano/ZZ_TuneCP5_13p6TeV_pythia8/ZZ_ScoutingNANOAOD_20250603/250603_204359/0000/output_ScoutingNANOAOD_1.root', 'root://eosuser.cern.ch//eos/cms/store/group/phys_exotica/axol1tl/MC_ScoutingNano/ZZ_TuneCP5_13p6TeV_pythia8/ZZ_ScoutingNANOAOD_20250603/250603_204359/0000/output_ScoutingNANOAOD_10.root', 'root://eosuser.cern.ch//eos/cms/store/group/phys_exotica/axol1tl/MC_ScoutingNano/ZZ_TuneCP5_13p6TeV_pythia8/ZZ_ScoutingNANOAOD_20250603/250603_204359/0000/output_ScoutingNANOAOD_100.root', 'root://eosuser.cern.ch//eos/cms/store/group/phys_exotica/axol1tl/MC_ScoutingNano/ZZ_TuneCP5_13p6TeV_pythia8/ZZ_ScoutingNANOAOD_20250603/250603_204359/0000/output_ScoutingNANOAOD_11.root', 'root://eosuser.cern.ch//eos/cms/store/group/phys_exotica/axol1tl/MC_ScoutingNano/ZZ_TuneCP5_13p6TeV_pythia8/ZZ_ScoutingNANOAOD_20250603/250603_204359/0000/output_ScoutingNANOAOD_12.root', 'root://eosuser.cern.ch//eos/cms/store/group/phys_exotica/axol1tl/MC_ScoutingNano/ZZ_TuneCP5_13p6TeV_pythia8/ZZ_ScoutingNANOAOD_20250603/250603_204359/0000/output_ScoutingNANOAOD_13.root', 'root://eosuser.cern.ch//eos/cms/store/group/phys_exotica/axol1tl/MC_ScoutingNano/ZZ_TuneCP5_13p6TeV_pythia8/ZZ_ScoutingNANOAOD_20250603/250603_204359/0000/output_ScoutingNANOAOD_14.root', 'root://eosuser.cern.ch//eos/cms/store/group/phys_exotica/axol1tl/MC_ScoutingNano/ZZ_TuneCP5_13p6TeV_pythia8/ZZ_ScoutingNANOAOD_20250603/250603_204359/0000/output_ScoutingNANOAOD_15.root', 'root://eosuser.cern.ch//eos/cms/store/group/phys_exotica/axol1tl/MC_ScoutingNano/ZZ_TuneCP5_13p6TeV_pythia8/ZZ_ScoutingNANOAOD_20250603/250603_204359/0000/output_ScoutingNANOAOD_16.root', 'root://eosuser.cern.ch//eos/cms/store/group/phys_exotica/axol1tl/MC_ScoutingNano/ZZ_TuneCP5_13p6TeV_pythia8/ZZ_ScoutingNANOAOD_20250603/250603_204359/0000/output_ScoutingNANOAOD_17.root', 'root://eosuser.cern.ch//eos/cms/store/group/phys_exotica/axol1tl/MC_ScoutingNano/ZZ_TuneCP5_13p6TeV_pythia8/ZZ_ScoutingNANOAOD_20250603/250603_204359/0000/output_ScoutingNANOAOD_18.root', 'root://eosuser.cern.ch//eos/cms/store/group/phys_exotica/axol1tl/MC_ScoutingNano/ZZ_TuneCP5_13p6TeV_pythia8/ZZ_ScoutingNANOAOD_20250603/250603_204359/0000/output_ScoutingNANOAOD_19.root', 'root://eosuser.cern.ch//eos/cms/store/group/phys_exotica/axol1tl/MC_ScoutingNano/ZZ_TuneCP5_13p6TeV_pythia8/ZZ_ScoutingNANOAOD_20250603/250603_204359/0000/output_ScoutingNANOAOD_2.root', 'root://eosuser.cern.ch//eos/cms/store/group/phys_exotica/axol1tl/MC_ScoutingNano/ZZ_TuneCP5_13p6TeV_pythia8/ZZ_ScoutingNANOAOD_20250603/250603_204359/0000/output_ScoutingNANOAOD_20.root', 'root://eosuser.cern.ch//eos/cms/store/group/phys_exotica/axol1tl/MC_ScoutingNano/ZZ_TuneCP5_13p6TeV_pythia8/ZZ_ScoutingNANOAOD_20250603/250603_204359/0000/output_ScoutingNANOAOD_21.root', 'root://eosuser.cern.ch//eos/cms/store/group/phys_exotica/axol1tl/MC_ScoutingNano/ZZ_TuneCP5_13p6TeV_pythia8/ZZ_ScoutingNANOAOD_20250603/250603_204359/0000/output_ScoutingNANOAOD_22.root', 'root://eosuser.cern.ch//eos/cms/store/group/phys_exotica/axol1tl/MC_ScoutingNano/ZZ_TuneCP5_13p6TeV_pythia8/ZZ_ScoutingNANOAOD_20250603/250603_204359/0000/output_ScoutingNANOAOD_23.root', 'root://eosuser.cern.ch//eos/cms/store/group/phys_exotica/axol1tl/MC_ScoutingNano/ZZ_TuneCP5_13p6TeV_pythia8/ZZ_ScoutingNANOAOD_20250603/250603_204359/0000/output_ScoutingNANOAOD_24.root', 'root://eosuser.cern.ch//eos/cms/store/group/phys_exotica/axol1tl/MC_ScoutingNano/ZZ_TuneCP5_13p6TeV_pythia8/ZZ_ScoutingNANOAOD_20250603/250603_204359/0000/output_ScoutingNANOAOD_25.root', 'root://eosuser.cern.ch//eos/cms/store/group/phys_exotica/axol1tl/MC_ScoutingNano/ZZ_TuneCP5_13p6TeV_pythia8/ZZ_ScoutingNANOAOD_20250603/250603_204359/0000/output_ScoutingNANOAOD_26.root', 'root://eosuser.cern.ch//eos/cms/store/group/phys_exotica/axol1tl/MC_ScoutingNano/ZZ_TuneCP5_13p6TeV_pythia8/ZZ_ScoutingNANOAOD_20250603/250603_204359/0000/output_ScoutingNANOAOD_27.root', 'root://eosuser.cern.ch//eos/cms/store/group/phys_exotica/axol1tl/MC_ScoutingNano/ZZ_TuneCP5_13p6TeV_pythia8/ZZ_ScoutingNANOAOD_20250603/250603_204359/0000/output_ScoutingNANOAOD_28.root', 'root://eosuser.cern.ch//eos/cms/store/group/phys_exotica/axol1tl/MC_ScoutingNano/ZZ_TuneCP5_13p6TeV_pythia8/ZZ_ScoutingNANOAOD_20250603/250603_204359/0000/output_ScoutingNANOAOD_29.root', 'root://eosuser.cern.ch//eos/cms/store/group/phys_exotica/axol1tl/MC_ScoutingNano/ZZ_TuneCP5_13p6TeV_pythia8/ZZ_ScoutingNANOAOD_20250603/250603_204359/0000/output_ScoutingNANOAOD_3.root', 'root://eosuser.cern.ch//eos/cms/store/group/phys_exotica/axol1tl/MC_ScoutingNano/ZZ_TuneCP5_13p6TeV_pythia8/ZZ_ScoutingNANOAOD_20250603/250603_204359/0000/output_ScoutingNANOAOD_30.root', 'root://eosuser.cern.ch//eos/cms/store/group/phys_exotica/axol1tl/MC_ScoutingNano/ZZ_TuneCP5_13p6TeV_pythia8/ZZ_ScoutingNANOAOD_20250603/250603_204359/0000/output_ScoutingNANOAOD_31.root', 'root://eosuser.cern.ch//eos/cms/store/group/phys_exotica/axol1tl/MC_ScoutingNano/ZZ_TuneCP5_13p6TeV_pythia8/ZZ_ScoutingNANOAOD_20250603/250603_204359/0000/output_ScoutingNANOAOD_32.root', 'root://eosuser.cern.ch//eos/cms/store/group/phys_exotica/axol1tl/MC_ScoutingNano/ZZ_TuneCP5_13p6TeV_pythia8/ZZ_ScoutingNANOAOD_20250603/250603_204359/0000/output_ScoutingNANOAOD_33.root', 'root://eosuser.cern.ch//eos/cms/store/group/phys_exotica/axol1tl/MC_ScoutingNano/ZZ_TuneCP5_13p6TeV_pythia8/ZZ_ScoutingNANOAOD_20250603/250603_204359/0000/output_ScoutingNANOAOD_34.root', 'root://eosuser.cern.ch//eos/cms/store/group/phys_exotica/axol1tl/MC_ScoutingNano/ZZ_TuneCP5_13p6TeV_pythia8/ZZ_ScoutingNANOAOD_20250603/250603_204359/0000/output_ScoutingNANOAOD_35.root', 'root://eosuser.cern.ch//eos/cms/store/group/phys_exotica/axol1tl/MC_ScoutingNano/ZZ_TuneCP5_13p6TeV_pythia8/ZZ_ScoutingNANOAOD_20250603/250603_204359/0000/output_ScoutingNANOAOD_36.root', 'root://eosuser.cern.ch//eos/cms/store/group/phys_exotica/axol1tl/MC_ScoutingNano/ZZ_TuneCP5_13p6TeV_pythia8/ZZ_ScoutingNANOAOD_20250603/250603_204359/0000/output_ScoutingNANOAOD_37.root', 'root://eosuser.cern.ch//eos/cms/store/group/phys_exotica/axol1tl/MC_ScoutingNano/ZZ_TuneCP5_13p6TeV_pythia8/ZZ_ScoutingNANOAOD_20250603/250603_204359/0000/output_ScoutingNANOAOD_38.root', 'root://eosuser.cern.ch//eos/cms/store/group/phys_exotica/axol1tl/MC_ScoutingNano/ZZ_TuneCP5_13p6TeV_pythia8/ZZ_ScoutingNANOAOD_20250603/250603_204359/0000/output_ScoutingNANOAOD_39.root', 'root://eosuser.cern.ch//eos/cms/store/group/phys_exotica/axol1tl/MC_ScoutingNano/ZZ_TuneCP5_13p6TeV_pythia8/ZZ_ScoutingNANOAOD_20250603/250603_204359/0000/output_ScoutingNANOAOD_4.root', 'root://eosuser.cern.ch//eos/cms/store/group/phys_exotica/axol1tl/MC_ScoutingNano/ZZ_TuneCP5_13p6TeV_pythia8/ZZ_ScoutingNANOAOD_20250603/250603_204359/0000/output_ScoutingNANOAOD_40.root', 'root://eosuser.cern.ch//eos/cms/store/group/phys_exotica/axol1tl/MC_ScoutingNano/ZZ_TuneCP5_13p6TeV_pythia8/ZZ_ScoutingNANOAOD_20250603/250603_204359/0000/output_ScoutingNANOAOD_41.root', 'root://eosuser.cern.ch//eos/cms/store/group/phys_exotica/axol1tl/MC_ScoutingNano/ZZ_TuneCP5_13p6TeV_pythia8/ZZ_ScoutingNANOAOD_20250603/250603_204359/0000/output_ScoutingNANOAOD_42.root', 'root://eosuser.cern.ch//eos/cms/store/group/phys_exotica/axol1tl/MC_ScoutingNano/ZZ_TuneCP5_13p6TeV_pythia8/ZZ_ScoutingNANOAOD_20250603/250603_204359/0000/output_ScoutingNANOAOD_43.root', 'root://eosuser.cern.ch//eos/cms/store/group/phys_exotica/axol1tl/MC_ScoutingNano/ZZ_TuneCP5_13p6TeV_pythia8/ZZ_ScoutingNANOAOD_20250603/250603_204359/0000/output_ScoutingNANOAOD_44.root', 'root://eosuser.cern.ch//eos/cms/store/group/phys_exotica/axol1tl/MC_ScoutingNano/ZZ_TuneCP5_13p6TeV_pythia8/ZZ_ScoutingNANOAOD_20250603/250603_204359/0000/output_ScoutingNANOAOD_45.root', 'root://eosuser.cern.ch//eos/cms/store/group/phys_exotica/axol1tl/MC_ScoutingNano/ZZ_TuneCP5_13p6TeV_pythia8/ZZ_ScoutingNANOAOD_20250603/250603_204359/0000/output_ScoutingNANOAOD_46.root', 'root://eosuser.cern.ch//eos/cms/store/group/phys_exotica/axol1tl/MC_ScoutingNano/ZZ_TuneCP5_13p6TeV_pythia8/ZZ_ScoutingNANOAOD_20250603/250603_204359/0000/output_ScoutingNANOAOD_47.root', 'root://eosuser.cern.ch//eos/cms/store/group/phys_exotica/axol1tl/MC_ScoutingNano/ZZ_TuneCP5_13p6TeV_pythia8/ZZ_ScoutingNANOAOD_20250603/250603_204359/0000/output_ScoutingNANOAOD_48.root', 'root://eosuser.cern.ch//eos/cms/store/group/phys_exotica/axol1tl/MC_ScoutingNano/ZZ_TuneCP5_13p6TeV_pythia8/ZZ_ScoutingNANOAOD_20250603/250603_204359/0000/output_ScoutingNANOAOD_49.root', 'root://eosuser.cern.ch//eos/cms/store/group/phys_exotica/axol1tl/MC_ScoutingNano/ZZ_TuneCP5_13p6TeV_pythia8/ZZ_ScoutingNANOAOD_20250603/250603_204359/0000/output_ScoutingNANOAOD_5.root', 'root://eosuser.cern.ch//eos/cms/store/group/phys_exotica/axol1tl/MC_ScoutingNano/ZZ_TuneCP5_13p6TeV_pythia8/ZZ_ScoutingNANOAOD_20250603/250603_204359/0000/output_ScoutingNANOAOD_50.root', 'root://eosuser.cern.ch//eos/cms/store/group/phys_exotica/axol1tl/MC_ScoutingNano/ZZ_TuneCP5_13p6TeV_pythia8/ZZ_ScoutingNANOAOD_20250603/250603_204359/0000/output_ScoutingNANOAOD_51.root', 'root://eosuser.cern.ch//eos/cms/store/group/phys_exotica/axol1tl/MC_ScoutingNano/ZZ_TuneCP5_13p6TeV_pythia8/ZZ_ScoutingNANOAOD_20250603/250603_204359/0000/output_ScoutingNANOAOD_52.root', 'root://eosuser.cern.ch//eos/cms/store/group/phys_exotica/axol1tl/MC_ScoutingNano/ZZ_TuneCP5_13p6TeV_pythia8/ZZ_ScoutingNANOAOD_20250603/250603_204359/0000/output_ScoutingNANOAOD_53.root', 'root://eosuser.cern.ch//eos/cms/store/group/phys_exotica/axol1tl/MC_ScoutingNano/ZZ_TuneCP5_13p6TeV_pythia8/ZZ_ScoutingNANOAOD_20250603/250603_204359/0000/output_ScoutingNANOAOD_54.root', 'root://eosuser.cern.ch//eos/cms/store/group/phys_exotica/axol1tl/MC_ScoutingNano/ZZ_TuneCP5_13p6TeV_pythia8/ZZ_ScoutingNANOAOD_20250603/250603_204359/0000/output_ScoutingNANOAOD_55.root', 'root://eosuser.cern.ch//eos/cms/store/group/phys_exotica/axol1tl/MC_ScoutingNano/ZZ_TuneCP5_13p6TeV_pythia8/ZZ_ScoutingNANOAOD_20250603/250603_204359/0000/output_ScoutingNANOAOD_56.root', 'root://eosuser.cern.ch//eos/cms/store/group/phys_exotica/axol1tl/MC_ScoutingNano/ZZ_TuneCP5_13p6TeV_pythia8/ZZ_ScoutingNANOAOD_20250603/250603_204359/0000/output_ScoutingNANOAOD_57.root', 'root://eosuser.cern.ch//eos/cms/store/group/phys_exotica/axol1tl/MC_ScoutingNano/ZZ_TuneCP5_13p6TeV_pythia8/ZZ_ScoutingNANOAOD_20250603/250603_204359/0000/output_ScoutingNANOAOD_58.root', 'root://eosuser.cern.ch//eos/cms/store/group/phys_exotica/axol1tl/MC_ScoutingNano/ZZ_TuneCP5_13p6TeV_pythia8/ZZ_ScoutingNANOAOD_20250603/250603_204359/0000/output_ScoutingNANOAOD_59.root', 'root://eosuser.cern.ch//eos/cms/store/group/phys_exotica/axol1tl/MC_ScoutingNano/ZZ_TuneCP5_13p6TeV_pythia8/ZZ_ScoutingNANOAOD_20250603/250603_204359/0000/output_ScoutingNANOAOD_6.root', 'root://eosuser.cern.ch//eos/cms/store/group/phys_exotica/axol1tl/MC_ScoutingNano/ZZ_TuneCP5_13p6TeV_pythia8/ZZ_ScoutingNANOAOD_20250603/250603_204359/0000/output_ScoutingNANOAOD_60.root', 'root://eosuser.cern.ch//eos/cms/store/group/phys_exotica/axol1tl/MC_ScoutingNano/ZZ_TuneCP5_13p6TeV_pythia8/ZZ_ScoutingNANOAOD_20250603/250603_204359/0000/output_ScoutingNANOAOD_61.root', 'root://eosuser.cern.ch//eos/cms/store/group/phys_exotica/axol1tl/MC_ScoutingNano/ZZ_TuneCP5_13p6TeV_pythia8/ZZ_ScoutingNANOAOD_20250603/250603_204359/0000/output_ScoutingNANOAOD_62.root', 'root://eosuser.cern.ch//eos/cms/store/group/phys_exotica/axol1tl/MC_ScoutingNano/ZZ_TuneCP5_13p6TeV_pythia8/ZZ_ScoutingNANOAOD_20250603/250603_204359/0000/output_ScoutingNANOAOD_63.root', 'root://eosuser.cern.ch//eos/cms/store/group/phys_exotica/axol1tl/MC_ScoutingNano/ZZ_TuneCP5_13p6TeV_pythia8/ZZ_ScoutingNANOAOD_20250603/250603_204359/0000/output_ScoutingNANOAOD_64.root', 'root://eosuser.cern.ch//eos/cms/store/group/phys_exotica/axol1tl/MC_ScoutingNano/ZZ_TuneCP5_13p6TeV_pythia8/ZZ_ScoutingNANOAOD_20250603/250603_204359/0000/output_ScoutingNANOAOD_65.root', 'root://eosuser.cern.ch//eos/cms/store/group/phys_exotica/axol1tl/MC_ScoutingNano/ZZ_TuneCP5_13p6TeV_pythia8/ZZ_ScoutingNANOAOD_20250603/250603_204359/0000/output_ScoutingNANOAOD_66.root', 'root://eosuser.cern.ch//eos/cms/store/group/phys_exotica/axol1tl/MC_ScoutingNano/ZZ_TuneCP5_13p6TeV_pythia8/ZZ_ScoutingNANOAOD_20250603/250603_204359/0000/output_ScoutingNANOAOD_67.root', 'root://eosuser.cern.ch//eos/cms/store/group/phys_exotica/axol1tl/MC_ScoutingNano/ZZ_TuneCP5_13p6TeV_pythia8/ZZ_ScoutingNANOAOD_20250603/250603_204359/0000/output_ScoutingNANOAOD_68.root', 'root://eosuser.cern.ch//eos/cms/store/group/phys_exotica/axol1tl/MC_ScoutingNano/ZZ_TuneCP5_13p6TeV_pythia8/ZZ_ScoutingNANOAOD_20250603/250603_204359/0000/output_ScoutingNANOAOD_69.root', 'root://eosuser.cern.ch//eos/cms/store/group/phys_exotica/axol1tl/MC_ScoutingNano/ZZ_TuneCP5_13p6TeV_pythia8/ZZ_ScoutingNANOAOD_20250603/250603_204359/0000/output_ScoutingNANOAOD_7.root', 'root://eosuser.cern.ch//eos/cms/store/group/phys_exotica/axol1tl/MC_ScoutingNano/ZZ_TuneCP5_13p6TeV_pythia8/ZZ_ScoutingNANOAOD_20250603/250603_204359/0000/output_ScoutingNANOAOD_70.root', 'root://eosuser.cern.ch//eos/cms/store/group/phys_exotica/axol1tl/MC_ScoutingNano/ZZ_TuneCP5_13p6TeV_pythia8/ZZ_ScoutingNANOAOD_20250603/250603_204359/0000/output_ScoutingNANOAOD_71.root', 'root://eosuser.cern.ch//eos/cms/store/group/phys_exotica/axol1tl/MC_ScoutingNano/ZZ_TuneCP5_13p6TeV_pythia8/ZZ_ScoutingNANOAOD_20250603/250603_204359/0000/output_ScoutingNANOAOD_72.root', 'root://eosuser.cern.ch//eos/cms/store/group/phys_exotica/axol1tl/MC_ScoutingNano/ZZ_TuneCP5_13p6TeV_pythia8/ZZ_ScoutingNANOAOD_20250603/250603_204359/0000/output_ScoutingNANOAOD_73.root', 'root://eosuser.cern.ch//eos/cms/store/group/phys_exotica/axol1tl/MC_ScoutingNano/ZZ_TuneCP5_13p6TeV_pythia8/ZZ_ScoutingNANOAOD_20250603/250603_204359/0000/output_ScoutingNANOAOD_74.root', 'root://eosuser.cern.ch//eos/cms/store/group/phys_exotica/axol1tl/MC_ScoutingNano/ZZ_TuneCP5_13p6TeV_pythia8/ZZ_ScoutingNANOAOD_20250603/250603_204359/0000/output_ScoutingNANOAOD_75.root', 'root://eosuser.cern.ch//eos/cms/store/group/phys_exotica/axol1tl/MC_ScoutingNano/ZZ_TuneCP5_13p6TeV_pythia8/ZZ_ScoutingNANOAOD_20250603/250603_204359/0000/output_ScoutingNANOAOD_76.root', 'root://eosuser.cern.ch//eos/cms/store/group/phys_exotica/axol1tl/MC_ScoutingNano/ZZ_TuneCP5_13p6TeV_pythia8/ZZ_ScoutingNANOAOD_20250603/250603_204359/0000/output_ScoutingNANOAOD_77.root', 'root://eosuser.cern.ch//eos/cms/store/group/phys_exotica/axol1tl/MC_ScoutingNano/ZZ_TuneCP5_13p6TeV_pythia8/ZZ_ScoutingNANOAOD_20250603/250603_204359/0000/output_ScoutingNANOAOD_78.root', 'root://eosuser.cern.ch//eos/cms/store/group/phys_exotica/axol1tl/MC_ScoutingNano/ZZ_TuneCP5_13p6TeV_pythia8/ZZ_ScoutingNANOAOD_20250603/250603_204359/0000/output_ScoutingNANOAOD_79.root', 'root://eosuser.cern.ch//eos/cms/store/group/phys_exotica/axol1tl/MC_ScoutingNano/ZZ_TuneCP5_13p6TeV_pythia8/ZZ_ScoutingNANOAOD_20250603/250603_204359/0000/output_ScoutingNANOAOD_8.root', 'root://eosuser.cern.ch//eos/cms/store/group/phys_exotica/axol1tl/MC_ScoutingNano/ZZ_TuneCP5_13p6TeV_pythia8/ZZ_ScoutingNANOAOD_20250603/250603_204359/0000/output_ScoutingNANOAOD_80.root', 'root://eosuser.cern.ch//eos/cms/store/group/phys_exotica/axol1tl/MC_ScoutingNano/ZZ_TuneCP5_13p6TeV_pythia8/ZZ_ScoutingNANOAOD_20250603/250603_204359/0000/output_ScoutingNANOAOD_81.root', 'root://eosuser.cern.ch//eos/cms/store/group/phys_exotica/axol1tl/MC_ScoutingNano/ZZ_TuneCP5_13p6TeV_pythia8/ZZ_ScoutingNANOAOD_20250603/250603_204359/0000/output_ScoutingNANOAOD_82.root', 'root://eosuser.cern.ch//eos/cms/store/group/phys_exotica/axol1tl/MC_ScoutingNano/ZZ_TuneCP5_13p6TeV_pythia8/ZZ_ScoutingNANOAOD_20250603/250603_204359/0000/output_ScoutingNANOAOD_83.root', 'root://eosuser.cern.ch//eos/cms/store/group/phys_exotica/axol1tl/MC_ScoutingNano/ZZ_TuneCP5_13p6TeV_pythia8/ZZ_ScoutingNANOAOD_20250603/250603_204359/0000/output_ScoutingNANOAOD_84.root', 'root://eosuser.cern.ch//eos/cms/store/group/phys_exotica/axol1tl/MC_ScoutingNano/ZZ_TuneCP5_13p6TeV_pythia8/ZZ_ScoutingNANOAOD_20250603/250603_204359/0000/output_ScoutingNANOAOD_85.root', 'root://eosuser.cern.ch//eos/cms/store/group/phys_exotica/axol1tl/MC_ScoutingNano/ZZ_TuneCP5_13p6TeV_pythia8/ZZ_ScoutingNANOAOD_20250603/250603_204359/0000/output_ScoutingNANOAOD_86.root', 'root://eosuser.cern.ch//eos/cms/store/group/phys_exotica/axol1tl/MC_ScoutingNano/ZZ_TuneCP5_13p6TeV_pythia8/ZZ_ScoutingNANOAOD_20250603/250603_204359/0000/output_ScoutingNANOAOD_87.root', 'root://eosuser.cern.ch//eos/cms/store/group/phys_exotica/axol1tl/MC_ScoutingNano/ZZ_TuneCP5_13p6TeV_pythia8/ZZ_ScoutingNANOAOD_20250603/250603_204359/0000/output_ScoutingNANOAOD_88.root', 'root://eosuser.cern.ch//eos/cms/store/group/phys_exotica/axol1tl/MC_ScoutingNano/ZZ_TuneCP5_13p6TeV_pythia8/ZZ_ScoutingNANOAOD_20250603/250603_204359/0000/output_ScoutingNANOAOD_89.root', 'root://eosuser.cern.ch//eos/cms/store/group/phys_exotica/axol1tl/MC_ScoutingNano/ZZ_TuneCP5_13p6TeV_pythia8/ZZ_ScoutingNANOAOD_20250603/250603_204359/0000/output_ScoutingNANOAOD_9.root', 'root://eosuser.cern.ch//eos/cms/store/group/phys_exotica/axol1tl/MC_ScoutingNano/ZZ_TuneCP5_13p6TeV_pythia8/ZZ_ScoutingNANOAOD_20250603/250603_204359/0000/output_ScoutingNANOAOD_90.root', 'root://eosuser.cern.ch//eos/cms/store/group/phys_exotica/axol1tl/MC_ScoutingNano/ZZ_TuneCP5_13p6TeV_pythia8/ZZ_ScoutingNANOAOD_20250603/250603_204359/0000/output_ScoutingNANOAOD_91.root', 'root://eosuser.cern.ch//eos/cms/store/group/phys_exotica/axol1tl/MC_ScoutingNano/ZZ_TuneCP5_13p6TeV_pythia8/ZZ_ScoutingNANOAOD_20250603/250603_204359/0000/output_ScoutingNANOAOD_92.root', 'root://eosuser.cern.ch//eos/cms/store/group/phys_exotica/axol1tl/MC_ScoutingNano/ZZ_TuneCP5_13p6TeV_pythia8/ZZ_ScoutingNANOAOD_20250603/250603_204359/0000/output_ScoutingNANOAOD_93.root', 'root://eosuser.cern.ch//eos/cms/store/group/phys_exotica/axol1tl/MC_ScoutingNano/ZZ_TuneCP5_13p6TeV_pythia8/ZZ_ScoutingNANOAOD_20250603/250603_204359/0000/output_ScoutingNANOAOD_94.root', 'root://eosuser.cern.ch//eos/cms/store/group/phys_exotica/axol1tl/MC_ScoutingNano/ZZ_TuneCP5_13p6TeV_pythia8/ZZ_ScoutingNANOAOD_20250603/250603_204359/0000/output_ScoutingNANOAOD_95.root', 'root://eosuser.cern.ch//eos/cms/store/group/phys_exotica/axol1tl/MC_ScoutingNano/ZZ_TuneCP5_13p6TeV_pythia8/ZZ_ScoutingNANOAOD_20250603/250603_204359/0000/output_ScoutingNANOAOD_96.root', 'root://eosuser.cern.ch//eos/cms/store/group/phys_exotica/axol1tl/MC_ScoutingNano/ZZ_TuneCP5_13p6TeV_pythia8/ZZ_ScoutingNANOAOD_20250603/250603_204359/0000/output_ScoutingNANOAOD_97.root', 'root://eosuser.cern.ch//eos/cms/store/group/phys_exotica/axol1tl/MC_ScoutingNano/ZZ_TuneCP5_13p6TeV_pythia8/ZZ_ScoutingNANOAOD_20250603/250603_204359/0000/output_ScoutingNANOAOD_98.root', 'root://eosuser.cern.ch//eos/cms/store/group/phys_exotica/axol1tl/MC_ScoutingNano/ZZ_TuneCP5_13p6TeV_pythia8/ZZ_ScoutingNANOAOD_20250603/250603_204359/0000/output_ScoutingNANOAOD_99.root'])\n"
     ]
    }
   ],
   "source": [
    "import json\n",
    "\n",
    "with open(\"filelist_ZZ.json\") as f:\n",
    "    dataset = json.load(f)\n",
    "\n",
    "print(json.dumps(dataset, indent=4))\n",
    "print(type(dataset[\"ZZ_TuneCP5_13p6TeV_pythia8\"][\"files\"]))\n",
    "print(dataset[\"ZZ_TuneCP5_13p6TeV_pythia8\"][\"files\"].keys())  # should print filenames\n"
   ]
  },
  {
   "cell_type": "code",
   "execution_count": 15,
   "id": "6662c468-b480-46a8-bc48-66a6f649610a",
   "metadata": {},
   "outputs": [
    {
     "name": "stdout",
     "output_type": "stream",
     "text": [
      "['Events;9', 'Events;8', 'Runs;1', 'LuminosityBlocks;1']\n"
     ]
    }
   ],
   "source": [
    "import uproot\n",
    "\n",
    "file_url = \"root://xcache//store/group/phys_exotica/axol1tl/Data_ScoutingNano_withAXOscore/2024I/output_1298_v2_run386814.root\"\n",
    "with uproot.open(file_url) as f:\n",
    "    print(f.keys())\n"
   ]
  },
  {
   "cell_type": "code",
   "execution_count": 16,
   "id": "fc744a45-5558-47e7-8080-7129e830a9ac",
   "metadata": {},
   "outputs": [
    {
     "name": "stdout",
     "output_type": "stream",
     "text": [
      "Keys in the ROOT file:\n",
      "['tag;1', 'Events;1', 'LuminosityBlocks;1', 'Runs;1', 'MetaData;1', 'ParameterSets;1']\n",
      "Number of entries in 'Events' tree: 17400\n"
     ]
    }
   ],
   "source": [
    "import uproot\n",
    "\n",
    "file_path = \"/tmp/output_ScoutingNANOAOD_1.root\"\n",
    "\n",
    "try:\n",
    "    with uproot.open(file_path) as f:\n",
    "        print(\"Keys in the ROOT file:\")\n",
    "        print(f.keys())  # List all keys (trees, folders, etc.)\n",
    "        \n",
    "        if \"Events\" in f:\n",
    "            events = f[\"Events\"]\n",
    "            print(f\"Number of entries in 'Events' tree: {events.num_entries}\")\n",
    "        else:\n",
    "            print(\"No 'Events' tree found in the file.\")\n",
    "except Exception as e:\n",
    "    print(\"Failed to open file:\", e)\n"
   ]
  },
  {
   "cell_type": "code",
   "execution_count": 17,
   "id": "a3760bed-96f6-4151-b912-b2e5bd8844d7",
   "metadata": {},
   "outputs": [
    {
     "name": "stdout",
     "output_type": "stream",
     "text": [
      "Keys in remote ROOT file:\n",
      "['tag;1', 'Events;1', 'LuminosityBlocks;1', 'Runs;1', 'MetaData;1', 'ParameterSets;1']\n",
      "Number of entries in 'Events' tree: 17400\n"
     ]
    }
   ],
   "source": [
    "import uproot\n",
    "\n",
    "remote_file = \"root://eosuser.cern.ch:1094//eos/cms/store/group/phys_exotica/axol1tl/MC_ScoutingNano/ZZ_TuneCP5_13p6TeV_pythia8/ZZ_ScoutingNANOAOD_20250603/250603_204359/0000/output_ScoutingNANOAOD_1.root\"\n",
    "\n",
    "try:\n",
    "    with uproot.open(remote_file) as f:\n",
    "        print(\"Keys in remote ROOT file:\")\n",
    "        print(f.keys())\n",
    "        events = f[\"Events\"]\n",
    "        print(f\"Number of entries in 'Events' tree: {events.num_entries}\")\n",
    "except Exception as e:\n",
    "    print(\"Failed to open remote file:\", e)\n"
   ]
  },
  {
   "cell_type": "code",
   "execution_count": null,
   "id": "7507f2d2-10e6-45e3-8e02-19ee7f243201",
   "metadata": {},
   "outputs": [],
   "source": []
  }
 ],
 "metadata": {
  "kernelspec": {
   "display_name": "Python 3 (ipykernel)",
   "language": "python",
   "name": "python3"
  },
  "language_info": {
   "codemirror_mode": {
    "name": "ipython",
    "version": 3
   },
   "file_extension": ".py",
   "mimetype": "text/x-python",
   "name": "python",
   "nbconvert_exporter": "python",
   "pygments_lexer": "ipython3",
   "version": "3.12.5"
  }
 },
 "nbformat": 4,
 "nbformat_minor": 5
}
