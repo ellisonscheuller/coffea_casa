{
 "cells": [
  {
   "cell_type": "code",
   "execution_count": 3,
   "id": "f87f2bbc-6568-49e9-8662-5bda0e7089bc",
   "metadata": {},
   "outputs": [],
   "source": [
    "from coffea.util import load\n",
    "import datetime\n",
    "import matplotlib.pyplot as plt\n",
    "import mplhep as hep\n",
    "import yaml\n",
    "import dill\n",
    "import pandas as pd\n",
    "plt.style.use('seaborn-v0_8-white')\n",
    "plt.rcParams['figure.dpi'] = 100#200 # Change for higher resolution\n",
    "hep.style.use('CMS')\n",
    "\n",
    "import numpy as np\n",
    "#from axo_studies import hist_selection, reco_objects, l1_objects\n",
    "%load_ext autoreload\n",
    "%autoreload 2\n",
    "import utils"
   ]
  },
  {
   "cell_type": "code",
   "execution_count": null,
   "id": "652ec668-2f68-47cd-b723-4260b8cf1de5",
   "metadata": {},
   "outputs": [
    {
     "name": "stdout",
     "output_type": "stream",
     "text": [
      "Available triggers:\n",
      "- DST_PFScouting_AXONominal\n",
      "- DST_PFScouting_ZeroBias_DST_PFScouting_AXONominal\n",
      "- DST_PFScouting_ZeroBias\n",
      "\n",
      "Available histograms:\n",
      "- anomaly_score\n",
      "- l1_ht\n",
      "- scouting_ht\n",
      "- l1_met\n",
      "- scouting_met\n",
      "- l1_mult\n",
      "- scouting_mult\n",
      "- l1_pt\n",
      "- scouting_pt\n",
      "- L1Jet_ht\n",
      "- L1EG_ht\n",
      "- L1Mu_ht\n",
      "- ScoutingPFJet_ht\n",
      "- ScoutingElectron_ht\n",
      "- ScoutingMuonNoVtx_ht\n",
      "- ScoutingMuonVtx_ht\n",
      "- ScoutingPhoton_ht\n",
      "- L1Jet_mult\n",
      "- L1EG_mult\n",
      "- L1Mu_mult\n",
      "- ScoutingPFJet_mult\n",
      "- ScoutingElectron_mult\n",
      "- ScoutingMuonNoVtx_mult\n",
      "- ScoutingMuonVtx_mult\n",
      "- ScoutingPhoton_mult\n",
      "- L1Jet_pt\n",
      "- L1EG_pt\n",
      "- L1Mu_pt\n",
      "- ScoutingPFJet_pt\n",
      "- ScoutingElectron_pt\n",
      "- ScoutingMuonNoVtx_pt\n",
      "- ScoutingMuonVtx_pt\n",
      "- ScoutingPhoton_pt\n",
      "- L1Jet_eta\n",
      "- L1EG_eta\n",
      "- L1Mu_eta\n",
      "- ScoutingPFJet_eta\n",
      "- ScoutingElectron_eta\n",
      "- ScoutingMuonNoVtx_eta\n",
      "- ScoutingMuonVtx_eta\n",
      "- ScoutingPhoton_eta\n",
      "- L1Jet_phi\n",
      "- L1EG_phi\n",
      "- L1Mu_phi\n",
      "- ScoutingPFJet_phi\n",
      "- ScoutingElectron_phi\n",
      "- ScoutingMuonNoVtx_phi\n",
      "- ScoutingMuonVtx_phi\n",
      "- ScoutingPhoton_phi\n",
      "- L1Jet_L1Jet_mass\n",
      "- L1EG_L1EG_mass\n",
      "- L1Mu_L1Mu_mass\n",
      "- ScoutingPFJet_ScoutingPFJet_mass\n",
      "- ScoutingElectron_ScoutingElectron_mass\n",
      "- ScoutingMuonVtx_ScoutingMuonVtx_mass\n"
     ]
    },
    {
     "name": "stderr",
     "output_type": "stream",
     "text": [
      "/tmp/ipykernel_221/507614931.py:97: RuntimeWarning: More than 20 figures have been opened. Figures created through the pyplot interface (`matplotlib.pyplot.figure`) are retained until explicitly closed and may consume too much memory. (To control this warning, see the rcParam `figure.max_open_warning`). Consider using `matplotlib.pyplot.close()`.\n",
      "  fig, ax = plt.subplots(figsize=(8,6))\n"
     ]
    }
   ],
   "source": [
    "\n",
    "config_filename = \"config.yaml\"\n",
    "plotting_config_filename = \"plotting_config.yaml\"\n",
    "                                            \n",
    "with open(config_filename, 'r') as stream:\n",
    "    config = yaml.safe_load(stream)\n",
    "with open(plotting_config_filename, 'r') as stream:\n",
    "    plotting_config = yaml.safe_load(stream)\n",
    "    \n",
    "dataset = config[\"dataset_name\"]\n",
    "todays_date = datetime.date.today().strftime('%Y%m%d')\n",
    "\n",
    "hist_result_filename = f'hist_result_{dataset}_{todays_date}.pkl'          # file name containing histograms\n",
    " # load file with histograms\n",
    "with open(hist_result_filename, 'rb') as file:\n",
    "    hist_result = dill.load(file)\n",
    "#hist_result = load(hist_result_filename)\n",
    "\n",
    "\n",
    "cutflow = hist_result[dataset]['cutflow']\n",
    "# Convert list of dictionaries to a single dictionary (merge entries)\n",
    "cutflow_merged = {k: v for d in cutflow for k, v in d.items()}\n",
    "# Create a DataFrame with one row\n",
    "df = pd.DataFrame.from_dict(cutflow_merged,orient=\"index\", columns=[\"Events\"])\n",
    "df\n",
    "\n",
    "print(\"Available triggers:\")  \n",
    "for trigger in hist_result[dataset]['trigger']:\n",
    "    print(\"- \"+trigger)\n",
    "\n",
    "print(\"\\nAvailable histograms:\")\n",
    "for hist in hist_result[dataset]['hists']:\n",
    "    print(\"- \"+hist)\n",
    "    \n",
    "\n",
    "\n",
    "def auto_zoom_x(hist):\n",
    "    filled = hist.values() > 0\n",
    "    filled_temp = filled[0][0]\n",
    "    for i in range(len(filled[0])):\n",
    "        filled_temp = np.logical_or(filled_temp,filled[0][i])\n",
    "    \n",
    "    lowest = np.min(hist.axes.edges[2].flatten()[0:-1][filled_temp])\n",
    "    highest = np.max(hist.axes.edges[2].flatten()[1:][filled_temp])\n",
    "    return [lowest, highest]\n",
    "\n",
    "def label_maker(hist_name):\n",
    "    label = \"None\"\n",
    "    splitted = hist_name.split(\"_\")\n",
    "    # print(\"Splitted\", splitted)\n",
    "    prefix = splitted[0:1][0]\n",
    "    suffix = splitted[-1:][0]\n",
    "    if len(splitted)>2:\n",
    "        middle=splitted[1:-1][0]\n",
    "        # print(prefix)\n",
    "        # print(middle)\n",
    "        # print(suffix)\n",
    "\n",
    "        if middle == prefix: #di-object\n",
    "            prefix = plotting_config[\"object_label_templates\"][prefix]\n",
    "            middle = plotting_config[\"object_label_templates\"][middle]\n",
    "            label = plotting_config[\"label_templates\"]['diobject'][suffix].format(middle,prefix)\n",
    "        else:\n",
    "            prefix = plotting_config[\"object_label_templates\"][prefix]\n",
    "            label = plotting_config[\"label_templates\"]['object'][suffix].format(prefix,middle)\n",
    "            \n",
    "    else:\n",
    "        if prefix == \"l1\":\n",
    "            label = \"L1 \"+plotting_config[\"label_templates\"]['totals'][suffix]\n",
    "        elif prefix == \"scouting\":\n",
    "            label = \"Scouting \"+plotting_config[\"label_templates\"]['totals'][suffix]\n",
    "        elif prefix == \"full_reco\":\n",
    "            label = \"Scouting \"+plotting_config[\"label_templates\"]['totals'][suffix]\n",
    "        elif prefix == \"anomaly\":\n",
    "            label = plotting_config[\"label_templates\"]['totals'][hist_name]\n",
    "        else:\n",
    "            label = plotting_config[\"label_templates\"]['object_type'][suffix].format(prefix)\n",
    "        \n",
    "    # print(\"Final label:\",label)\n",
    "    return label\n",
    "\n",
    "#label_maker(\"L1Jet_L1Jet_mass\")\n",
    "#label_maker('anomaly_score')\n",
    "for hist in hist_result[dataset]['hists']:\n",
    "    xlabel = label_maker(hist)\n",
    "\n",
    "def get_trigger_label(trigger,plotting_config):\n",
    "    label = \"\"\n",
    "    split = trigger.split(\"_\")\n",
    "    if len(split)>3: # orthogonal trigger used \n",
    "        label = plotting_config[\"trigger_labels\"][\"_\".join(split[0:3])]+\" & \"+plotting_config[\"trigger_labels\"][\"_\".join(split[3:])]\n",
    "    if len(split)<=3:\n",
    "        label = plotting_config[\"trigger_labels\"][trigger]\n",
    "    return label\n",
    "    \n",
    "for hist in hist_result[dataset]['hists']:\n",
    "    xlabel = label_maker(hist)\n",
    "    fig, ax = plt.subplots(figsize=(8,6))\n",
    "    for trigger in hist_result[dataset]['trigger']:\n",
    "        trigger_label = get_trigger_label(trigger,plotting_config)\n",
    "        utils.draw_hist1d(\n",
    "                hist_in =hist_result[dataset]['hists'][hist],\n",
    "                ax=ax,\n",
    "                trigger=trigger, \n",
    "                label=trigger_label, \n",
    "                rebin=10, \n",
    "                norm=plotting_config[\"normalized\"]\n",
    "            )\n",
    "\n",
    "    ax.set_xlim(auto_zoom_x(hist_result[dataset]['hists'][hist]))\n",
    "        \n",
    "    if plotting_config[\"log_scale\"]:\n",
    "        ax.set_yscale('log')\n",
    "    ax.set_ylabel(f'Events{\" [A.U.]\" if plotting_config[\"normalized\"] else \"\"}', loc='top')\n",
    "    ax.set_xlabel(xlabel)\n",
    "    ax.legend(frameon=False)#, fontsize=8)\n",
    "    hep.cms.label(plotting_config[\"cms_label\"], data=True, lumi=None, year=plotting_config[\"dataset_titles\"][dataset], com=13.6,fontsize=14)\n",
    "\n",
    "    fig.show()\n",
    "    fig.savefig(f\"plots/{hist}_{dataset}_{todays_date}.pdf\", format=\"pdf\")\n",
    "    continue"
   ]
  },
  {
   "cell_type": "code",
   "execution_count": 12,
   "id": "f5a27aeb-1dc4-4b13-8443-c462e245b124",
   "metadata": {},
   "outputs": [
    {
     "data": {
      "text/html": [
       "<div>\n",
       "<style scoped>\n",
       "    .dataframe tbody tr th:only-of-type {\n",
       "        vertical-align: middle;\n",
       "    }\n",
       "\n",
       "    .dataframe tbody tr th {\n",
       "        vertical-align: top;\n",
       "    }\n",
       "\n",
       "    .dataframe thead th {\n",
       "        text-align: right;\n",
       "    }\n",
       "</style>\n",
       "<table border=\"1\" class=\"dataframe\">\n",
       "  <thead>\n",
       "    <tr style=\"text-align: right;\">\n",
       "      <th></th>\n",
       "      <th>Events</th>\n",
       "    </tr>\n",
       "  </thead>\n",
       "  <tbody>\n",
       "    <tr>\n",
       "      <th>start</th>\n",
       "      <td>159091</td>\n",
       "    </tr>\n",
       "    <tr>\n",
       "      <th>DST_PFScouting_ZeroBias</th>\n",
       "      <td>49244</td>\n",
       "    </tr>\n",
       "    <tr>\n",
       "      <th>DST_PFScouting_ZeroBias_DST_PFScouting_AXONominal</th>\n",
       "      <td>3</td>\n",
       "    </tr>\n",
       "  </tbody>\n",
       "</table>\n",
       "</div>"
      ],
      "text/plain": [
       "                                                   Events\n",
       "start                                              159091\n",
       "DST_PFScouting_ZeroBias                             49244\n",
       "DST_PFScouting_ZeroBias_DST_PFScouting_AXONominal       3"
      ]
     },
     "execution_count": 12,
     "metadata": {},
     "output_type": "execute_result"
    }
   ],
   "source": [
    "df"
   ]
  },
  {
   "cell_type": "code",
   "execution_count": 16,
   "id": "7c9cdcca-c964-4fca-a41a-591846d4025b",
   "metadata": {},
   "outputs": [],
   "source": [
    "def make_single_object_plots(objects, obj_labels,\n",
    "                             plot_config, \n",
    "                             purities,\n",
    "                             hist_result, histpath, \n",
    "                             efficiency_trigger_names,\n",
    "                             dataset_names):\n",
    "    figs = len(objects)\n",
    "    # Plot distributions of triggered events \n",
    "    fig, ax = plt.subplots(1, figs, figsize=(35, 10))\n",
    "    for i, obj in enumerate(objects):\n",
    "        pure_distribution(i,None,\n",
    "                          obj,\n",
    "                          obj_labels[obj],\n",
    "                          ortho_trig,int_trigs,\n",
    "                          xrange=get_from_list(plot_config[conf][\"xranges\"],i), \n",
    "                          rebin=get_from_list(plot_config[conf][\"rebins\"],i), \n",
    "                          purities=purities,\n",
    "                          hist_result=hist_result,histpath=histpath,\n",
    "                          ax=ax,efficiency_trigger_names=efficiency_trigger_names, \n",
    "                          dataset_name = dataset_names[dataset_name])\n",
    "\n",
    "    # Plot fraction of triggered events that are pure\n",
    "    fig, ax = plt.subplots(1, figs, figsize=(35, 10))\n",
    "    for i, obj in enumerate(objects):\n",
    "        axo_pure_efficiency(i,None,\n",
    "                            obj,\n",
    "                            obj_labels[obj],\n",
    "                            ortho_trig,int_trigs,\n",
    "                            xrange=get_from_list(plot_config[conf][\"xranges\"],i), \n",
    "                            yrange=plot_config[conf][\"zooms\"],\n",
    "                            rebin=get_from_list(plot_config[conf][\"rebins\"],i), \n",
    "                            purities=purities,hist_result=hist_result,histpath=histpath,\n",
    "                            ax=ax,efficiency_trigger_names=efficiency_trigger_names, dataset_name = dataset_names[dataset_name]) \n",
    "    return\n",
    "\n",
    "\n",
    "def make_multi_object_plots(objects, obj_labels,\n",
    "                             plot_config, \n",
    "                             purities,\n",
    "                             hist_result, histpath, \n",
    "                             efficiency_trigger_names,\n",
    "                             dataset_names):\n",
    "    figs = len(objects)\n",
    "    # Plot distributions of triggered events \n",
    "    fig, ax = plt.subplots(1, figs, figsize=(35, 10))\n",
    "    for i, obj in enumerate(objects):\n",
    "        label = plot_config[conf][\"label_template\"].format(obj_labels[obj])\n",
    "        pure_distribution(i,obj,\n",
    "                          plot_config[conf][\"variable_name\"],\n",
    "                          label,\n",
    "                          ortho_trig,int_trigs,\n",
    "                          xrange=get_from_list(plot_config[conf][\"xranges\"],i), \n",
    "                          rebin=get_from_list(plot_config[conf][\"rebins\"],i), \n",
    "                          purities=purities,\n",
    "                          hist_result=hist_result,histpath=histpath,\n",
    "                          ax=ax,efficiency_trigger_names=efficiency_trigger_names, \n",
    "                          dataset_name = dataset_names[dataset_name])"
   ]
  },
  {
   "cell_type": "code",
   "execution_count": null,
   "id": "78297cc1-6d44-48af-bdde-8c0d78e6af0e",
   "metadata": {},
   "outputs": [],
   "source": [
    "for histogram in config[\"histograms_1d\"]:\n",
    "    for reconstruction_level in config[\"objects\"]:\n",
    "        for objects in config[\"objects\"][reconstruction_level]:\n",
    "            histograms_1d\n",
    "    "
   ]
  },
  {
   "cell_type": "code",
   "execution_count": 38,
   "id": "66a0aef6-4f7c-4aa8-9022-ed7cc9e4b725",
   "metadata": {},
   "outputs": [
    {
     "name": "stderr",
     "output_type": "stream",
     "text": [
      "<>:17: SyntaxWarning: invalid escape sequence '\\s'\n",
      "<>:35: SyntaxWarning: invalid escape sequence '\\e'\n",
      "<>:17: SyntaxWarning: invalid escape sequence '\\s'\n",
      "<>:35: SyntaxWarning: invalid escape sequence '\\e'\n",
      "/tmp/ipykernel_14209/103140625.py:17: SyntaxWarning: invalid escape sequence '\\s'\n",
      "  \"label_template\": '{} $\\sum p_T$ [GeV]',\n",
      "/tmp/ipykernel_14209/103140625.py:35: SyntaxWarning: invalid escape sequence '\\e'\n",
      "  \"label_template\": 'All {} $\\eta$',\n"
     ]
    }
   ],
   "source": [
    "fig, ax = plt.subplots(figsize=(8,6))\n",
    "hep.cms.label(cms_label, data=True, lumi=None, year=title, com=13.6)\n",
    "\n",
    "for trigger in triggers:\n",
    "    print(trigger)\n",
    "    hist_current = utils.getHist(hist_result, histpath+['anomaly_score'])\n",
    "    utils.draw_hist1d(\n",
    "        hist_current, \n",
    "        ax,\n",
    "        trigger, \n",
    "        label=trigger, \n",
    "        rebin=1, \n",
    "        norm=norm\n",
    "    )\n",
    "\n",
    "utils.draw_thresholds(ax, thresholds)\n",
    "\n",
    "ax.set_xlim([0,100])\n",
    "ax.set_yscale('log')\n",
    "ax.set_ylabel(f'Events{\" [A.U.]\" if norm else \"\"}', loc='top')\n",
    "ax.set_xlabel('AXOL1TL Score')\n",
    "ax.legend(frameon=True, fontsize=8)\n",
    "\n",
    "fig.show()\n",
    "fig.savefig(f\"plots/anomaly_score_{dataset}_{todaysDate}.pdf\", format=\"pdf\")"
   ]
  },
  {
   "cell_type": "code",
   "execution_count": 34,
   "id": "4da900aa-bfa1-43b4-83cc-de2bc84200cd",
   "metadata": {},
   "outputs": [
    {
     "ename": "NameError",
     "evalue": "name 'cms_label' is not defined",
     "output_type": "error",
     "traceback": [
      "\u001b[0;31m---------------------------------------------------------------------------\u001b[0m",
      "\u001b[0;31mNameError\u001b[0m                                 Traceback (most recent call last)",
      "Cell \u001b[0;32mIn[34], line 2\u001b[0m\n\u001b[1;32m      1\u001b[0m fig, ax \u001b[38;5;241m=\u001b[39m plt\u001b[38;5;241m.\u001b[39msubplots(figsize\u001b[38;5;241m=\u001b[39m(\u001b[38;5;241m8\u001b[39m,\u001b[38;5;241m6\u001b[39m))\n\u001b[0;32m----> 2\u001b[0m hep\u001b[38;5;241m.\u001b[39mcms\u001b[38;5;241m.\u001b[39mlabel(\u001b[43mcms_label\u001b[49m, data\u001b[38;5;241m=\u001b[39m\u001b[38;5;28;01mTrue\u001b[39;00m, lumi\u001b[38;5;241m=\u001b[39m\u001b[38;5;28;01mNone\u001b[39;00m, year\u001b[38;5;241m=\u001b[39mtitle, com\u001b[38;5;241m=\u001b[39m\u001b[38;5;241m13.6\u001b[39m)\n\u001b[1;32m      4\u001b[0m \u001b[38;5;28;01mfor\u001b[39;00m trigger \u001b[38;5;129;01min\u001b[39;00m triggers:\n\u001b[1;32m      5\u001b[0m     \u001b[38;5;28mprint\u001b[39m(trigger)\n",
      "\u001b[0;31mNameError\u001b[0m: name 'cms_label' is not defined"
     ]
    },
    {
     "data": {
      "image/png": "[encoded data removed]",
      "text/plain": [
       "<Figure size 800x600 with 1 Axes>"
      ]
     },
     "metadata": {},
     "output_type": "display_data"
    }
   ],
   "source": [
    "\n"
   ]
  },
  {
   "cell_type": "code",
   "execution_count": 48,
   "id": "a8c0e414-72be-461c-8bac-6b29f148214b",
   "metadata": {},
   "outputs": [],
   "source": [
    "import json \n",
    "with open(\"filePaths.json\", 'r') as f:\n",
    "    dataset = json.load(f)"
   ]
  },
  {
   "cell_type": "code",
   "execution_count": 69,
   "id": "b6ec9c7c-6030-47ed-b060-3bed3626c00f",
   "metadata": {},
   "outputs": [
    {
     "data": {
      "text/plain": [
       "dict_keys(['2024F', '2024F_test', '2024G', '2024G_test', '2024I', '2024I_test', '2024I_10', '2024F_10', '2024G_10'])"
      ]
     },
     "execution_count": 69,
     "metadata": {},
     "output_type": "execute_result"
    }
   ],
   "source": [
    "dataset.keys()"
   ]
  },
  {
   "cell_type": "code",
   "execution_count": 52,
   "id": "2946e349-afa0-4f42-bee5-e1937f5d8541",
   "metadata": {},
   "outputs": [
    {
     "data": {
      "text/plain": [
       "4573"
      ]
     },
     "execution_count": 52,
     "metadata": {},
     "output_type": "execute_result"
    }
   ],
   "source": [
    "len(dataset[\"2024I\"]['files'])"
   ]
  },
  {
   "cell_type": "code",
   "execution_count": 67,
   "id": "7cffbf9e-e883-4065-b032-d508ddbcff26",
   "metadata": {},
   "outputs": [],
   "source": [
    "first_10 = int(len(dataset[\"2024F\"]['files'])/10)\n",
    "sliced_dict = dict(list(dataset[\"2024F\"]['files'].items())[:first_10])\n",
    "dataset[\"2024F_10\"] = {\"files\":sliced_dict}"
   ]
  },
  {
   "cell_type": "code",
   "execution_count": 68,
   "id": "b4f301ed-dff0-49bb-b21e-9664f8964c58",
   "metadata": {},
   "outputs": [],
   "source": [
    "first_10 = int(len(dataset[\"2024G\"]['files'])/10)\n",
    "sliced_dict = dict(list(dataset[\"2024G\"]['files'].items())[:first_10])\n",
    "dataset[\"2024G_10\"] = {\"files\":sliced_dict}"
   ]
  },
  {
   "cell_type": "code",
   "execution_count": 63,
   "id": "a49371f0-156e-443d-b2f5-2edb2f1e5cda",
   "metadata": {
    "scrolled": true
   },
   "outputs": [
    {
     "name": "stdout",
     "output_type": "stream",
     "text": [
      "{'root://xcache//store/group/phys_exotica/axol1tl/Data_ScoutingNano_withAXOscore/2024I/output_input_files_2024I.txt_4117.root': 'Events', 'root://xcache//store/group/phys_exotica/axol1tl/Data_ScoutingNano_withAXOscore/2024I/output_input_files_2024I.txt_4118.root': 'Events', 'root://xcache//store/group/phys_exotica/axol1tl/Data_ScoutingNano_withAXOscore/2024I/output_input_files_2024I.txt_4119.root': 'Events', 'root://xcache//store/group/phys_exotica/axol1tl/Data_ScoutingNano_withAXOscore/2024I/output_input_files_2024I.txt_4120.root': 'Events', 'root://xcache//store/group/phys_exotica/axol1tl/Data_ScoutingNano_withAXOscore/2024I/output_input_files_2024I.txt_4121.root': 'Events', 'root://xcache//store/group/phys_exotica/axol1tl/Data_ScoutingNano_withAXOscore/2024I/output_input_files_2024I.txt_4122.root': 'Events', 'root://xcache//store/group/phys_exotica/axol1tl/Data_ScoutingNano_withAXOscore/2024I/output_input_files_2024I.txt_4123.root': 'Events', 'root://xcache//store/group/phys_exotica/axol1tl/Data_ScoutingNano_withAXOscore/2024I/output_input_files_2024I.txt_4124.root': 'Events', 'root://xcache//store/group/phys_exotica/axol1tl/Data_ScoutingNano_withAXOscore/2024I/output_input_files_2024I.txt_4125.root': 'Events', 'root://xcache//store/group/phys_exotica/axol1tl/Data_ScoutingNano_withAXOscore/2024I/output_input_files_2024I.txt_4126.root': 'Events', 'root://xcache//store/group/phys_exotica/axol1tl/Data_ScoutingNano_withAXOscore/2024I/output_input_files_2024I.txt_4127.root': 'Events', 'root://xcache//store/group/phys_exotica/axol1tl/Data_ScoutingNano_withAXOscore/2024I/output_input_files_2024I.txt_4128.root': 'Events', 'root://xcache//store/group/phys_exotica/axol1tl/Data_ScoutingNano_withAXOscore/2024I/output_input_files_2024I.txt_4129.root': 'Events', 'root://xcache//store/group/phys_exotica/axol1tl/Data_ScoutingNano_withAXOscore/2024I/output_input_files_2024I.txt_4130.root': 'Events', 'root://xcache//store/group/phys_exotica/axol1tl/Data_ScoutingNano_withAXOscore/2024I/output_input_files_2024I.txt_4131.root': 'Events', 'root://xcache//store/group/phys_exotica/axol1tl/Data_ScoutingNano_withAXOscore/2024I/output_input_files_2024I.txt_4132.root': 'Events', 'root://xcache//store/group/phys_exotica/axol1tl/Data_ScoutingNano_withAXOscore/2024I/output_input_files_2024I.txt_4133.root': 'Events', 'root://xcache//store/group/phys_exotica/axol1tl/Data_ScoutingNano_withAXOscore/2024I/output_input_files_2024I.txt_4134.root': 'Events', 'root://xcache//store/group/phys_exotica/axol1tl/Data_ScoutingNano_withAXOscore/2024I/output_input_files_2024I.txt_4135.root': 'Events', 'root://xcache//store/group/phys_exotica/axol1tl/Data_ScoutingNano_withAXOscore/2024I/output_input_files_2024I.txt_4136.root': 'Events', 'root://xcache//store/group/phys_exotica/axol1tl/Data_ScoutingNano_withAXOscore/2024I/output_input_files_2024I.txt_4137.root': 'Events', 'root://xcache//store/group/phys_exotica/axol1tl/Data_ScoutingNano_withAXOscore/2024I/output_input_files_2024I.txt_4138.root': 'Events', 'root://xcache//store/group/phys_exotica/axol1tl/Data_ScoutingNano_withAXOscore/2024I/output_input_files_2024I.txt_4139.root': 'Events', 'root://xcache//store/group/phys_exotica/axol1tl/Data_ScoutingNano_withAXOscore/2024I/output_input_files_2024I.txt_4140.root': 'Events', 'root://xcache//store/group/phys_exotica/axol1tl/Data_ScoutingNano_withAXOscore/2024I/output_input_files_2024I.txt_4141.root': 'Events', 'root://xcache//store/group/phys_exotica/axol1tl/Data_ScoutingNano_withAXOscore/2024I/output_input_files_2024I.txt_4142.root': 'Events', 'root://xcache//store/group/phys_exotica/axol1tl/Data_ScoutingNano_withAXOscore/2024I/output_input_files_2024I.txt_4143.root': 'Events', 'root://xcache//store/group/phys_exotica/axol1tl/Data_ScoutingNano_withAXOscore/2024I/output_input_files_2024I.txt_4144.root': 'Events', 'root://xcache//store/group/phys_exotica/axol1tl/Data_ScoutingNano_withAXOscore/2024I/output_input_files_2024I.txt_4145.root': 'Events', 'root://xcache//store/group/phys_exotica/axol1tl/Data_ScoutingNano_withAXOscore/2024I/output_input_files_2024I.txt_4146.root': 'Events', 'root://xcache//store/group/phys_exotica/axol1tl/Data_ScoutingNano_withAXOscore/2024I/output_input_files_2024I.txt_4147.root': 'Events', 'root://xcache//store/group/phys_exotica/axol1tl/Data_ScoutingNano_withAXOscore/2024I/output_input_files_2024I.txt_4148.root': 'Events', 'root://xcache//store/group/phys_exotica/axol1tl/Data_ScoutingNano_withAXOscore/2024I/output_input_files_2024I.txt_4149.root': 'Events', 'root://xcache//store/group/phys_exotica/axol1tl/Data_ScoutingNano_withAXOscore/2024I/output_input_files_2024I.txt_4150.root': 'Events', 'root://xcache//store/group/phys_exotica/axol1tl/Data_ScoutingNano_withAXOscore/2024I/output_input_files_2024I.txt_4151.root': 'Events', 'root://xcache//store/group/phys_exotica/axol1tl/Data_ScoutingNano_withAXOscore/2024I/output_input_files_2024I.txt_4152.root': 'Events', 'root://xcache//store/group/phys_exotica/axol1tl/Data_ScoutingNano_withAXOscore/2024I/output_input_files_2024I.txt_4153.root': 'Events', 'root://xcache//store/group/phys_exotica/axol1tl/Data_ScoutingNano_withAXOscore/2024I/output_input_files_2024I.txt_4154.root': 'Events', 'root://xcache//store/group/phys_exotica/axol1tl/Data_ScoutingNano_withAXOscore/2024I/output_input_files_2024I.txt_4155.root': 'Events', 'root://xcache//store/group/phys_exotica/axol1tl/Data_ScoutingNano_withAXOscore/2024I/output_input_files_2024I.txt_4156.root': 'Events', 'root://xcache//store/group/phys_exotica/axol1tl/Data_ScoutingNano_withAXOscore/2024I/output_input_files_2024I.txt_4157.root': 'Events', 'root://xcache//store/group/phys_exotica/axol1tl/Data_ScoutingNano_withAXOscore/2024I/output_input_files_2024I.txt_4158.root': 'Events', 'root://xcache//store/group/phys_exotica/axol1tl/Data_ScoutingNano_withAXOscore/2024I/output_input_files_2024I.txt_4159.root': 'Events', 'root://xcache//store/group/phys_exotica/axol1tl/Data_ScoutingNano_withAXOscore/2024I/output_input_files_2024I.txt_4160.root': 'Events', 'root://xcache//store/group/phys_exotica/axol1tl/Data_ScoutingNano_withAXOscore/2024I/output_input_files_2024I.txt_4161.root': 'Events', 'root://xcache//store/group/phys_exotica/axol1tl/Data_ScoutingNano_withAXOscore/2024I/output_input_files_2024I.txt_4162.root': 'Events', 'root://xcache//store/group/phys_exotica/axol1tl/Data_ScoutingNano_withAXOscore/2024I/output_input_files_2024I.txt_4163.root': 'Events', 'root://xcache//store/group/phys_exotica/axol1tl/Data_ScoutingNano_withAXOscore/2024I/output_input_files_2024I.txt_4164.root': 'Events', 'root://xcache//store/group/phys_exotica/axol1tl/Data_ScoutingNano_withAXOscore/2024I/output_input_files_2024I.txt_4165.root': 'Events', 'root://xcache//store/group/phys_exotica/axol1tl/Data_ScoutingNano_withAXOscore/2024I/output_input_files_2024I.txt_4166.root': 'Events', 'root://xcache//store/group/phys_exotica/axol1tl/Data_ScoutingNano_withAXOscore/2024I/output_input_files_2024I.txt_4167.root': 'Events', 'root://xcache//store/group/phys_exotica/axol1tl/Data_ScoutingNano_withAXOscore/2024I/output_input_files_2024I.txt_4168.root': 'Events', 'root://xcache//store/group/phys_exotica/axol1tl/Data_ScoutingNano_withAXOscore/2024I/output_input_files_2024I.txt_4169.root': 'Events', 'root://xcache//store/group/phys_exotica/axol1tl/Data_ScoutingNano_withAXOscore/2024I/output_input_files_2024I.txt_4170.root': 'Events', 'root://xcache//store/group/phys_exotica/axol1tl/Data_ScoutingNano_withAXOscore/2024I/output_input_files_2024I.txt_4171.root': 'Events', 'root://xcache//store/group/phys_exotica/axol1tl/Data_ScoutingNano_withAXOscore/2024I/output_input_files_2024I.txt_4172.root': 'Events', 'root://xcache//store/group/phys_exotica/axol1tl/Data_ScoutingNano_withAXOscore/2024I/output_input_files_2024I.txt_4173.root': 'Events', 'root://xcache//store/group/phys_exotica/axol1tl/Data_ScoutingNano_withAXOscore/2024I/output_input_files_2024I.txt_4174.root': 'Events', 'root://xcache//store/group/phys_exotica/axol1tl/Data_ScoutingNano_withAXOscore/2024I/output_input_files_2024I.txt_4175.root': 'Events', 'root://xcache//store/group/phys_exotica/axol1tl/Data_ScoutingNano_withAXOscore/2024I/output_input_files_2024I.txt_4176.root': 'Events', 'root://xcache//store/group/phys_exotica/axol1tl/Data_ScoutingNano_withAXOscore/2024I/output_input_files_2024I.txt_4177.root': 'Events', 'root://xcache//store/group/phys_exotica/axol1tl/Data_ScoutingNano_withAXOscore/2024I/output_input_files_2024I.txt_4178.root': 'Events', 'root://xcache//store/group/phys_exotica/axol1tl/Data_ScoutingNano_withAXOscore/2024I/output_input_files_2024I.txt_4179.root': 'Events', 'root://xcache//store/group/phys_exotica/axol1tl/Data_ScoutingNano_withAXOscore/2024I/output_input_files_2024I.txt_4180.root': 'Events', 'root://xcache//store/group/phys_exotica/axol1tl/Data_ScoutingNano_withAXOscore/2024I/output_input_files_2024I.txt_4181.root': 'Events', 'root://xcache//store/group/phys_exotica/axol1tl/Data_ScoutingNano_withAXOscore/2024I/output_input_files_2024I.txt_4182.root': 'Events', 'root://xcache//store/group/phys_exotica/axol1tl/Data_ScoutingNano_withAXOscore/2024I/output_input_files_2024I.txt_4183.root': 'Events', 'root://xcache//store/group/phys_exotica/axol1tl/Data_ScoutingNano_withAXOscore/2024I/output_input_files_2024I.txt_4184.root': 'Events', 'root://xcache//store/group/phys_exotica/axol1tl/Data_ScoutingNano_withAXOscore/2024I/output_input_files_2024I.txt_4185.root': 'Events', 'root://xcache//store/group/phys_exotica/axol1tl/Data_ScoutingNano_withAXOscore/2024I/output_input_files_2024I.txt_4186.root': 'Events', 'root://xcache//store/group/phys_exotica/axol1tl/Data_ScoutingNano_withAXOscore/2024I/output_input_files_2024I.txt_4187.root': 'Events', 'root://xcache//store/group/phys_exotica/axol1tl/Data_ScoutingNano_withAXOscore/2024I/output_input_files_2024I.txt_4188.root': 'Events', 'root://xcache//store/group/phys_exotica/axol1tl/Data_ScoutingNano_withAXOscore/2024I/output_input_files_2024I.txt_4189.root': 'Events', 'root://xcache//store/group/phys_exotica/axol1tl/Data_ScoutingNano_withAXOscore/2024I/output_input_files_2024I.txt_4190.root': 'Events', 'root://xcache//store/group/phys_exotica/axol1tl/Data_ScoutingNano_withAXOscore/2024I/output_input_files_2024I.txt_4191.root': 'Events', 'root://xcache//store/group/phys_exotica/axol1tl/Data_ScoutingNano_withAXOscore/2024I/output_input_files_2024I.txt_4192.root': 'Events', 'root://xcache//store/group/phys_exotica/axol1tl/Data_ScoutingNano_withAXOscore/2024I/output_input_files_2024I.txt_4193.root': 'Events', 'root://xcache//store/group/phys_exotica/axol1tl/Data_ScoutingNano_withAXOscore/2024I/output_input_files_2024I.txt_4194.root': 'Events', 'root://xcache//store/group/phys_exotica/axol1tl/Data_ScoutingNano_withAXOscore/2024I/output_input_files_2024I.txt_4195.root': 'Events', 'root://xcache//store/group/phys_exotica/axol1tl/Data_ScoutingNano_withAXOscore/2024I/output_input_files_2024I.txt_4196.root': 'Events', 'root://xcache//store/group/phys_exotica/axol1tl/Data_ScoutingNano_withAXOscore/2024I/output_input_files_2024I.txt_4197.root': 'Events', 'root://xcache//store/group/phys_exotica/axol1tl/Data_ScoutingNano_withAXOscore/2024I/output_input_files_2024I.txt_4198.root': 'Events', 'root://xcache//store/group/phys_exotica/axol1tl/Data_ScoutingNano_withAXOscore/2024I/output_input_files_2024I.txt_4199.root': 'Events', 'root://xcache//store/group/phys_exotica/axol1tl/Data_ScoutingNano_withAXOscore/2024I/output_input_files_2024I.txt_4200.root': 'Events', 'root://xcache//store/group/phys_exotica/axol1tl/Data_ScoutingNano_withAXOscore/2024I/output_input_files_2024I.txt_4201.root': 'Events', 'root://xcache//store/group/phys_exotica/axol1tl/Data_ScoutingNano_withAXOscore/2024I/output_input_files_2024I.txt_4202.root': 'Events', 'root://xcache//store/group/phys_exotica/axol1tl/Data_ScoutingNano_withAXOscore/2024I/output_input_files_2024I.txt_4203.root': 'Events', 'root://xcache//store/group/phys_exotica/axol1tl/Data_ScoutingNano_withAXOscore/2024I/output_input_files_2024I.txt_4204.root': 'Events', 'root://xcache//store/group/phys_exotica/axol1tl/Data_ScoutingNano_withAXOscore/2024I/output_input_files_2024I.txt_4205.root': 'Events', 'root://xcache//store/group/phys_exotica/axol1tl/Data_ScoutingNano_withAXOscore/2024I/output_input_files_2024I.txt_4206.root': 'Events', 'root://xcache//store/group/phys_exotica/axol1tl/Data_ScoutingNano_withAXOscore/2024I/output_input_files_2024I.txt_4207.root': 'Events', 'root://xcache//store/group/phys_exotica/axol1tl/Data_ScoutingNano_withAXOscore/2024I/output_input_files_2024I.txt_4208.root': 'Events', 'root://xcache//store/group/phys_exotica/axol1tl/Data_ScoutingNano_withAXOscore/2024I/output_input_files_2024I.txt_4209.root': 'Events', 'root://xcache//store/group/phys_exotica/axol1tl/Data_ScoutingNano_withAXOscore/2024I/output_input_files_2024I.txt_4210.root': 'Events', 'root://xcache//store/group/phys_exotica/axol1tl/Data_ScoutingNano_withAXOscore/2024I/output_input_files_2024I.txt_4211.root': 'Events', 'root://xcache//store/group/phys_exotica/axol1tl/Data_ScoutingNano_withAXOscore/2024I/output_input_files_2024I.txt_4212.root': 'Events', 'root://xcache//store/group/phys_exotica/axol1tl/Data_ScoutingNano_withAXOscore/2024I/output_input_files_2024I.txt_4213.root': 'Events', 'root://xcache//store/group/phys_exotica/axol1tl/Data_ScoutingNano_withAXOscore/2024I/output_input_files_2024I.txt_4214.root': 'Events', 'root://xcache//store/group/phys_exotica/axol1tl/Data_ScoutingNano_withAXOscore/2024I/output_input_files_2024I.txt_4215.root': 'Events', 'root://xcache//store/group/phys_exotica/axol1tl/Data_ScoutingNano_withAXOscore/2024I/output_input_files_2024I.txt_4216.root': 'Events', 'root://xcache//store/group/phys_exotica/axol1tl/Data_ScoutingNano_withAXOscore/2024I/output_input_files_2024I.txt_4217.root': 'Events', 'root://xcache//store/group/phys_exotica/axol1tl/Data_ScoutingNano_withAXOscore/2024I/output_input_files_2024I.txt_4218.root': 'Events', 'root://xcache//store/group/phys_exotica/axol1tl/Data_ScoutingNano_withAXOscore/2024I/output_input_files_2024I.txt_4219.root': 'Events', 'root://xcache//store/group/phys_exotica/axol1tl/Data_ScoutingNano_withAXOscore/2024I/output_input_files_2024I.txt_4220.root': 'Events', 'root://xcache//store/group/phys_exotica/axol1tl/Data_ScoutingNano_withAXOscore/2024I/output_input_files_2024I.txt_4221.root': 'Events', 'root://xcache//store/group/phys_exotica/axol1tl/Data_ScoutingNano_withAXOscore/2024I/output_input_files_2024I.txt_4222.root': 'Events', 'root://xcache//store/group/phys_exotica/axol1tl/Data_ScoutingNano_withAXOscore/2024I/output_input_files_2024I.txt_4223.root': 'Events', 'root://xcache//store/group/phys_exotica/axol1tl/Data_ScoutingNano_withAXOscore/2024I/output_input_files_2024I.txt_4224.root': 'Events', 'root://xcache//store/group/phys_exotica/axol1tl/Data_ScoutingNano_withAXOscore/2024I/output_input_files_2024I.txt_4225.root': 'Events', 'root://xcache//store/group/phys_exotica/axol1tl/Data_ScoutingNano_withAXOscore/2024I/output_input_files_2024I.txt_4226.root': 'Events', 'root://xcache//store/group/phys_exotica/axol1tl/Data_ScoutingNano_withAXOscore/2024I/output_input_files_2024I.txt_4227.root': 'Events', 'root://xcache//store/group/phys_exotica/axol1tl/Data_ScoutingNano_withAXOscore/2024I/output_input_files_2024I.txt_4228.root': 'Events', 'root://xcache//store/group/phys_exotica/axol1tl/Data_ScoutingNano_withAXOscore/2024I/output_input_files_2024I.txt_4229.root': 'Events', 'root://xcache//store/group/phys_exotica/axol1tl/Data_ScoutingNano_withAXOscore/2024I/output_input_files_2024I.txt_4230.root': 'Events', 'root://xcache//store/group/phys_exotica/axol1tl/Data_ScoutingNano_withAXOscore/2024I/output_input_files_2024I.txt_4231.root': 'Events', 'root://xcache//store/group/phys_exotica/axol1tl/Data_ScoutingNano_withAXOscore/2024I/output_input_files_2024I.txt_4232.root': 'Events', 'root://xcache//store/group/phys_exotica/axol1tl/Data_ScoutingNano_withAXOscore/2024I/output_input_files_2024I.txt_4233.root': 'Events', 'root://xcache//store/group/phys_exotica/axol1tl/Data_ScoutingNano_withAXOscore/2024I/output_input_files_2024I.txt_4234.root': 'Events', 'root://xcache//store/group/phys_exotica/axol1tl/Data_ScoutingNano_withAXOscore/2024I/output_input_files_2024I.txt_4235.root': 'Events', 'root://xcache//store/group/phys_exotica/axol1tl/Data_ScoutingNano_withAXOscore/2024I/output_input_files_2024I.txt_4236.root': 'Events', 'root://xcache//store/group/phys_exotica/axol1tl/Data_ScoutingNano_withAXOscore/2024I/output_input_files_2024I.txt_4237.root': 'Events', 'root://xcache//store/group/phys_exotica/axol1tl/Data_ScoutingNano_withAXOscore/2024I/output_input_files_2024I.txt_4238.root': 'Events', 'root://xcache//store/group/phys_exotica/axol1tl/Data_ScoutingNano_withAXOscore/2024I/output_input_files_2024I.txt_4239.root': 'Events', 'root://xcache//store/group/phys_exotica/axol1tl/Data_ScoutingNano_withAXOscore/2024I/output_input_files_2024I.txt_4240.root': 'Events', 'root://xcache//store/group/phys_exotica/axol1tl/Data_ScoutingNano_withAXOscore/2024I/output_input_files_2024I.txt_4241.root': 'Events', 'root://xcache//store/group/phys_exotica/axol1tl/Data_ScoutingNano_withAXOscore/2024I/output_input_files_2024I.txt_4242.root': 'Events', 'root://xcache//store/group/phys_exotica/axol1tl/Data_ScoutingNano_withAXOscore/2024I/output_input_files_2024I.txt_4243.root': 'Events', 'root://xcache//store/group/phys_exotica/axol1tl/Data_ScoutingNano_withAXOscore/2024I/output_input_files_2024I.txt_4244.root': 'Events', 'root://xcache//store/group/phys_exotica/axol1tl/Data_ScoutingNano_withAXOscore/2024I/output_input_files_2024I.txt_4245.root': 'Events', 'root://xcache//store/group/phys_exotica/axol1tl/Data_ScoutingNano_withAXOscore/2024I/output_input_files_2024I.txt_4246.root': 'Events', 'root://xcache//store/group/phys_exotica/axol1tl/Data_ScoutingNano_withAXOscore/2024I/output_input_files_2024I.txt_4247.root': 'Events', 'root://xcache//store/group/phys_exotica/axol1tl/Data_ScoutingNano_withAXOscore/2024I/output_input_files_2024I.txt_4248.root': 'Events', 'root://xcache//store/group/phys_exotica/axol1tl/Data_ScoutingNano_withAXOscore/2024I/output_input_files_2024I.txt_4249.root': 'Events', 'root://xcache//store/group/phys_exotica/axol1tl/Data_ScoutingNano_withAXOscore/2024I/output_input_files_2024I.txt_4250.root': 'Events', 'root://xcache//store/group/phys_exotica/axol1tl/Data_ScoutingNano_withAXOscore/2024I/output_input_files_2024I.txt_4251.root': 'Events', 'root://xcache//store/group/phys_exotica/axol1tl/Data_ScoutingNano_withAXOscore/2024I/output_input_files_2024I.txt_4252.root': 'Events', 'root://xcache//store/group/phys_exotica/axol1tl/Data_ScoutingNano_withAXOscore/2024I/output_input_files_2024I.txt_4253.root': 'Events', 'root://xcache//store/group/phys_exotica/axol1tl/Data_ScoutingNano_withAXOscore/2024I/output_input_files_2024I.txt_4254.root': 'Events', 'root://xcache//store/group/phys_exotica/axol1tl/Data_ScoutingNano_withAXOscore/2024I/output_input_files_2024I.txt_4255.root': 'Events', 'root://xcache//store/group/phys_exotica/axol1tl/Data_ScoutingNano_withAXOscore/2024I/output_input_files_2024I.txt_4256.root': 'Events', 'root://xcache//store/group/phys_exotica/axol1tl/Data_ScoutingNano_withAXOscore/2024I/output_input_files_2024I.txt_4257.root': 'Events', 'root://xcache//store/group/phys_exotica/axol1tl/Data_ScoutingNano_withAXOscore/2024I/output_input_files_2024I.txt_4258.root': 'Events', 'root://xcache//store/group/phys_exotica/axol1tl/Data_ScoutingNano_withAXOscore/2024I/output_input_files_2024I.txt_4259.root': 'Events', 'root://xcache//store/group/phys_exotica/axol1tl/Data_ScoutingNano_withAXOscore/2024I/output_input_files_2024I.txt_4260.root': 'Events', 'root://xcache//store/group/phys_exotica/axol1tl/Data_ScoutingNano_withAXOscore/2024I/output_input_files_2024I.txt_4261.root': 'Events', 'root://xcache//store/group/phys_exotica/axol1tl/Data_ScoutingNano_withAXOscore/2024I/output_input_files_2024I.txt_4262.root': 'Events', 'root://xcache//store/group/phys_exotica/axol1tl/Data_ScoutingNano_withAXOscore/2024I/output_input_files_2024I.txt_4263.root': 'Events', 'root://xcache//store/group/phys_exotica/axol1tl/Data_ScoutingNano_withAXOscore/2024I/output_input_files_2024I.txt_4264.root': 'Events', 'root://xcache//store/group/phys_exotica/axol1tl/Data_ScoutingNano_withAXOscore/2024I/output_input_files_2024I.txt_4265.root': 'Events', 'root://xcache//store/group/phys_exotica/axol1tl/Data_ScoutingNano_withAXOscore/2024I/output_input_files_2024I.txt_4266.root': 'Events', 'root://xcache//store/group/phys_exotica/axol1tl/Data_ScoutingNano_withAXOscore/2024I/output_input_files_2024I.txt_4267.root': 'Events', 'root://xcache//store/group/phys_exotica/axol1tl/Data_ScoutingNano_withAXOscore/2024I/output_input_files_2024I.txt_4268.root': 'Events', 'root://xcache//store/group/phys_exotica/axol1tl/Data_ScoutingNano_withAXOscore/2024I/output_input_files_2024I.txt_4269.root': 'Events', 'root://xcache//store/group/phys_exotica/axol1tl/Data_ScoutingNano_withAXOscore/2024I/output_input_files_2024I.txt_4270.root': 'Events', 'root://xcache//store/group/phys_exotica/axol1tl/Data_ScoutingNano_withAXOscore/2024I/output_input_files_2024I.txt_4271.root': 'Events', 'root://xcache//store/group/phys_exotica/axol1tl/Data_ScoutingNano_withAXOscore/2024I/output_input_files_2024I.txt_4272.root': 'Events', 'root://xcache//store/group/phys_exotica/axol1tl/Data_ScoutingNano_withAXOscore/2024I/output_input_files_2024I.txt_4273.root': 'Events', 'root://xcache//store/group/phys_exotica/axol1tl/Data_ScoutingNano_withAXOscore/2024I/output_input_files_2024I.txt_4274.root': 'Events', 'root://xcache//store/group/phys_exotica/axol1tl/Data_ScoutingNano_withAXOscore/2024I/output_input_files_2024I.txt_4275.root': 'Events', 'root://xcache//store/group/phys_exotica/axol1tl/Data_ScoutingNano_withAXOscore/2024I/output_input_files_2024I.txt_4276.root': 'Events', 'root://xcache//store/group/phys_exotica/axol1tl/Data_ScoutingNano_withAXOscore/2024I/output_input_files_2024I.txt_4277.root': 'Events', 'root://xcache//store/group/phys_exotica/axol1tl/Data_ScoutingNano_withAXOscore/2024I/output_input_files_2024I.txt_4278.root': 'Events', 'root://xcache//store/group/phys_exotica/axol1tl/Data_ScoutingNano_withAXOscore/2024I/output_input_files_2024I.txt_4279.root': 'Events', 'root://xcache//store/group/phys_exotica/axol1tl/Data_ScoutingNano_withAXOscore/2024I/output_input_files_2024I.txt_4280.root': 'Events', 'root://xcache//store/group/phys_exotica/axol1tl/Data_ScoutingNano_withAXOscore/2024I/output_input_files_2024I.txt_4281.root': 'Events', 'root://xcache//store/group/phys_exotica/axol1tl/Data_ScoutingNano_withAXOscore/2024I/output_input_files_2024I.txt_4282.root': 'Events', 'root://xcache//store/group/phys_exotica/axol1tl/Data_ScoutingNano_withAXOscore/2024I/output_input_files_2024I.txt_4283.root': 'Events', 'root://xcache//store/group/phys_exotica/axol1tl/Data_ScoutingNano_withAXOscore/2024I/output_input_files_2024I.txt_4284.root': 'Events', 'root://xcache//store/group/phys_exotica/axol1tl/Data_ScoutingNano_withAXOscore/2024I/output_input_files_2024I.txt_4285.root': 'Events', 'root://xcache//store/group/phys_exotica/axol1tl/Data_ScoutingNano_withAXOscore/2024I/output_input_files_2024I.txt_4286.root': 'Events', 'root://xcache//store/group/phys_exotica/axol1tl/Data_ScoutingNano_withAXOscore/2024I/output_input_files_2024I.txt_4287.root': 'Events', 'root://xcache//store/group/phys_exotica/axol1tl/Data_ScoutingNano_withAXOscore/2024I/output_input_files_2024I.txt_4288.root': 'Events', 'root://xcache//store/group/phys_exotica/axol1tl/Data_ScoutingNano_withAXOscore/2024I/output_input_files_2024I.txt_4289.root': 'Events', 'root://xcache//store/group/phys_exotica/axol1tl/Data_ScoutingNano_withAXOscore/2024I/output_input_files_2024I.txt_4290.root': 'Events', 'root://xcache//store/group/phys_exotica/axol1tl/Data_ScoutingNano_withAXOscore/2024I/output_input_files_2024I.txt_4291.root': 'Events', 'root://xcache//store/group/phys_exotica/axol1tl/Data_ScoutingNano_withAXOscore/2024I/output_input_files_2024I.txt_4292.root': 'Events', 'root://xcache//store/group/phys_exotica/axol1tl/Data_ScoutingNano_withAXOscore/2024I/output_input_files_2024I.txt_4293.root': 'Events', 'root://xcache//store/group/phys_exotica/axol1tl/Data_ScoutingNano_withAXOscore/2024I/output_input_files_2024I.txt_4294.root': 'Events', 'root://xcache//store/group/phys_exotica/axol1tl/Data_ScoutingNano_withAXOscore/2024I/output_input_files_2024I.txt_4295.root': 'Events', 'root://xcache//store/group/phys_exotica/axol1tl/Data_ScoutingNano_withAXOscore/2024I/output_input_files_2024I.txt_4296.root': 'Events', 'root://xcache//store/group/phys_exotica/axol1tl/Data_ScoutingNano_withAXOscore/2024I/output_input_files_2024I.txt_4297.root': 'Events', 'root://xcache//store/group/phys_exotica/axol1tl/Data_ScoutingNano_withAXOscore/2024I/output_input_files_2024I.txt_4298.root': 'Events', 'root://xcache//store/group/phys_exotica/axol1tl/Data_ScoutingNano_withAXOscore/2024I/output_input_files_2024I.txt_4299.root': 'Events', 'root://xcache//store/group/phys_exotica/axol1tl/Data_ScoutingNano_withAXOscore/2024I/output_input_files_2024I.txt_4300.root': 'Events', 'root://xcache//store/group/phys_exotica/axol1tl/Data_ScoutingNano_withAXOscore/2024I/output_input_files_2024I.txt_4301.root': 'Events', 'root://xcache//store/group/phys_exotica/axol1tl/Data_ScoutingNano_withAXOscore/2024I/output_input_files_2024I.txt_4302.root': 'Events', 'root://xcache//store/group/phys_exotica/axol1tl/Data_ScoutingNano_withAXOscore/2024I/output_input_files_2024I.txt_4303.root': 'Events', 'root://xcache//store/group/phys_exotica/axol1tl/Data_ScoutingNano_withAXOscore/2024I/output_input_files_2024I.txt_4304.root': 'Events', 'root://xcache//store/group/phys_exotica/axol1tl/Data_ScoutingNano_withAXOscore/2024I/output_input_files_2024I.txt_4305.root': 'Events', 'root://xcache//store/group/phys_exotica/axol1tl/Data_ScoutingNano_withAXOscore/2024I/output_input_files_2024I.txt_4306.root': 'Events', 'root://xcache//store/group/phys_exotica/axol1tl/Data_ScoutingNano_withAXOscore/2024I/output_input_files_2024I.txt_4307.root': 'Events', 'root://xcache//store/group/phys_exotica/axol1tl/Data_ScoutingNano_withAXOscore/2024I/output_input_files_2024I.txt_4308.root': 'Events', 'root://xcache//store/group/phys_exotica/axol1tl/Data_ScoutingNano_withAXOscore/2024I/output_input_files_2024I.txt_4309.root': 'Events', 'root://xcache//store/group/phys_exotica/axol1tl/Data_ScoutingNano_withAXOscore/2024I/output_input_files_2024I.txt_4310.root': 'Events', 'root://xcache//store/group/phys_exotica/axol1tl/Data_ScoutingNano_withAXOscore/2024I/output_input_files_2024I.txt_4311.root': 'Events', 'root://xcache//store/group/phys_exotica/axol1tl/Data_ScoutingNano_withAXOscore/2024I/output_input_files_2024I.txt_4312.root': 'Events', 'root://xcache//store/group/phys_exotica/axol1tl/Data_ScoutingNano_withAXOscore/2024I/output_input_files_2024I.txt_4313.root': 'Events', 'root://xcache//store/group/phys_exotica/axol1tl/Data_ScoutingNano_withAXOscore/2024I/output_input_files_2024I.txt_4314.root': 'Events', 'root://xcache//store/group/phys_exotica/axol1tl/Data_ScoutingNano_withAXOscore/2024I/output_input_files_2024I.txt_4315.root': 'Events', 'root://xcache//store/group/phys_exotica/axol1tl/Data_ScoutingNano_withAXOscore/2024I/output_input_files_2024I.txt_4316.root': 'Events', 'root://xcache//store/group/phys_exotica/axol1tl/Data_ScoutingNano_withAXOscore/2024I/output_input_files_2024I.txt_4317.root': 'Events', 'root://xcache//store/group/phys_exotica/axol1tl/Data_ScoutingNano_withAXOscore/2024I/output_input_files_2024I.txt_4318.root': 'Events', 'root://xcache//store/group/phys_exotica/axol1tl/Data_ScoutingNano_withAXOscore/2024I/output_input_files_2024I.txt_4319.root': 'Events', 'root://xcache//store/group/phys_exotica/axol1tl/Data_ScoutingNano_withAXOscore/2024I/output_input_files_2024I.txt_4320.root': 'Events', 'root://xcache//store/group/phys_exotica/axol1tl/Data_ScoutingNano_withAXOscore/2024I/output_input_files_2024I.txt_4321.root': 'Events', 'root://xcache//store/group/phys_exotica/axol1tl/Data_ScoutingNano_withAXOscore/2024I/output_input_files_2024I.txt_4322.root': 'Events', 'root://xcache//store/group/phys_exotica/axol1tl/Data_ScoutingNano_withAXOscore/2024I/output_input_files_2024I.txt_4323.root': 'Events', 'root://xcache//store/group/phys_exotica/axol1tl/Data_ScoutingNano_withAXOscore/2024I/output_input_files_2024I.txt_4324.root': 'Events', 'root://xcache//store/group/phys_exotica/axol1tl/Data_ScoutingNano_withAXOscore/2024I/output_input_files_2024I.txt_4325.root': 'Events', 'root://xcache//store/group/phys_exotica/axol1tl/Data_ScoutingNano_withAXOscore/2024I/output_input_files_2024I.txt_4326.root': 'Events', 'root://xcache//store/group/phys_exotica/axol1tl/Data_ScoutingNano_withAXOscore/2024I/output_input_files_2024I.txt_4327.root': 'Events', 'root://xcache//store/group/phys_exotica/axol1tl/Data_ScoutingNano_withAXOscore/2024I/output_input_files_2024I.txt_4328.root': 'Events', 'root://xcache//store/group/phys_exotica/axol1tl/Data_ScoutingNano_withAXOscore/2024I/output_input_files_2024I.txt_4329.root': 'Events', 'root://xcache//store/group/phys_exotica/axol1tl/Data_ScoutingNano_withAXOscore/2024I/output_input_files_2024I.txt_4330.root': 'Events', 'root://xcache//store/group/phys_exotica/axol1tl/Data_ScoutingNano_withAXOscore/2024I/output_input_files_2024I.txt_4331.root': 'Events', 'root://xcache//store/group/phys_exotica/axol1tl/Data_ScoutingNano_withAXOscore/2024I/output_input_files_2024I.txt_4332.root': 'Events', 'root://xcache//store/group/phys_exotica/axol1tl/Data_ScoutingNano_withAXOscore/2024I/output_input_files_2024I.txt_4333.root': 'Events', 'root://xcache//store/group/phys_exotica/axol1tl/Data_ScoutingNano_withAXOscore/2024I/output_input_files_2024I.txt_4334.root': 'Events', 'root://xcache//store/group/phys_exotica/axol1tl/Data_ScoutingNano_withAXOscore/2024I/output_input_files_2024I.txt_4335.root': 'Events', 'root://xcache//store/group/phys_exotica/axol1tl/Data_ScoutingNano_withAXOscore/2024I/output_input_files_2024I.txt_4336.root': 'Events', 'root://xcache//store/group/phys_exotica/axol1tl/Data_ScoutingNano_withAXOscore/2024I/output_input_files_2024I.txt_4337.root': 'Events', 'root://xcache//store/group/phys_exotica/axol1tl/Data_ScoutingNano_withAXOscore/2024I/output_input_files_2024I.txt_4338.root': 'Events', 'root://xcache//store/group/phys_exotica/axol1tl/Data_ScoutingNano_withAXOscore/2024I/output_input_files_2024I.txt_4339.root': 'Events', 'root://xcache//store/group/phys_exotica/axol1tl/Data_ScoutingNano_withAXOscore/2024I/output_input_files_2024I.txt_4340.root': 'Events', 'root://xcache//store/group/phys_exotica/axol1tl/Data_ScoutingNano_withAXOscore/2024I/output_input_files_2024I.txt_4341.root': 'Events', 'root://xcache//store/group/phys_exotica/axol1tl/Data_ScoutingNano_withAXOscore/2024I/output_input_files_2024I.txt_4342.root': 'Events', 'root://xcache//store/group/phys_exotica/axol1tl/Data_ScoutingNano_withAXOscore/2024I/output_input_files_2024I.txt_4343.root': 'Events', 'root://xcache//store/group/phys_exotica/axol1tl/Data_ScoutingNano_withAXOscore/2024I/output_input_files_2024I.txt_4344.root': 'Events', 'root://xcache//store/group/phys_exotica/axol1tl/Data_ScoutingNano_withAXOscore/2024I/output_input_files_2024I.txt_4345.root': 'Events', 'root://xcache//store/group/phys_exotica/axol1tl/Data_ScoutingNano_withAXOscore/2024I/output_input_files_2024I.txt_4346.root': 'Events', 'root://xcache//store/group/phys_exotica/axol1tl/Data_ScoutingNano_withAXOscore/2024I/output_input_files_2024I.txt_4347.root': 'Events', 'root://xcache//store/group/phys_exotica/axol1tl/Data_ScoutingNano_withAXOscore/2024I/output_input_files_2024I.txt_4348.root': 'Events', 'root://xcache//store/group/phys_exotica/axol1tl/Data_ScoutingNano_withAXOscore/2024I/output_input_files_2024I.txt_4349.root': 'Events', 'root://xcache//store/group/phys_exotica/axol1tl/Data_ScoutingNano_withAXOscore/2024I/output_input_files_2024I.txt_4350.root': 'Events', 'root://xcache//store/group/phys_exotica/axol1tl/Data_ScoutingNano_withAXOscore/2024I/output_input_files_2024I.txt_4351.root': 'Events', 'root://xcache//store/group/phys_exotica/axol1tl/Data_ScoutingNano_withAXOscore/2024I/output_input_files_2024I.txt_4352.root': 'Events', 'root://xcache//store/group/phys_exotica/axol1tl/Data_ScoutingNano_withAXOscore/2024I/output_input_files_2024I.txt_4353.root': 'Events', 'root://xcache//store/group/phys_exotica/axol1tl/Data_ScoutingNano_withAXOscore/2024I/output_input_files_2024I.txt_4354.root': 'Events', 'root://xcache//store/group/phys_exotica/axol1tl/Data_ScoutingNano_withAXOscore/2024I/output_input_files_2024I.txt_4355.root': 'Events', 'root://xcache//store/group/phys_exotica/axol1tl/Data_ScoutingNano_withAXOscore/2024I/output_input_files_2024I.txt_4356.root': 'Events', 'root://xcache//store/group/phys_exotica/axol1tl/Data_ScoutingNano_withAXOscore/2024I/output_input_files_2024I.txt_4357.root': 'Events', 'root://xcache//store/group/phys_exotica/axol1tl/Data_ScoutingNano_withAXOscore/2024I/output_input_files_2024I.txt_4358.root': 'Events', 'root://xcache//store/group/phys_exotica/axol1tl/Data_ScoutingNano_withAXOscore/2024I/output_input_files_2024I.txt_4359.root': 'Events', 'root://xcache//store/group/phys_exotica/axol1tl/Data_ScoutingNano_withAXOscore/2024I/output_input_files_2024I.txt_4360.root': 'Events', 'root://xcache//store/group/phys_exotica/axol1tl/Data_ScoutingNano_withAXOscore/2024I/output_input_files_2024I.txt_4361.root': 'Events', 'root://xcache//store/group/phys_exotica/axol1tl/Data_ScoutingNano_withAXOscore/2024I/output_input_files_2024I.txt_4362.root': 'Events', 'root://xcache//store/group/phys_exotica/axol1tl/Data_ScoutingNano_withAXOscore/2024I/output_input_files_2024I.txt_4363.root': 'Events', 'root://xcache//store/group/phys_exotica/axol1tl/Data_ScoutingNano_withAXOscore/2024I/output_input_files_2024I.txt_4364.root': 'Events', 'root://xcache//store/group/phys_exotica/axol1tl/Data_ScoutingNano_withAXOscore/2024I/output_input_files_2024I.txt_4365.root': 'Events', 'root://xcache//store/group/phys_exotica/axol1tl/Data_ScoutingNano_withAXOscore/2024I/output_input_files_2024I.txt_4366.root': 'Events', 'root://xcache//store/group/phys_exotica/axol1tl/Data_ScoutingNano_withAXOscore/2024I/output_input_files_2024I.txt_4367.root': 'Events', 'root://xcache//store/group/phys_exotica/axol1tl/Data_ScoutingNano_withAXOscore/2024I/output_input_files_2024I.txt_4368.root': 'Events', 'root://xcache//store/group/phys_exotica/axol1tl/Data_ScoutingNano_withAXOscore/2024I/output_input_files_2024I.txt_4369.root': 'Events', 'root://xcache//store/group/phys_exotica/axol1tl/Data_ScoutingNano_withAXOscore/2024I/output_input_files_2024I.txt_4370.root': 'Events', 'root://xcache//store/group/phys_exotica/axol1tl/Data_ScoutingNano_withAXOscore/2024I/output_input_files_2024I.txt_4371.root': 'Events', 'root://xcache//store/group/phys_exotica/axol1tl/Data_ScoutingNano_withAXOscore/2024I/output_input_files_2024I.txt_4372.root': 'Events', 'root://xcache//store/group/phys_exotica/axol1tl/Data_ScoutingNano_withAXOscore/2024I/output_input_files_2024I.txt_4373.root': 'Events', 'root://xcache//store/group/phys_exotica/axol1tl/Data_ScoutingNano_withAXOscore/2024I/output_input_files_2024I.txt_4374.root': 'Events', 'root://xcache//store/group/phys_exotica/axol1tl/Data_ScoutingNano_withAXOscore/2024I/output_input_files_2024I.txt_4375.root': 'Events', 'root://xcache//store/group/phys_exotica/axol1tl/Data_ScoutingNano_withAXOscore/2024I/output_input_files_2024I.txt_4376.root': 'Events', 'root://xcache//store/group/phys_exotica/axol1tl/Data_ScoutingNano_withAXOscore/2024I/output_input_files_2024I.txt_4377.root': 'Events', 'root://xcache//store/group/phys_exotica/axol1tl/Data_ScoutingNano_withAXOscore/2024I/output_input_files_2024I.txt_4378.root': 'Events', 'root://xcache//store/group/phys_exotica/axol1tl/Data_ScoutingNano_withAXOscore/2024I/output_input_files_2024I.txt_4379.root': 'Events', 'root://xcache//store/group/phys_exotica/axol1tl/Data_ScoutingNano_withAXOscore/2024I/output_input_files_2024I.txt_4380.root': 'Events', 'root://xcache//store/group/phys_exotica/axol1tl/Data_ScoutingNano_withAXOscore/2024I/output_input_files_2024I.txt_4381.root': 'Events', 'root://xcache//store/group/phys_exotica/axol1tl/Data_ScoutingNano_withAXOscore/2024I/output_input_files_2024I.txt_4382.root': 'Events', 'root://xcache//store/group/phys_exotica/axol1tl/Data_ScoutingNano_withAXOscore/2024I/output_input_files_2024I.txt_4383.root': 'Events', 'root://xcache//store/group/phys_exotica/axol1tl/Data_ScoutingNano_withAXOscore/2024I/output_input_files_2024I.txt_4384.root': 'Events', 'root://xcache//store/group/phys_exotica/axol1tl/Data_ScoutingNano_withAXOscore/2024I/output_input_files_2024I.txt_4385.root': 'Events', 'root://xcache//store/group/phys_exotica/axol1tl/Data_ScoutingNano_withAXOscore/2024I/output_input_files_2024I.txt_4386.root': 'Events', 'root://xcache//store/group/phys_exotica/axol1tl/Data_ScoutingNano_withAXOscore/2024I/output_input_files_2024I.txt_4387.root': 'Events', 'root://xcache//store/group/phys_exotica/axol1tl/Data_ScoutingNano_withAXOscore/2024I/output_input_files_2024I.txt_4388.root': 'Events', 'root://xcache//store/group/phys_exotica/axol1tl/Data_ScoutingNano_withAXOscore/2024I/output_input_files_2024I.txt_4389.root': 'Events', 'root://xcache//store/group/phys_exotica/axol1tl/Data_ScoutingNano_withAXOscore/2024I/output_input_files_2024I.txt_4390.root': 'Events', 'root://xcache//store/group/phys_exotica/axol1tl/Data_ScoutingNano_withAXOscore/2024I/output_input_files_2024I.txt_4391.root': 'Events', 'root://xcache//store/group/phys_exotica/axol1tl/Data_ScoutingNano_withAXOscore/2024I/output_input_files_2024I.txt_4392.root': 'Events', 'root://xcache//store/group/phys_exotica/axol1tl/Data_ScoutingNano_withAXOscore/2024I/output_input_files_2024I.txt_4393.root': 'Events', 'root://xcache//store/group/phys_exotica/axol1tl/Data_ScoutingNano_withAXOscore/2024I/output_input_files_2024I.txt_4394.root': 'Events', 'root://xcache//store/group/phys_exotica/axol1tl/Data_ScoutingNano_withAXOscore/2024I/output_input_files_2024I.txt_4395.root': 'Events', 'root://xcache//store/group/phys_exotica/axol1tl/Data_ScoutingNano_withAXOscore/2024I/output_input_files_2024I.txt_4396.root': 'Events', 'root://xcache//store/group/phys_exotica/axol1tl/Data_ScoutingNano_withAXOscore/2024I/output_input_files_2024I.txt_4397.root': 'Events', 'root://xcache//store/group/phys_exotica/axol1tl/Data_ScoutingNano_withAXOscore/2024I/output_input_files_2024I.txt_4398.root': 'Events', 'root://xcache//store/group/phys_exotica/axol1tl/Data_ScoutingNano_withAXOscore/2024I/output_input_files_2024I.txt_4399.root': 'Events', 'root://xcache//store/group/phys_exotica/axol1tl/Data_ScoutingNano_withAXOscore/2024I/output_input_files_2024I.txt_4400.root': 'Events', 'root://xcache//store/group/phys_exotica/axol1tl/Data_ScoutingNano_withAXOscore/2024I/output_input_files_2024I.txt_4401.root': 'Events', 'root://xcache//store/group/phys_exotica/axol1tl/Data_ScoutingNano_withAXOscore/2024I/output_input_files_2024I.txt_4402.root': 'Events', 'root://xcache//store/group/phys_exotica/axol1tl/Data_ScoutingNano_withAXOscore/2024I/output_input_files_2024I.txt_4403.root': 'Events', 'root://xcache//store/group/phys_exotica/axol1tl/Data_ScoutingNano_withAXOscore/2024I/output_input_files_2024I.txt_4404.root': 'Events', 'root://xcache//store/group/phys_exotica/axol1tl/Data_ScoutingNano_withAXOscore/2024I/output_input_files_2024I.txt_4405.root': 'Events', 'root://xcache//store/group/phys_exotica/axol1tl/Data_ScoutingNano_withAXOscore/2024I/output_input_files_2024I.txt_4406.root': 'Events', 'root://xcache//store/group/phys_exotica/axol1tl/Data_ScoutingNano_withAXOscore/2024I/output_input_files_2024I.txt_4407.root': 'Events', 'root://xcache//store/group/phys_exotica/axol1tl/Data_ScoutingNano_withAXOscore/2024I/output_input_files_2024I.txt_4408.root': 'Events', 'root://xcache//store/group/phys_exotica/axol1tl/Data_ScoutingNano_withAXOscore/2024I/output_input_files_2024I.txt_4409.root': 'Events', 'root://xcache//store/group/phys_exotica/axol1tl/Data_ScoutingNano_withAXOscore/2024I/output_input_files_2024I.txt_4410.root': 'Events', 'root://xcache//store/group/phys_exotica/axol1tl/Data_ScoutingNano_withAXOscore/2024I/output_input_files_2024I.txt_4411.root': 'Events', 'root://xcache//store/group/phys_exotica/axol1tl/Data_ScoutingNano_withAXOscore/2024I/output_input_files_2024I.txt_4412.root': 'Events', 'root://xcache//store/group/phys_exotica/axol1tl/Data_ScoutingNano_withAXOscore/2024I/output_input_files_2024I.txt_4413.root': 'Events', 'root://xcache//store/group/phys_exotica/axol1tl/Data_ScoutingNano_withAXOscore/2024I/output_input_files_2024I.txt_4414.root': 'Events', 'root://xcache//store/group/phys_exotica/axol1tl/Data_ScoutingNano_withAXOscore/2024I/output_input_files_2024I.txt_4415.root': 'Events', 'root://xcache//store/group/phys_exotica/axol1tl/Data_ScoutingNano_withAXOscore/2024I/output_input_files_2024I.txt_4416.root': 'Events', 'root://xcache//store/group/phys_exotica/axol1tl/Data_ScoutingNano_withAXOscore/2024I/output_input_files_2024I.txt_4417.root': 'Events', 'root://xcache//store/group/phys_exotica/axol1tl/Data_ScoutingNano_withAXOscore/2024I/output_input_files_2024I.txt_4418.root': 'Events', 'root://xcache//store/group/phys_exotica/axol1tl/Data_ScoutingNano_withAXOscore/2024I/output_input_files_2024I.txt_4419.root': 'Events', 'root://xcache//store/group/phys_exotica/axol1tl/Data_ScoutingNano_withAXOscore/2024I/output_input_files_2024I.txt_4420.root': 'Events', 'root://xcache//store/group/phys_exotica/axol1tl/Data_ScoutingNano_withAXOscore/2024I/output_input_files_2024I.txt_4421.root': 'Events', 'root://xcache//store/group/phys_exotica/axol1tl/Data_ScoutingNano_withAXOscore/2024I/output_input_files_2024I.txt_4422.root': 'Events', 'root://xcache//store/group/phys_exotica/axol1tl/Data_ScoutingNano_withAXOscore/2024I/output_input_files_2024I.txt_4423.root': 'Events', 'root://xcache//store/group/phys_exotica/axol1tl/Data_ScoutingNano_withAXOscore/2024I/output_input_files_2024I.txt_4424.root': 'Events', 'root://xcache//store/group/phys_exotica/axol1tl/Data_ScoutingNano_withAXOscore/2024I/output_input_files_2024I.txt_4425.root': 'Events', 'root://xcache//store/group/phys_exotica/axol1tl/Data_ScoutingNano_withAXOscore/2024I/output_input_files_2024I.txt_4426.root': 'Events', 'root://xcache//store/group/phys_exotica/axol1tl/Data_ScoutingNano_withAXOscore/2024I/output_input_files_2024I.txt_4427.root': 'Events', 'root://xcache//store/group/phys_exotica/axol1tl/Data_ScoutingNano_withAXOscore/2024I/output_input_files_2024I.txt_4428.root': 'Events', 'root://xcache//store/group/phys_exotica/axol1tl/Data_ScoutingNano_withAXOscore/2024I/output_input_files_2024I.txt_4429.root': 'Events', 'root://xcache//store/group/phys_exotica/axol1tl/Data_ScoutingNano_withAXOscore/2024I/output_input_files_2024I.txt_4430.root': 'Events', 'root://xcache//store/group/phys_exotica/axol1tl/Data_ScoutingNano_withAXOscore/2024I/output_input_files_2024I.txt_4431.root': 'Events', 'root://xcache//store/group/phys_exotica/axol1tl/Data_ScoutingNano_withAXOscore/2024I/output_input_files_2024I.txt_4432.root': 'Events', 'root://xcache//store/group/phys_exotica/axol1tl/Data_ScoutingNano_withAXOscore/2024I/output_input_files_2024I.txt_4433.root': 'Events', 'root://xcache//store/group/phys_exotica/axol1tl/Data_ScoutingNano_withAXOscore/2024I/output_input_files_2024I.txt_4434.root': 'Events', 'root://xcache//store/group/phys_exotica/axol1tl/Data_ScoutingNano_withAXOscore/2024I/output_input_files_2024I.txt_4435.root': 'Events', 'root://xcache//store/group/phys_exotica/axol1tl/Data_ScoutingNano_withAXOscore/2024I/output_input_files_2024I.txt_4436.root': 'Events', 'root://xcache//store/group/phys_exotica/axol1tl/Data_ScoutingNano_withAXOscore/2024I/output_input_files_2024I.txt_4437.root': 'Events', 'root://xcache//store/group/phys_exotica/axol1tl/Data_ScoutingNano_withAXOscore/2024I/output_input_files_2024I.txt_4438.root': 'Events', 'root://xcache//store/group/phys_exotica/axol1tl/Data_ScoutingNano_withAXOscore/2024I/output_input_files_2024I.txt_4439.root': 'Events', 'root://xcache//store/group/phys_exotica/axol1tl/Data_ScoutingNano_withAXOscore/2024I/output_input_files_2024I.txt_4440.root': 'Events', 'root://xcache//store/group/phys_exotica/axol1tl/Data_ScoutingNano_withAXOscore/2024I/output_input_files_2024I.txt_4441.root': 'Events', 'root://xcache//store/group/phys_exotica/axol1tl/Data_ScoutingNano_withAXOscore/2024I/output_input_files_2024I.txt_4442.root': 'Events', 'root://xcache//store/group/phys_exotica/axol1tl/Data_ScoutingNano_withAXOscore/2024I/output_input_files_2024I.txt_4443.root': 'Events', 'root://xcache//store/group/phys_exotica/axol1tl/Data_ScoutingNano_withAXOscore/2024I/output_input_files_2024I.txt_4444.root': 'Events', 'root://xcache//store/group/phys_exotica/axol1tl/Data_ScoutingNano_withAXOscore/2024I/output_input_files_2024I.txt_4445.root': 'Events', 'root://xcache//store/group/phys_exotica/axol1tl/Data_ScoutingNano_withAXOscore/2024I/output_input_files_2024I.txt_4446.root': 'Events', 'root://xcache//store/group/phys_exotica/axol1tl/Data_ScoutingNano_withAXOscore/2024I/output_input_files_2024I.txt_4447.root': 'Events', 'root://xcache//store/group/phys_exotica/axol1tl/Data_ScoutingNano_withAXOscore/2024I/output_input_files_2024I.txt_4448.root': 'Events', 'root://xcache//store/group/phys_exotica/axol1tl/Data_ScoutingNano_withAXOscore/2024I/output_input_files_2024I.txt_4449.root': 'Events', 'root://xcache//store/group/phys_exotica/axol1tl/Data_ScoutingNano_withAXOscore/2024I/output_input_files_2024I.txt_4450.root': 'Events', 'root://xcache//store/group/phys_exotica/axol1tl/Data_ScoutingNano_withAXOscore/2024I/output_input_files_2024I.txt_4451.root': 'Events', 'root://xcache//store/group/phys_exotica/axol1tl/Data_ScoutingNano_withAXOscore/2024I/output_input_files_2024I.txt_4452.root': 'Events', 'root://xcache//store/group/phys_exotica/axol1tl/Data_ScoutingNano_withAXOscore/2024I/output_input_files_2024I.txt_4453.root': 'Events', 'root://xcache//store/group/phys_exotica/axol1tl/Data_ScoutingNano_withAXOscore/2024I/output_input_files_2024I.txt_4454.root': 'Events', 'root://xcache//store/group/phys_exotica/axol1tl/Data_ScoutingNano_withAXOscore/2024I/output_input_files_2024I.txt_4455.root': 'Events', 'root://xcache//store/group/phys_exotica/axol1tl/Data_ScoutingNano_withAXOscore/2024I/output_input_files_2024I.txt_4456.root': 'Events', 'root://xcache//store/group/phys_exotica/axol1tl/Data_ScoutingNano_withAXOscore/2024I/output_input_files_2024I.txt_4457.root': 'Events', 'root://xcache//store/group/phys_exotica/axol1tl/Data_ScoutingNano_withAXOscore/2024I/output_input_files_2024I.txt_4458.root': 'Events', 'root://xcache//store/group/phys_exotica/axol1tl/Data_ScoutingNano_withAXOscore/2024I/output_input_files_2024I.txt_4459.root': 'Events', 'root://xcache//store/group/phys_exotica/axol1tl/Data_ScoutingNano_withAXOscore/2024I/output_input_files_2024I.txt_4460.root': 'Events', 'root://xcache//store/group/phys_exotica/axol1tl/Data_ScoutingNano_withAXOscore/2024I/output_input_files_2024I.txt_4461.root': 'Events', 'root://xcache//store/group/phys_exotica/axol1tl/Data_ScoutingNano_withAXOscore/2024I/output_input_files_2024I.txt_4462.root': 'Events', 'root://xcache//store/group/phys_exotica/axol1tl/Data_ScoutingNano_withAXOscore/2024I/output_input_files_2024I.txt_4463.root': 'Events', 'root://xcache//store/group/phys_exotica/axol1tl/Data_ScoutingNano_withAXOscore/2024I/output_input_files_2024I.txt_4464.root': 'Events', 'root://xcache//store/group/phys_exotica/axol1tl/Data_ScoutingNano_withAXOscore/2024I/output_input_files_2024I.txt_4465.root': 'Events', 'root://xcache//store/group/phys_exotica/axol1tl/Data_ScoutingNano_withAXOscore/2024I/output_input_files_2024I.txt_4466.root': 'Events', 'root://xcache//store/group/phys_exotica/axol1tl/Data_ScoutingNano_withAXOscore/2024I/output_input_files_2024I.txt_4467.root': 'Events', 'root://xcache//store/group/phys_exotica/axol1tl/Data_ScoutingNano_withAXOscore/2024I/output_input_files_2024I.txt_4468.root': 'Events', 'root://xcache//store/group/phys_exotica/axol1tl/Data_ScoutingNano_withAXOscore/2024I/output_input_files_2024I.txt_4469.root': 'Events', 'root://xcache//store/group/phys_exotica/axol1tl/Data_ScoutingNano_withAXOscore/2024I/output_input_files_2024I.txt_4470.root': 'Events', 'root://xcache//store/group/phys_exotica/axol1tl/Data_ScoutingNano_withAXOscore/2024I/output_input_files_2024I.txt_4471.root': 'Events', 'root://xcache//store/group/phys_exotica/axol1tl/Data_ScoutingNano_withAXOscore/2024I/output_input_files_2024I.txt_4472.root': 'Events', 'root://xcache//store/group/phys_exotica/axol1tl/Data_ScoutingNano_withAXOscore/2024I/output_input_files_2024I.txt_4473.root': 'Events', 'root://xcache//store/group/phys_exotica/axol1tl/Data_ScoutingNano_withAXOscore/2024I/output_input_files_2024I.txt_4474.root': 'Events', 'root://xcache//store/group/phys_exotica/axol1tl/Data_ScoutingNano_withAXOscore/2024I/output_input_files_2024I.txt_4475.root': 'Events', 'root://xcache//store/group/phys_exotica/axol1tl/Data_ScoutingNano_withAXOscore/2024I/output_input_files_2024I.txt_4476.root': 'Events', 'root://xcache//store/group/phys_exotica/axol1tl/Data_ScoutingNano_withAXOscore/2024I/output_input_files_2024I.txt_4477.root': 'Events', 'root://xcache//store/group/phys_exotica/axol1tl/Data_ScoutingNano_withAXOscore/2024I/output_input_files_2024I.txt_4478.root': 'Events', 'root://xcache//store/group/phys_exotica/axol1tl/Data_ScoutingNano_withAXOscore/2024I/output_input_files_2024I.txt_4479.root': 'Events', 'root://xcache//store/group/phys_exotica/axol1tl/Data_ScoutingNano_withAXOscore/2024I/output_input_files_2024I.txt_4480.root': 'Events', 'root://xcache//store/group/phys_exotica/axol1tl/Data_ScoutingNano_withAXOscore/2024I/output_input_files_2024I.txt_4481.root': 'Events', 'root://xcache//store/group/phys_exotica/axol1tl/Data_ScoutingNano_withAXOscore/2024I/output_input_files_2024I.txt_4482.root': 'Events', 'root://xcache//store/group/phys_exotica/axol1tl/Data_ScoutingNano_withAXOscore/2024I/output_input_files_2024I.txt_4483.root': 'Events', 'root://xcache//store/group/phys_exotica/axol1tl/Data_ScoutingNano_withAXOscore/2024I/output_input_files_2024I.txt_4484.root': 'Events', 'root://xcache//store/group/phys_exotica/axol1tl/Data_ScoutingNano_withAXOscore/2024I/output_input_files_2024I.txt_4485.root': 'Events', 'root://xcache//store/group/phys_exotica/axol1tl/Data_ScoutingNano_withAXOscore/2024I/output_input_files_2024I.txt_4486.root': 'Events', 'root://xcache//store/group/phys_exotica/axol1tl/Data_ScoutingNano_withAXOscore/2024I/output_input_files_2024I.txt_4487.root': 'Events', 'root://xcache//store/group/phys_exotica/axol1tl/Data_ScoutingNano_withAXOscore/2024I/output_input_files_2024I.txt_4488.root': 'Events', 'root://xcache//store/group/phys_exotica/axol1tl/Data_ScoutingNano_withAXOscore/2024I/output_input_files_2024I.txt_4489.root': 'Events', 'root://xcache//store/group/phys_exotica/axol1tl/Data_ScoutingNano_withAXOscore/2024I/output_input_files_2024I.txt_4490.root': 'Events', 'root://xcache//store/group/phys_exotica/axol1tl/Data_ScoutingNano_withAXOscore/2024I/output_input_files_2024I.txt_4491.root': 'Events', 'root://xcache//store/group/phys_exotica/axol1tl/Data_ScoutingNano_withAXOscore/2024I/output_input_files_2024I.txt_4492.root': 'Events', 'root://xcache//store/group/phys_exotica/axol1tl/Data_ScoutingNano_withAXOscore/2024I/output_input_files_2024I.txt_4493.root': 'Events', 'root://xcache//store/group/phys_exotica/axol1tl/Data_ScoutingNano_withAXOscore/2024I/output_input_files_2024I.txt_4494.root': 'Events', 'root://xcache//store/group/phys_exotica/axol1tl/Data_ScoutingNano_withAXOscore/2024I/output_input_files_2024I.txt_4495.root': 'Events', 'root://xcache//store/group/phys_exotica/axol1tl/Data_ScoutingNano_withAXOscore/2024I/output_input_files_2024I.txt_4496.root': 'Events', 'root://xcache//store/group/phys_exotica/axol1tl/Data_ScoutingNano_withAXOscore/2024I/output_input_files_2024I.txt_4497.root': 'Events', 'root://xcache//store/group/phys_exotica/axol1tl/Data_ScoutingNano_withAXOscore/2024I/output_input_files_2024I.txt_4498.root': 'Events', 'root://xcache//store/group/phys_exotica/axol1tl/Data_ScoutingNano_withAXOscore/2024I/output_input_files_2024I.txt_4499.root': 'Events', 'root://xcache//store/group/phys_exotica/axol1tl/Data_ScoutingNano_withAXOscore/2024I/output_input_files_2024I.txt_4500.root': 'Events', 'root://xcache//store/group/phys_exotica/axol1tl/Data_ScoutingNano_withAXOscore/2024I/output_input_files_2024I.txt_4501.root': 'Events', 'root://xcache//store/group/phys_exotica/axol1tl/Data_ScoutingNano_withAXOscore/2024I/output_input_files_2024I.txt_4502.root': 'Events', 'root://xcache//store/group/phys_exotica/axol1tl/Data_ScoutingNano_withAXOscore/2024I/output_input_files_2024I.txt_4503.root': 'Events', 'root://xcache//store/group/phys_exotica/axol1tl/Data_ScoutingNano_withAXOscore/2024I/output_input_files_2024I.txt_4504.root': 'Events', 'root://xcache//store/group/phys_exotica/axol1tl/Data_ScoutingNano_withAXOscore/2024I/output_input_files_2024I.txt_4505.root': 'Events', 'root://xcache//store/group/phys_exotica/axol1tl/Data_ScoutingNano_withAXOscore/2024I/output_input_files_2024I.txt_4506.root': 'Events', 'root://xcache//store/group/phys_exotica/axol1tl/Data_ScoutingNano_withAXOscore/2024I/output_input_files_2024I.txt_4507.root': 'Events', 'root://xcache//store/group/phys_exotica/axol1tl/Data_ScoutingNano_withAXOscore/2024I/output_input_files_2024I.txt_4508.root': 'Events', 'root://xcache//store/group/phys_exotica/axol1tl/Data_ScoutingNano_withAXOscore/2024I/output_input_files_2024I.txt_4509.root': 'Events', 'root://xcache//store/group/phys_exotica/axol1tl/Data_ScoutingNano_withAXOscore/2024I/output_input_files_2024I.txt_4510.root': 'Events', 'root://xcache//store/group/phys_exotica/axol1tl/Data_ScoutingNano_withAXOscore/2024I/output_input_files_2024I.txt_4511.root': 'Events', 'root://xcache//store/group/phys_exotica/axol1tl/Data_ScoutingNano_withAXOscore/2024I/output_input_files_2024I.txt_4512.root': 'Events', 'root://xcache//store/group/phys_exotica/axol1tl/Data_ScoutingNano_withAXOscore/2024I/output_input_files_2024I.txt_4513.root': 'Events', 'root://xcache//store/group/phys_exotica/axol1tl/Data_ScoutingNano_withAXOscore/2024I/output_input_files_2024I.txt_4514.root': 'Events', 'root://xcache//store/group/phys_exotica/axol1tl/Data_ScoutingNano_withAXOscore/2024I/output_input_files_2024I.txt_4515.root': 'Events', 'root://xcache//store/group/phys_exotica/axol1tl/Data_ScoutingNano_withAXOscore/2024I/output_input_files_2024I.txt_4516.root': 'Events', 'root://xcache//store/group/phys_exotica/axol1tl/Data_ScoutingNano_withAXOscore/2024I/output_input_files_2024I.txt_4517.root': 'Events', 'root://xcache//store/group/phys_exotica/axol1tl/Data_ScoutingNano_withAXOscore/2024I/output_input_files_2024I.txt_4518.root': 'Events', 'root://xcache//store/group/phys_exotica/axol1tl/Data_ScoutingNano_withAXOscore/2024I/output_input_files_2024I.txt_4519.root': 'Events', 'root://xcache//store/group/phys_exotica/axol1tl/Data_ScoutingNano_withAXOscore/2024I/output_input_files_2024I.txt_4520.root': 'Events', 'root://xcache//store/group/phys_exotica/axol1tl/Data_ScoutingNano_withAXOscore/2024I/output_input_files_2024I.txt_4521.root': 'Events', 'root://xcache//store/group/phys_exotica/axol1tl/Data_ScoutingNano_withAXOscore/2024I/output_input_files_2024I.txt_4522.root': 'Events', 'root://xcache//store/group/phys_exotica/axol1tl/Data_ScoutingNano_withAXOscore/2024I/output_input_files_2024I.txt_4523.root': 'Events', 'root://xcache//store/group/phys_exotica/axol1tl/Data_ScoutingNano_withAXOscore/2024I/output_input_files_2024I.txt_4524.root': 'Events', 'root://xcache//store/group/phys_exotica/axol1tl/Data_ScoutingNano_withAXOscore/2024I/output_input_files_2024I.txt_4525.root': 'Events', 'root://xcache//store/group/phys_exotica/axol1tl/Data_ScoutingNano_withAXOscore/2024I/output_input_files_2024I.txt_4526.root': 'Events', 'root://xcache//store/group/phys_exotica/axol1tl/Data_ScoutingNano_withAXOscore/2024I/output_input_files_2024I.txt_4527.root': 'Events', 'root://xcache//store/group/phys_exotica/axol1tl/Data_ScoutingNano_withAXOscore/2024I/output_input_files_2024I.txt_4528.root': 'Events', 'root://xcache//store/group/phys_exotica/axol1tl/Data_ScoutingNano_withAXOscore/2024I/output_input_files_2024I.txt_4529.root': 'Events', 'root://xcache//store/group/phys_exotica/axol1tl/Data_ScoutingNano_withAXOscore/2024I/output_input_files_2024I.txt_4530.root': 'Events', 'root://xcache//store/group/phys_exotica/axol1tl/Data_ScoutingNano_withAXOscore/2024I/output_input_files_2024I.txt_4531.root': 'Events', 'root://xcache//store/group/phys_exotica/axol1tl/Data_ScoutingNano_withAXOscore/2024I/output_input_files_2024I.txt_4532.root': 'Events', 'root://xcache//store/group/phys_exotica/axol1tl/Data_ScoutingNano_withAXOscore/2024I/output_input_files_2024I.txt_4533.root': 'Events', 'root://xcache//store/group/phys_exotica/axol1tl/Data_ScoutingNano_withAXOscore/2024I/output_input_files_2024I.txt_4534.root': 'Events', 'root://xcache//store/group/phys_exotica/axol1tl/Data_ScoutingNano_withAXOscore/2024I/output_input_files_2024I.txt_4535.root': 'Events', 'root://xcache//store/group/phys_exotica/axol1tl/Data_ScoutingNano_withAXOscore/2024I/output_input_files_2024I.txt_4536.root': 'Events', 'root://xcache//store/group/phys_exotica/axol1tl/Data_ScoutingNano_withAXOscore/2024I/output_input_files_2024I.txt_4537.root': 'Events', 'root://xcache//store/group/phys_exotica/axol1tl/Data_ScoutingNano_withAXOscore/2024I/output_input_files_2024I.txt_4538.root': 'Events', 'root://xcache//store/group/phys_exotica/axol1tl/Data_ScoutingNano_withAXOscore/2024I/output_input_files_2024I.txt_4539.root': 'Events', 'root://xcache//store/group/phys_exotica/axol1tl/Data_ScoutingNano_withAXOscore/2024I/output_input_files_2024I.txt_4540.root': 'Events', 'root://xcache//store/group/phys_exotica/axol1tl/Data_ScoutingNano_withAXOscore/2024I/output_input_files_2024I.txt_4541.root': 'Events', 'root://xcache//store/group/phys_exotica/axol1tl/Data_ScoutingNano_withAXOscore/2024I/output_input_files_2024I.txt_4542.root': 'Events', 'root://xcache//store/group/phys_exotica/axol1tl/Data_ScoutingNano_withAXOscore/2024I/output_input_files_2024I.txt_4543.root': 'Events', 'root://xcache//store/group/phys_exotica/axol1tl/Data_ScoutingNano_withAXOscore/2024I/output_input_files_2024I.txt_4544.root': 'Events', 'root://xcache//store/group/phys_exotica/axol1tl/Data_ScoutingNano_withAXOscore/2024I/output_input_files_2024I.txt_4545.root': 'Events', 'root://xcache//store/group/phys_exotica/axol1tl/Data_ScoutingNano_withAXOscore/2024I/output_input_files_2024I.txt_4546.root': 'Events', 'root://xcache//store/group/phys_exotica/axol1tl/Data_ScoutingNano_withAXOscore/2024I/output_input_files_2024I.txt_4547.root': 'Events', 'root://xcache//store/group/phys_exotica/axol1tl/Data_ScoutingNano_withAXOscore/2024I/output_input_files_2024I.txt_4548.root': 'Events', 'root://xcache//store/group/phys_exotica/axol1tl/Data_ScoutingNano_withAXOscore/2024I/output_input_files_2024I.txt_4549.root': 'Events', 'root://xcache//store/group/phys_exotica/axol1tl/Data_ScoutingNano_withAXOscore/2024I/output_input_files_2024I.txt_4550.root': 'Events', 'root://xcache//store/group/phys_exotica/axol1tl/Data_ScoutingNano_withAXOscore/2024I/output_input_files_2024I.txt_4551.root': 'Events', 'root://xcache//store/group/phys_exotica/axol1tl/Data_ScoutingNano_withAXOscore/2024I/output_input_files_2024I.txt_4552.root': 'Events', 'root://xcache//store/group/phys_exotica/axol1tl/Data_ScoutingNano_withAXOscore/2024I/output_input_files_2024I.txt_4553.root': 'Events', 'root://xcache//store/group/phys_exotica/axol1tl/Data_ScoutingNano_withAXOscore/2024I/output_input_files_2024I.txt_4554.root': 'Events', 'root://xcache//store/group/phys_exotica/axol1tl/Data_ScoutingNano_withAXOscore/2024I/output_input_files_2024I.txt_4555.root': 'Events', 'root://xcache//store/group/phys_exotica/axol1tl/Data_ScoutingNano_withAXOscore/2024I/output_input_files_2024I.txt_4556.root': 'Events', 'root://xcache//store/group/phys_exotica/axol1tl/Data_ScoutingNano_withAXOscore/2024I/output_input_files_2024I.txt_4557.root': 'Events', 'root://xcache//store/group/phys_exotica/axol1tl/Data_ScoutingNano_withAXOscore/2024I/output_input_files_2024I.txt_4558.root': 'Events', 'root://xcache//store/group/phys_exotica/axol1tl/Data_ScoutingNano_withAXOscore/2024I/output_input_files_2024I.txt_4559.root': 'Events', 'root://xcache//store/group/phys_exotica/axol1tl/Data_ScoutingNano_withAXOscore/2024I/output_input_files_2024I.txt_4560.root': 'Events', 'root://xcache//store/group/phys_exotica/axol1tl/Data_ScoutingNano_withAXOscore/2024I/output_input_files_2024I.txt_4561.root': 'Events', 'root://xcache//store/group/phys_exotica/axol1tl/Data_ScoutingNano_withAXOscore/2024I/output_input_files_2024I.txt_4562.root': 'Events', 'root://xcache//store/group/phys_exotica/axol1tl/Data_ScoutingNano_withAXOscore/2024I/output_input_files_2024I.txt_4563.root': 'Events', 'root://xcache//store/group/phys_exotica/axol1tl/Data_ScoutingNano_withAXOscore/2024I/output_input_files_2024I.txt_4564.root': 'Events', 'root://xcache//store/group/phys_exotica/axol1tl/Data_ScoutingNano_withAXOscore/2024I/output_input_files_2024I.txt_4565.root': 'Events', 'root://xcache//store/group/phys_exotica/axol1tl/Data_ScoutingNano_withAXOscore/2024I/output_input_files_2024I.txt_4566.root': 'Events', 'root://xcache//store/group/phys_exotica/axol1tl/Data_ScoutingNano_withAXOscore/2024I/output_input_files_2024I.txt_4567.root': 'Events', 'root://xcache//store/group/phys_exotica/axol1tl/Data_ScoutingNano_withAXOscore/2024I/output_input_files_2024I.txt_4568.root': 'Events', 'root://xcache//store/group/phys_exotica/axol1tl/Data_ScoutingNano_withAXOscore/2024I/output_input_files_2024I.txt_4569.root': 'Events', 'root://xcache//store/group/phys_exotica/axol1tl/Data_ScoutingNano_withAXOscore/2024I/output_input_files_2024I.txt_4570.root': 'Events', 'root://xcache//store/group/phys_exotica/axol1tl/Data_ScoutingNano_withAXOscore/2024I/output_input_files_2024I.txt_4571.root': 'Events', 'root://xcache//store/group/phys_exotica/axol1tl/Data_ScoutingNano_withAXOscore/2024I/output_input_files_2024I.txt_4572.root': 'Events', 'root://xcache//store/group/phys_exotica/axol1tl/Data_ScoutingNano_withAXOscore/2024I/output_input_files_2024I.txt_4573.root': 'Events'}\n"
     ]
    }
   ],
   "source": [
    "last_10 = int(len(dataset[\"2024I\"]['files'])/10)\n",
    "sliced_dict = dict(list(dataset[\"2024I\"]['files'].items())[-last_10:])\n",
    "dataset[\"2024I_10\"] = {\"files\":sliced_dict}\n",
    "\n"
   ]
  },
  {
   "cell_type": "code",
   "execution_count": null,
   "id": "c41e7814-c829-4d65-89dc-feda2a98655a",
   "metadata": {},
   "outputs": [],
   "source": []
  },
  {
   "cell_type": "code",
   "execution_count": 71,
   "id": "ebc29cfd-caa7-4564-bfb3-cbc0a9c19700",
   "metadata": {},
   "outputs": [],
   "source": [
    "with open(\"file_list.json\", \"w\") as f:\n",
    "    json.dump(dataset, f)"
   ]
  },
  {
   "cell_type": "code",
   "execution_count": 2,
   "id": "2cf0583f-d8db-4d6f-976a-0716ad55bfee",
   "metadata": {},
   "outputs": [
    {
     "name": "stdout",
     "output_type": "stream",
     "text": [
      "<class 'list'>\n",
      "['DST_PFScouting_AXONominal', 'DST_PFScouting_ZeroBias']\n"
     ]
    }
   ],
   "source": []
  },
  {
   "cell_type": "code",
   "execution_count": null,
   "id": "f6bdce39-6bb0-439c-967b-fd4b026406c9",
   "metadata": {},
   "outputs": [],
   "source": []
  }
 ],
 "metadata": {
  "kernelspec": {
   "display_name": "Python 3 (ipykernel)",
   "language": "python",
   "name": "python3"
  },
  "language_info": {
   "codemirror_mode": {
    "name": "ipython",
    "version": 3
   },
   "file_extension": ".py",
   "mimetype": "text/x-python",
   "name": "python",
   "nbconvert_exporter": "python",
   "pygments_lexer": "ipython3",
   "version": "3.12.5"
  }
 },
 "nbformat": 4,
 "nbformat_minor": 5
}
